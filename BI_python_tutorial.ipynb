{
  "cells": [
    {
      "cell_type": "markdown",
      "metadata": {
        "id": "view-in-github",
        "colab_type": "text"
      },
      "source": [
        "<a href=\"https://colab.research.google.com/github/Vidhya-13/BI/blob/main/BI_python_tutorial.ipynb\" target=\"_parent\"><img src=\"https://colab.research.google.com/assets/colab-badge.svg\" alt=\"Open In Colab\"/></a>"
      ]
    },
    {
      "cell_type": "markdown",
      "source": [
        "# Python tutorial\n",
        "\n",
        "This tutorial is about the programming language Python and how to use it for data analysis. Part 2 of this tutorial is a quite extensive recap of basic Python syntax and constructs; this should be doable for students who are comfortable with programming (e.g., from previous experience with other programming languages, like Matlab or R). If you're not comfortable with programming, or you notice during this tutorial that you get stuck often, we recommend working through the free [Codecademy course](https://www.codecademy.com/learn/learn-python) up to and including unit 8 (loops). You don't have to do the quizzes (because you need to pay for that).\n",
        "\n",
        "Given that you have learned the basics of Python's syntax, this tutorial will recap some of the most important aspects of Python (section 2.: General Python). Then, 'numpy' (Python's scientific computing package) is discussed and explained and followed by a section on 'Matplotlib' (Python's plotting package). Finally, this tutorial ends with a section on how to interact with Nifti-files - the file format used by most (MRI) neuroimaging data.\n",
        "\n",
        "## What you'll learn\n",
        "After this tutorial ... \n",
        "\n",
        "* you know how to work with Jupyter notebooks\n",
        "* you understand Python's basic syntax\n",
        "* you know how to leverage Numpy's powerful array-based functionality\n",
        "* you can plot data in various ways using Matplotlib\n",
        "* you know how to load, manipulate, and analyze Nifti-files\n",
        "\n",
        "In sum: at the end of this tutorial, you are able to implement any computation/routine necessary for complex fMRI analysis and/or modeling using a combination of basic Python and Numpy.\n"
      ],
      "metadata": {
        "id": "UGf-oKzAsBpA"
      }
    },
    {
      "cell_type": "markdown",
      "source": [
        "### Contents:\n",
        "\n",
        "1. Jupyter notebooks\n",
        "2. General Python\n",
        "3. Numpy\n",
        "4. Matplotlib / plotting\n",
        "5. Interacting with Nifti-files\n",
        "\n",
        "But before anything else, let's get more familiar with the Jupyter notebook environment!"
      ],
      "metadata": {
        "id": "E7dDCGpAsBpD"
      }
    },
    {
      "cell_type": "markdown",
      "source": [
        "## 1. Jupyter Notebooks\n",
        "\n",
        "So, what are Jupyter notebooks, actually? Basically, using Jupyter notebooks is like using the web-browser as a kind of editor from which you can run Python code, similar to the MATLAB interactive editor or RStudio. The cool thing about these notebooks is that they allow you to mix code \"cells\" (see below) and text \"cells\" (such as this one). The (printed) output from code blocks are displayed right below the code blocks themselves. \n",
        "\n",
        "Jupyter notebooks have two **modes**: edit mode and command mode.\n",
        "\n",
        "- *Command mode* is indicated by a grey cell border with a blue left margin (as is the case now!): When you are in command mode, you are able to edit the notebook as a whole, but not type into individual cells. Most importantly, in command mode, the keyboard is mapped to a set of shortcuts that let you perform notebook and cell actions efficiently (some shortcuts in command mode will be discussed later!). Enter command mode by pressing **Esc** or using the mouse to click outside a cell’s editor area; <br><br>\n",
        "- *Edit mode* is indicated by a green cell border and a prompt showing in the editor area: When a cell is in edit mode, you can type into the cell, like a normal text editor. Enter edit mode by pressing Enter or using the mouse to double-click on a cell’s editor area.\n",
        "\n",
        "When you're reading and scrolling through the tutorials, you'll be in the command mode mostly. But once you have to program (or write) stuff yourself, you have to switch to edit mode. But we'll get to that. First, we'll explain something about the two types of cells: code cells and text cells."
      ],
      "metadata": {
        "id": "AebKpAmQsBpE"
      }
    },
    {
      "cell_type": "markdown",
      "source": [
        "### 1.1. Code cells\n",
        "\n",
        "Code cells are the place to write your Python code, similar to MATLAB 'code sections' (which are usually deliniated by %%). Importantly, unlike the interactive editors in RStudio and MATLAB, a code cell in Jupyter notebooks can only be run all at once. This means you cannot run it line-by-line, but you have to run the entire cell!\n",
        "\n",
        "#### 1.1.1. Running cells\n",
        "Let's look at an example. Below, you see a code-cell with two print-statements. To run the cell, select it (i.e., the cell should have a green or blue frame around it; doesn't matter whether you're in edit or command mode), and click on the \"&#9654; `Run`\" icon or press `ctr+Enter`). Try it with the cell below!"
      ],
      "metadata": {
        "id": "my5pHxlzsBpF"
      }
    },
    {
      "cell_type": "code",
      "source": [
        "print(\"I'm printing Python code\")\n",
        "print(3 + 3)"
      ],
      "outputs": [],
      "execution_count": null,
      "metadata": {
        "id": "cvZyReASsBpG"
      }
    },
    {
      "cell_type": "markdown",
      "source": [
        "(You might be confused because we use the `print` statement with brackets -- `print()` -- while you've learned in Codecademy that you should use `print` without brackets. This is because Codecademy uses an old version of Python, Python2.7, while we use a newer version, Python3.5. In the new version, `print()` should be used with brackets!)"
      ],
      "metadata": {
        "id": "2EpMS4nisBpH"
      }
    },
    {
      "cell_type": "markdown",
      "source": [
        "#### 1.1.2. Stop running/execution of cells\n",
        "Sometimes, you might want to quit the execution of a code-cell because it's taking too long (or worse, you created an infinite loop!). To do so, click the stop icon &#9632; in the top menu!"
      ],
      "metadata": {
        "id": "SoE-lOPisBpH"
      }
    },
    {
      "cell_type": "markdown",
      "source": [
        "#### 1.1.3. Restarting the kernel\n",
        "Sometimes, you accidentally 'crash' the notebook, for example when creating an infinite loop or when loading in too much data. You know your notebook 'crashed' when stopping the cell (&#9632;) does not work and your cell continues its execution, as evident by the `In [*]:` prompt next to the cell. In those cases, you need to completely restart the notebook, or in programming lingo: you need to \"restart the kernel\". To do so, click `Kernel` and `Restart`.\n",
        "\n",
        "Importantly, when you restart the kernel, it will keep all text/code that you've written, but it will **not** remember all the variables that you defined before restarting the kernel, including the imports. So if you restart the kernel, you will have to re-import everything (e.g. run `import numpy as np` again)."
      ],
      "metadata": {
        "id": "vvTruTRbsBpI"
      }
    },
    {
      "cell_type": "markdown",
      "source": [
        "#### 1.1.3. Inserting cells\n",
        "As you can see in the code cell above, you can only run the entire cell (i.e. both print statements). Sometimes, of course, you'd like to organise code across multiple cells. To do this, you can simply add new blocks (cells) by selecting \"Insert --> Insert Cell Below\" on the toolbar (or use the shortcut ctr+B when you're in command mode; \"B\" refers to \"below\"). This will insert a new code cell below the cell you have currently highlighted (the currently highlighted cell has a blue box around it). \n",
        "\n",
        "Try inserting a cell below and write some code (e.g. `print(10 * 10)`)."
      ],
      "metadata": {
        "id": "oEMqJUYqsBpI"
      }
    },
    {
      "cell_type": "markdown",
      "source": [
        "#### 1.1.4. Inline plotting\n",
        "Another cool feature of Jupyter notebooks is that you can display figures in the same notebook! You simply define some plots in a code cell and it'll output the plot below it.\n",
        "\n",
        "Check it out by executing (click the \"play\" button or ctr+Enter) the next cell."
      ],
      "metadata": {
        "id": "tCsqgRPlsBpI"
      }
    },
    {
      "cell_type": "code",
      "source": [
        "# We'll get to what the code means later in the tutorial\n",
        "import matplotlib.pyplot as plt # The plotting package 'Matplotlib' is discussed in section 3!\n",
        "\n",
        "# This command makes sure that the figure is plotted in the notebook instead of in a separate window!\n",
        "%matplotlib inline \n",
        "\n",
        "# Now, let's plot something\n",
        "plt.plot(range(10))\n",
        "plt.show()"
      ],
      "outputs": [],
      "execution_count": null,
      "metadata": {
        "id": "MP-gCUFbsBpJ"
      }
    },
    {
      "cell_type": "markdown",
      "source": [
        "### 1.2. Text ('markdown') cells\n",
        "Next to code cells, jupyter notebooks allow you to write text in so-called \"markdown cells\" (the cell this text is written in is, obviously, also a markdown cell). Markdown cells accept plain text and can be formatted by special markdown-syntax. A couple of examples:\n",
        "\n",
        "\\# One hash creates a large heading <br>\n",
        "\\#\\# Two hashes creates a slightly smaller heading (this goes up to four hashes)\n",
        "\n",
        "Bold text can be created by enclosing text in \\*\\*double asterisks\\*\\* and italicized text can be created by enclosing text in \\*single asterisks\\*. You can even include URLs and insert images from the web; check this [link](https://github.com/adam-p/markdown-here/wiki/Markdown-Cheatsheet) for a cheatsheet with markdown syntax and options! All the special markdown-syntax and options will be converted to readable text *after running the text cell* (again, by pressing the \"play\" icon in the toolbar or by ctr+Enter).\n",
        "\n",
        "To insert a text (markdown) cell, insert a new cell (\"Insert --> Insert Cell Below\" or ctr+B). Then, *while highlighting the new cell*, press \"Cell --> Cell Type --> Markdown\" on the toolbar on top of the notebook (or, while in command mode, press ctr+m; \"m\" refers to \"markdown\"). You should see the prompt (the **`In [ ]`** thingie) disappear. Voilà, now it's a text cell!\n",
        "\n",
        "Try it below! Insert a new markdown cell and try to write the following:\n",
        "\n",
        "\"**OMG**, this is the most awesome Python tutorial *ever*.\""
      ],
      "metadata": {
        "id": "m-E5-1vnsBpJ"
      }
    },
    {
      "cell_type": "markdown",
      "source": [
        "### 1.3. Getting help\n",
        "Throughout this course, you'll encounter situations in which you have to use functions that you'd like to get some more information on, e.g. which inputs it expects. To get help on any python function you'd like to use, you can simply write the function-name appended with a \"?\" and run the cell. This will open a window below with the \"docstring\" (explanation of the function). Take for example the built-in function **`len()`**. To get some more information, simply type `len?` in a code cell and run the cell.\n",
        "\n",
        "Try it out yourself: create a code cell below, type `len?` and check the output!"
      ],
      "metadata": {
        "id": "VrOpidr-sBpJ"
      }
    },
    {
      "cell_type": "markdown",
      "source": [
        "If this method (i.e. appending with \"?\") does not give you enough information, try to google the name of the function together with 'python' and, if you know from which package the function comes, the name of that package. For instance, for len() you could google: ['python len()'](http://lmgtfy.com/?q=python+len), or later when you'll use the numpy package, and you'd like to know how the `numpy.arange` function works you could google: 'python numpy arange'. \n",
        "\n",
        "**REMEMBER: Google is your friend! Please try to google things first, before you ask your classmates and your tutors!**\n",
        "\n",
        "The online python community is huge, so someone definitely already wondered about something you might be struggling with."
      ],
      "metadata": {
        "id": "tLRdKmrrsBpK"
      }
    },
    {
      "cell_type": "markdown",
      "source": [
        "### 1.4. Saving your work & closing down the notebook\n",
        "You're running and actively editing the notebook in a browser, but remember that it's still just a file located on your account on the server (that you're accessing through Jupyterhub). Therefore, for your work to persist, you need to save the notebook once in a while (and definitely before closing the notebook). To save, simply press the floppy-disk image in the top-left (or do ctr+s). If you want to close your notebook, simply close the browser. \n",
        "\n",
        "*However, when you close the browser, the notebook is still \"running\" in the background in your terminal where you started it!* \n",
        "\n",
        "To stop the notebook from running after you've closed it, go to the `Running` tab, and click the `Shutdown` button next to the notebook that you want to stop. \n"
      ],
      "metadata": {
        "id": "zfEkMPcdsBpK"
      }
    },
    {
      "cell_type": "markdown",
      "source": [
        "<div class=\"alert alert-warning\">\n",
        "<b>ToDo</b> (0 points)\n",
        "</div>\n",
        "In the code-cell below, set the variable `x` to 5 and remove the `raise NotImplementedError` statement."
      ],
      "metadata": {
        "id": "cVZCnAeHsBpK"
      }
    },
    {
      "cell_type": "code",
      "source": [
        "x = 'not yet 5'\n",
        "### BEGIN SOLUTION\n",
        "x = 5\n",
        "### END SOLUTION"
      ],
      "outputs": [],
      "execution_count": null,
      "metadata": {
        "nbgrader": {
          "grade": false,
          "grade_id": "cell-18f974e3fcc0d18f",
          "locked": false,
          "schema_version": 1,
          "solution": true
        },
        "id": "niFWoLbIsBpK"
      }
    },
    {
      "cell_type": "markdown",
      "source": [
        "Each answer-cell will contain the statement `raise NotImplementedError`. When implementing your ToDo, you always have to remove this statement (this will inform us, during grading, that you actually implemented something)!\n",
        "\n",
        "Then, *after* each code-cell corresponding to the ToDo, there are one or more code-cell(s) with \"tests\" written by us. These tests may provide you with feedback about whether you implemented the \"ToDo\" correctly, and optionally gives you some hints on how to solve your error(s). If you run this cell and you don't get any errors, you did it correctly and you'll receive the point(s) for that ToDo. If it gives any errors, try to use the information from the error and/or print statements to solve the ToDo. \n",
        "\n",
        "These tests are usually implemented as a set of `assert` statements, which 'assert' whether a specific statement is true. If it evaluates to `False`, then that means you've made an error. For example, for the above `ToDo`, we simply evaluated the statement `assert(x == 5)` to check whether you set `x` to 5 correctly, as is shown in the cell below:"
      ],
      "metadata": {
        "id": "neeAxQu8sBpL"
      }
    },
    {
      "cell_type": "code",
      "source": [
        "''' Checks whether the above ToDo is correct. '''\n",
        "try:\n",
        "    assert(x == 5)\n",
        "except AssertionError as e:\n",
        "    print(\"x does not evaluate to 5! Did you replace 'not yet 5' with 5?\")\n",
        "    raise(e)\n",
        "else:\n",
        "    print(\"Well done!\")"
      ],
      "outputs": [],
      "execution_count": null,
      "metadata": {
        "nbgrader": {
          "grade": true,
          "grade_id": "cell-9eb6167410bb1e5b",
          "locked": true,
          "points": 0,
          "schema_version": 1,
          "solution": false
        },
        "id": "_WRNNAO3sBpL"
      }
    },
    {
      "cell_type": "markdown",
      "source": [
        "**Note**: this week, each *ToDo* is explicitly tested, so you can always check your answer (and continue trying until you get it right). However, from next week onwards, we will also include **hidden tests**, which you won't see. We will only run these tests when grading your notebook. Therefore, from next week onwards, passing all tests in your ToDos/Assignments does not necessarily mean that you will score a 100% for that week's lab, because you might have made a mistake in the hidden tests. \n",
        "\n",
        "For this week, however, there are no hidden tests, so you can continue working on your ToDos until you get the answer right. "
      ],
      "metadata": {
        "id": "aa7MKff0sBpL"
      }
    },
    {
      "cell_type": "markdown",
      "source": [
        "Now, let's try another one, but this time for real! It's a super simple one, so use this to earn a free point. Note that it is followed by two test-cells, which test different aspects of your implementation (each passed test gives you 0.5 points)."
      ],
      "metadata": {
        "id": "UUDjZNCcsBpL"
      }
    },
    {
      "cell_type": "markdown",
      "source": [
        "<div class=\"alert alert-warning\">\n",
        "<b>ToDo</b> (0 points)\n",
        "</div>\n",
        "\n",
        "In the code-cell below, set the variable `y` to `x * 2`, so you have to replace `None` with `x * 2` (yes, this is as easy as it sounds)."
      ],
      "metadata": {
        "id": "VTgW2ZgrsBpL"
      }
    },
    {
      "cell_type": "code",
      "source": [
        "x = 2\n",
        "y = None\n",
        "### BEGIN SOLUTION\n",
        "y = x * 2\n",
        "### END SOLUTION"
      ],
      "outputs": [],
      "execution_count": null,
      "metadata": {
        "nbgrader": {
          "grade": false,
          "grade_id": "cell-ab70f6aba1198918",
          "locked": false,
          "schema_version": 1,
          "solution": true
        },
        "id": "6l4bKW8xsBpM"
      }
    },
    {
      "cell_type": "code",
      "source": [
        "''' This tests the above ToDo. '''\n",
        "try:\n",
        "    assert(y == x * 2)\n",
        "except AssertionError as e:\n",
        "    print(\"y does not evaluate to x * 2 (i.e., 4)! Did you replace y with x * 2?\")\n",
        "    raise(e)\n",
        "else:\n",
        "    print(\"Well done!\")"
      ],
      "outputs": [],
      "execution_count": null,
      "metadata": {
        "nbgrader": {
          "grade": true,
          "grade_id": "cell-3beed6559429c800",
          "locked": true,
          "points": 0.5,
          "schema_version": 1,
          "solution": false
        },
        "id": "PohCoLRKsBpM"
      }
    },
    {
      "cell_type": "code",
      "source": [
        "''' This tests the above ToDo as well. '''\n",
        "try:\n",
        "    assert(isinstance(y, int))\n",
        "except AssertionError as e:\n",
        "    print(\"y doesn't seem to be an integer (it is of type %s; make sure it is!\" % (type(y)))\n",
        "    raise(e)\n",
        "else:\n",
        "    print(\"Well done!\")"
      ],
      "outputs": [],
      "execution_count": null,
      "metadata": {
        "nbgrader": {
          "grade": true,
          "grade_id": "cell-4bc66c72a83cb48e",
          "locked": true,
          "points": 0.5,
          "schema_version": 1,
          "solution": false
        },
        "id": "lAJu7hUVsBpM"
      }
    },
    {
      "cell_type": "markdown",
      "source": [
        "<div class=\"alert alert-danger\">\n",
        "<b>Note</b>: You might think that simply editing the test-cell such that everything passes (e.g. by removeing the assert statement) is a smart way to get all the points; we however record the original state of the (test-)cells in a database, and we'll use those tests to grade your answers, so no easy way to cheat!\n",
        "</div>"
      ],
      "metadata": {
        "id": "SLxcuupssBpM"
      }
    },
    {
      "cell_type": "markdown",
      "source": [
        "Throughout the notebook you'll encounter several 'ToDos' - some are worth points, some don't. In addition to these 'ToDos', you'll also encounter 'ToThinks', which are short questions about the material, meant to make you think about what you're doing. Like the 'ToDos', some of these are worth points, others don't. Each 'ToThink' cell is followed by a markdown-cell in which you can write your answer. Obviously, these answers cannot be automatically tested, so there won't be a test-cell with `asserts`. These 'ToThinks' are later (by us) graded manually. \n",
        "\n",
        "A typical 'ToThink' may look like this:  "
      ],
      "metadata": {
        "id": "ylk5L2kFsBpM"
      }
    },
    {
      "cell_type": "markdown",
      "source": [
        "<div class='alert alert-info'>\n",
        "<b>ToThink</b> (1 point)\n",
        "</div>\n",
        "What's your name? Please write it in the text-cell below."
      ],
      "metadata": {
        "id": "xwztFVi_sBpN"
      }
    },
    {
      "cell_type": "markdown",
      "source": [
        "Tomas Knapen"
      ],
      "metadata": {
        "nbgrader": {
          "grade": true,
          "grade_id": "cell-1b7dde716f8757c0",
          "locked": false,
          "points": 1,
          "schema_version": 1,
          "solution": true
        },
        "id": "QiEEAHlXsBpN"
      }
    },
    {
      "cell_type": "markdown",
      "source": [
        "## 2. General Python\n",
        "This section will provide short tutorial on basic Python syntax and concepts (if you've done Codecademy, this should all be familiar).\n",
        "\n",
        "Here, we will cover:\n",
        "\n",
        "* Python data types (integers, floats, lists, dictionaries)\n",
        "* Python functions\n",
        "* Python classes\n",
        "* Conditionals (if-then-else)\n",
        "* Loops (for-loop, list-comprehensions)\n",
        "* Imports"
      ],
      "metadata": {
        "id": "6QQTPrGgsBpN"
      }
    },
    {
      "cell_type": "markdown",
      "source": [
        "### 2.1. Structure of Python\n",
        "\n",
        "Python is a multipurpose programming language, meaning it can be used for almost anything. While R is mostly used for statistics, and php is used for web programming only, Python is a general language, specified by the packages you add on to it (using import statements). So, \"pure\" Python provides some basic functionality, but Python's versatility comes from specialized packages for almost any purpose. \n",
        "\n",
        "For example:\n",
        "* the [scipy](https://www.scipy.org/) package provides functionality for scientific computing (e.g. statistics, signal processing);\n",
        "* the [numpy](http://www.numpy.org/) package provides data structures and functionality for (very fast) numeric computing (e.g. multidimensional numeric array computations, some linear algebra);\n",
        "* the [matplotlib](http://matplotlib.org/) package provides plotting functions;\n",
        "* and various specialied neuroimaging packages provide functionality to work and analyze (f)MRI (e.g. [nibabel](http://nipy.org/nibabel/) and [nipype](http://nipy.org/nipype)) and MEG/EEG (e.g. [MNE](http://www.martinos.org/mne/stable/index.html)).\n",
        "\n",
        "Basically, there are packages for everything you can think of (also: creating websites, game programming, etc.)! In this course, we will mostly use basic Python in combination with the scientific computing packages ('numpy', 'scipy') and specialized neuroimaging packages ('nibabel', 'nipype').  "
      ],
      "metadata": {
        "id": "l75HK6_GsBpN"
      }
    },
    {
      "cell_type": "markdown",
      "source": [
        "#### Import statements\n",
        "As explained above, Python ships with some default functionality. This means that it's already available upon starting a notebook (or any other Python environment) and doesn't need to be imported. An example is the function `len()`."
      ],
      "metadata": {
        "id": "Lyzqb9SesBpN"
      }
    },
    {
      "cell_type": "code",
      "source": [
        "my_list = [1, 2, 3]\n",
        "print(len(my_list))"
      ],
      "outputs": [],
      "execution_count": null,
      "metadata": {
        "id": "SsXVECYgsBpN"
      }
    },
    {
      "cell_type": "markdown",
      "source": [
        "However, non-built-in packages - such as `numpy` - need to be explicitly imported to access their functionality. After importing, their functions are accessible as: `{package}.{function}`.\n",
        "\n",
        "For example:"
      ],
      "metadata": {
        "id": "v37_du68sBpO"
      }
    },
    {
      "cell_type": "code",
      "source": [
        "import numpy\n",
        "\n",
        "# Now you can access the numpy function `add()` as numpy.add()\n",
        "print(numpy.add(5, 3)) "
      ],
      "outputs": [],
      "execution_count": null,
      "metadata": {
        "id": "ZGMFqkiwsBpO"
      }
    },
    {
      "cell_type": "markdown",
      "source": [
        "However, writing `numpy` in front of every function you access from it becomes annoying very quickly. Therefore, we usually abbreviate the package name by two or three characters, which can be achieved through:\n",
        "\n",
        "`import {package} as {abbreviation}` \n",
        "\n",
        "For example, people usually abbreviate the numpy import as:"
      ],
      "metadata": {
        "id": "fEm_Au-EsBpO"
      }
    },
    {
      "cell_type": "code",
      "source": [
        "import numpy as np\n",
        "\n",
        "# Now you can access numpy functions such as 'add()' as:\n",
        "print(np.add(5, 3))"
      ],
      "outputs": [],
      "execution_count": null,
      "metadata": {
        "id": "uDRoSZXrsBpO"
      }
    },
    {
      "cell_type": "markdown",
      "source": [
        "Throughout the tutorials, you'll see different packages (e.g. nibabel and scipy) being imported using abbreviations. \n",
        "\n",
        "Also, you don't need to import an *entire* package, but you can also import a specific function or class. This is done as follows:\n",
        "\n",
        "`from {package} import {function1}, {function2}, {etc}`\n",
        "\n",
        "An example:"
      ],
      "metadata": {
        "id": "78Mqc0a1sBpP"
      }
    },
    {
      "cell_type": "code",
      "source": [
        "from numpy import add, subtract\n",
        "\n",
        "# Now I can simply call add() and subtract()\n",
        "print(add(5, 3))"
      ],
      "outputs": [],
      "execution_count": null,
      "metadata": {
        "id": "O7AY5rI_sBpP"
      }
    },
    {
      "cell_type": "markdown",
      "source": [
        "Note that some packages have a hierarchical structure with subpackages (also called modules). For example, scipy has a subpackage `ndimage` (with functions for n-dimensional arrays). To import *only* this subpackage, do the following:"
      ],
      "metadata": {
        "id": "hHJV311nsBpP"
      }
    },
    {
      "cell_type": "code",
      "source": [
        "from scipy import ndimage\n",
        "# Now you can call functions from the ndimage subpackage,\n",
        "# e.g. gaussian_filter\n",
        "\n",
        "print(ndimage.gaussian_filter([10, 5, 4], 2))"
      ],
      "outputs": [],
      "execution_count": null,
      "metadata": {
        "id": "UX9TlsdwsBpP"
      }
    },
    {
      "cell_type": "markdown",
      "source": [
        "Note that you can mix and match all of these operations to customize the import to your own liking (see cell below for such a fancy import). In this course, we'll usually just import entire packages (e.g. `import numpy as np`) or specific functions/subpackages (e.g. `from scipy import stats`). \n",
        "\n",
        "Another thing you can do with imports is renaming the function/module you're importing. This follows the following syntax:\n",
        "\n",
        "`from {package} import {some function/module} as {new name}`\n",
        "\n",
        "See the cell below for an example:"
      ],
      "metadata": {
        "id": "YC05x3-LsBpP"
      }
    },
    {
      "cell_type": "code",
      "source": [
        "# a fancy import\n",
        "from scipy.stats import binom_test as omg_binomial_testing_so_cool\n",
        "\n",
        "print(omg_binomial_testing_so_cool(0.5, 10))"
      ],
      "outputs": [],
      "execution_count": null,
      "metadata": {
        "id": "n3WgewQ0sBpP"
      }
    },
    {
      "cell_type": "markdown",
      "source": [
        "<div class=\"alert alert-warning\">\n",
        "<b>ToDo</b> (0 points)\n",
        "</div>\n",
        "\n",
        "Import the function \"randn\" (which generates random numbers from a standard normal distribution) from the numpy subpackage \"random\" and rename it \"random_normal_generator\"."
      ],
      "metadata": {
        "id": "1fd-g5qOsBpQ"
      }
    },
    {
      "cell_type": "code",
      "source": [
        "''' Tests the above ToDo. '''\n",
        "try:\n",
        "    assert('random_normal_generator' in dir())\n",
        "except AssertionError as e:\n",
        "    print(\"I couldn't find the function 'random_normal_generator'; did you spell it correctly?\")\n",
        "    raise(e)\n",
        "else:\n",
        "    print(\"Well done!\")"
      ],
      "outputs": [],
      "execution_count": null,
      "metadata": {
        "nbgrader": {
          "grade": true,
          "grade_id": "cell-f7c6fda0670851b5",
          "locked": true,
          "points": 0.5,
          "schema_version": 1,
          "solution": false
        },
        "id": "5JCzfwffsBpQ"
      }
    },
    {
      "cell_type": "code",
      "source": [
        "''' Another test for the above ToDo. '''\n",
        "try:\n",
        "    assert(random_normal_generator.__name__ == 'randn')\n",
        "except AssertionError as e:\n",
        "    print(\"Your 'random_normal_generator' function does not point to the 'randn' numpy.random subpackage!\")\n",
        "    raise(e)\n",
        "else:\n",
        "    print(\"Well done!\")"
      ],
      "outputs": [],
      "execution_count": null,
      "metadata": {
        "nbgrader": {
          "grade": true,
          "grade_id": "cell-2ec6efb629701eda",
          "locked": true,
          "points": 0.5,
          "schema_version": 1,
          "solution": false
        },
        "id": "I9nPr_xQsBpQ"
      }
    },
    {
      "cell_type": "markdown",
      "source": [
        "#### Whitespace for indentation\n",
        "In most programming languages, code blocks (e.g., if-else blocks, or for-loops) are delineated by dedicated symbols (often curly brackets, `{}`). For example, an if-else block in R is written like this:\n",
        "\n",
        "```\n",
        "if (x > 0) {\n",
        "   y = x + 5\n",
        "} else {\n",
        "   y = x - 5\n",
        "}\n",
        "```\n",
        "\n",
        "While in languages like R and MATLAB whitespace/indentation is used for readability, it is not necessary! The above if-else statement in R can also be written as:\n",
        "\n",
        "```\n",
        "if (x > 0) { y = x + 5 } else { y = x - 5 }\n",
        "```\n",
        "\n",
        "However, in Python, whitespace and indentation is important! In Python, indendation - instead of curly braces - delineates code blocks, and if code is incorrectly indented, Python will give an error! For example, an if-else statement in Python must be indented (always with 4 spaces or a tab). If you don't do this, it will give an error, as show below:"
      ],
      "metadata": {
        "id": "QXAirBNVsBpQ"
      }
    },
    {
      "cell_type": "code",
      "source": [
        "x = 0\n",
        "if x < 0:\n",
        "y = x + 5\n",
        "else:\n",
        "y = x - 5   "
      ],
      "outputs": [],
      "execution_count": null,
      "metadata": {
        "id": "LFUb2IJ1sBpQ"
      }
    },
    {
      "cell_type": "markdown",
      "source": [
        "If you make sure the two statements beginning with `y = ...` are indented with 4 spaces/a tab, the error disappears (try it yourself!)."
      ],
      "metadata": {
        "id": "_czFPDcZsBpR"
      }
    },
    {
      "cell_type": "markdown",
      "source": [
        "#### Note: Python versions\n",
        "As a side note: there are currently two different supported versions of Python, 2.7 and 3.6. Somewhat confusingly, Python 3.0 introduced many backwards-incompatible changes to the language, so code written for 2.7 may not work under 3.x and vice versa. For this class all code will use Python **3.6** (but 90% of this notebook should be compatible with Python 2.7., we think ...). So if you want to use code from this class on your own computer, make sure you use Python 3.6 (or higher)!"
      ],
      "metadata": {
        "id": "dSVWPEYvsBpR"
      }
    },
    {
      "cell_type": "markdown",
      "source": [
        "### 2.2 Basic data types\n",
        "\"Pure\" (i.e. built-in) Python has mostly the same data types as you might know from MATLAB or R, such as numbers (integers/floats), strings, and lists (cells in MATLAB; lists in R). Also, Python has to data types that might be unknown to MATLAB/R users, such as \"dictionaries\" and \"tuples\", which are explained later. "
      ],
      "metadata": {
        "id": "nxesEzbHsBpR"
      }
    },
    {
      "cell_type": "markdown",
      "source": [
        "#### Numbers\n",
        "Numbers are represented either as integers (\"whole\" numbers) or floats (numbers with decimals, basically)."
      ],
      "metadata": {
        "id": "gArNFAk-sBpR"
      }
    },
    {
      "cell_type": "code",
      "source": [
        "x = 3 \n",
        "print(x, type(x)) # use type(variable) to find out of what data-type something is!\n",
        "\n",
        "y = 3.15\n",
        "print(y, type(y))"
      ],
      "outputs": [],
      "execution_count": null,
      "metadata": {
        "id": "Nhj_t8XJsBpR"
      }
    },
    {
      "cell_type": "markdown",
      "source": [
        "Let's try to apply arithmetic to x as defined above with some basic operations:"
      ],
      "metadata": {
        "id": "90CQPy-NsBpR"
      }
    },
    {
      "cell_type": "code",
      "source": [
        "print(x + 1)   # Addition;\n",
        "print(x - 1)   # Subtraction;\n",
        "print(x / 2)   # Division;\n",
        "print(x * 2)   # Multiplication;\n",
        "print(x ** 2)  # Exponentiation;"
      ],
      "outputs": [],
      "execution_count": null,
      "metadata": {
        "id": "IEtzZvRMsBpR"
      }
    },
    {
      "cell_type": "markdown",
      "source": [
        "The above commands apply operations to x, but do not *change* x itself. To permanently change x, you have to store the results of the operation (e.g. `x + 1`) into a variable (e.g. `x2 = x + 1`), as shown in the cell below:"
      ],
      "metadata": {
        "id": "dTyQNJZwsBpS"
      }
    },
    {
      "cell_type": "code",
      "source": [
        "x = 3\n",
        "x_new = x + 2\n",
        "\n",
        "# If you simply want to update an existing variable, you can do this in two ways:\n",
        "x = x + 1\n",
        "\n",
        "# ... or:\n",
        "x += 1\n",
        "\n",
        "print(x)  \n",
        "\n",
        "x *= 2 # This is the same as: x = x * 2\n",
        "print(x) "
      ],
      "outputs": [],
      "execution_count": null,
      "metadata": {
        "id": "akmtEIdisBpS"
      }
    },
    {
      "cell_type": "markdown",
      "source": [
        "<div class=\"alert alert-warning\">\n",
        "<b>ToDo</b> (0 points)\n",
        "</div>\n",
        "\n",
        "In the cell below, make a new variable, `y`, which should contain `x` minus 5 and subsequently raised to the 4th power."
      ],
      "metadata": {
        "id": "xQK0b1qwsBpS"
      }
    },
    {
      "cell_type": "code",
      "source": [
        "x = 8\n",
        "\n",
        "y = ?????"
      ],
      "outputs": [],
      "execution_count": null,
      "metadata": {
        "nbgrader": {
          "grade": false,
          "grade_id": "cell-b1f3eff2d86022f9",
          "locked": false,
          "schema_version": 1,
          "solution": true
        },
        "id": "WyE-IT2YsBpS"
      }
    },
    {
      "cell_type": "code",
      "source": [
        "''' Tests the above ToDo.'''\n",
        "\n",
        "# Check if there exists a variable 'y'\n",
        "try:\n",
        "    assert('y' in dir())\n",
        "except AssertionError as e:\n",
        "    print(\"The variable 'y' doesn't seem to exist! Did you name it correctly?\")\n",
        "    raise(e)\n",
        "else:\n",
        "    print(\"Well done! 1 out of tests 2 passed\")\n",
        "\n",
        "# Check if it has the correct number\n",
        "try:\n",
        "    assert(y == 81)\n",
        "except AssertionError as e:\n",
        "    print(\"The variable y does not seem to equal x minus 5, raised to the power 4.\")\n",
        "    raise(e)\n",
        "else:\n",
        "    print(\"Well done! 2 out of tests 2 passed\")"
      ],
      "outputs": [],
      "execution_count": null,
      "metadata": {
        "nbgrader": {
          "grade": true,
          "grade_id": "cell-86a18c4fb5804a78",
          "locked": true,
          "points": 1,
          "schema_version": 1,
          "solution": false
        },
        "id": "ZTSAFE-EsBpT"
      }
    },
    {
      "cell_type": "markdown",
      "source": [
        "#### Booleans\n",
        "Python implements all of the usual operators for comparisons. Similar to what you might know from other languages, '==' tests equivalence, '!=' for not equivalent, and '<' and '>' for larger/smaller than.\n",
        "\n",
        "Check out some examples below:"
      ],
      "metadata": {
        "id": "aXtQi8QlsBpT"
      }
    },
    {
      "cell_type": "code",
      "source": [
        "a = 3\n",
        "b = 5\n",
        "is_a_equal_to_b = (a == b)\n",
        "\n",
        "print(is_a_equal_to_b)\n",
        "print(type(is_a_equal_to_b)) "
      ],
      "outputs": [],
      "execution_count": null,
      "metadata": {
        "id": "Xo_5x5F1sBpX"
      }
    },
    {
      "cell_type": "markdown",
      "source": [
        "Some more examples of Boolean operators:"
      ],
      "metadata": {
        "id": "Du5g201ssBpY"
      }
    },
    {
      "cell_type": "code",
      "source": [
        "bool_1 = 3 > 5 # False, because 3 is not greater than 5\n",
        "bool_2 = (5 == 5) # True, because, well, 5 is 5"
      ],
      "outputs": [],
      "execution_count": null,
      "metadata": {
        "id": "uxbwEVCpsBpY"
      }
    },
    {
      "cell_type": "markdown",
      "source": [
        "However, for some Boolean logic, python doesn't use operators (such as && for \"and\" and | for \"or\") but uses special (regular English) **words**: "
      ],
      "metadata": {
        "id": "N_PKslwesBpY"
      }
    },
    {
      "cell_type": "code",
      "source": [
        "# note: bool_1 is False, bool_2 is True\n",
        "print(bool_1 and bool_2)  # Logical AND, both have to be True\n",
        "print(bool_1 or bool_2)   # Logical OR, either one of them has to be True\n",
        "print(not bool_1)         # Logical NOT, the inverse of bool_1\n",
        "print(bool_1 != bool_2)   # Logical XOR, yields True when bool_1 and bool_2 are not equal"
      ],
      "outputs": [],
      "execution_count": null,
      "metadata": {
        "id": "HfgaBMfrsBpY"
      }
    },
    {
      "cell_type": "markdown",
      "source": [
        "<div class='alert alert-warning'>\n",
        "<b>ToDo</b> (0 points)\n",
        "</div>\n",
        "\n",
        "Mess around with booleans in the cell below. Try some more complex things, like: `not ((3 > 5) and not (5 < 2))`. \n",
        "Do you understand why the result is the way it is? Try to follow the logic in the sequence of statements (not graded, so no tests follow the code block)."
      ],
      "metadata": {
        "id": "WionoHPcsBpZ"
      }
    },
    {
      "cell_type": "code",
      "source": [
        "# Do your ToDo here:\n"
      ],
      "outputs": [],
      "execution_count": null,
      "metadata": {
        "id": "L4ThXfa7sBpZ"
      }
    },
    {
      "cell_type": "markdown",
      "source": [
        "#### Strings\n",
        "Strings in Python are largely the same as in other languages."
      ],
      "metadata": {
        "id": "IRbj-AJAsBpZ"
      }
    },
    {
      "cell_type": "code",
      "source": [
        "h = 'hello'   # String literals can use single quotes\n",
        "w = \"world\"   # or double quotes; it does not matter.\n",
        "\n",
        "print(h)\n",
        "print(len(h))  # see how many characters in this string"
      ],
      "outputs": [],
      "execution_count": null,
      "metadata": {
        "id": "tE0H--YCsBpZ"
      }
    },
    {
      "cell_type": "markdown",
      "source": [
        "A very nice feature of Python strings is that they are easy to concatenate: just use '+'!"
      ],
      "metadata": {
        "id": "qIhOMY8dsBpZ"
      }
    },
    {
      "cell_type": "code",
      "source": [
        "hw = h + ', ' + w + '!' # String concatenation\n",
        "print(hw)"
      ],
      "outputs": [],
      "execution_count": null,
      "metadata": {
        "id": "mmalsg0usBpZ"
      }
    },
    {
      "cell_type": "markdown",
      "source": [
        "You can also create and combine strings with what is called 'string formatting'. This is accomplished by inserting a placeholder in a string, that you can fill with variables. An example is given below:"
      ],
      "metadata": {
        "id": "lZgQkrbTsBpa"
      }
    },
    {
      "cell_type": "code",
      "source": [
        "# Here, we have a string with a placeholder '%s' (the 's' refers to 'string' placeholder)\n",
        "my_string = 'My favorite programming language is: %s'\n",
        "print('Before formatting:')\n",
        "print(my_string)\n",
        "\n",
        "# Now, to 'fill' the placeholder, do the following:\n",
        "my_fav_language = 'Python'\n",
        "my_string = 'My favorite programming language is: %s' % my_fav_language\n",
        "\n",
        "print('After formatting')\n",
        "print(my_string)"
      ],
      "outputs": [],
      "execution_count": null,
      "metadata": {
        "id": "yVmNQjrpsBpa"
      }
    },
    {
      "cell_type": "markdown",
      "source": [
        "You can also use specific placeholders for different data types:"
      ],
      "metadata": {
        "id": "83GyC8m7sBpa"
      }
    },
    {
      "cell_type": "code",
      "source": [
        "week_no = 1 # integer\n",
        "string1 = 'This is week %i of neuroimaging' % week_no # the %i expects an integer!\n",
        "print(string1)\n",
        "\n",
        "project_score = 99.50 # float\n",
        "string2 = 'I will get a %f on my midterm exam!' % project_score\n",
        "print(string2)\n",
        "\n",
        "# You can also combine different types in a string:\n",
        "string3 = 'In week %i of neuroimaging, %s will get a %f (or higher) for my lab-assignment' % (week_no, \"I\", 95.00)\n",
        "print(string3)"
      ],
      "outputs": [],
      "execution_count": null,
      "metadata": {
        "id": "t39uh1uosBpa"
      }
    },
    {
      "cell_type": "markdown",
      "source": [
        "For a full list of placeholders see https://docs.python.org/2/library/stdtypes.html#string-formatting-operations"
      ],
      "metadata": {
        "id": "dZTm_E6_sBpb"
      }
    },
    {
      "cell_type": "markdown",
      "source": [
        "<div class='alert alert-warning'>\n",
        "<b>ToDo</b> (1 point)\n",
        "</div>\n",
        "\n",
        "Using the variable `to_print` defined below, print the string:\n",
        "\n",
        "\"Neuroimaging will be my favorite course 4ever\"\n",
        "\n",
        "So you'll have to \"fill\" the \"%\" placeholders using string formatting.\n",
        "(This is a manually graded answer, so no tests!)"
      ],
      "metadata": {
        "id": "9Fj8yG3fsBpb"
      }
    },
    {
      "cell_type": "code",
      "source": [
        "to_print = \"%s will be my favorite course %iever\"\n",
        "# print the to_print variable, with the appropriate string formatters!\n"
      ],
      "outputs": [],
      "execution_count": null,
      "metadata": {
        "nbgrader": {
          "grade": true,
          "grade_id": "cell-eb152527160ad636",
          "locked": false,
          "points": 1,
          "schema_version": 1,
          "solution": true
        },
        "id": "yROXJlCMsBpb"
      }
    },
    {
      "cell_type": "markdown",
      "source": [
        "#### Lists\n",
        "A list is the Python equivalent of an array, but can be resized and can contain elements of different types. It is similar to a list in R and a cell in MATLAB. Note that indices in python start with 0! This means that the 3rd element of the list below is accessed through `[2]`.\n",
        "\n",
        "Let's check out some lists and how to index them!"
      ],
      "metadata": {
        "id": "AetXI65MsBpb"
      }
    },
    {
      "cell_type": "code",
      "source": [
        "# Note that list may contain numbers ...\n",
        "list1 = [3, 1, 2]\n",
        "\n",
        "# ... or strings\n",
        "list2 = ['hello', 'world']\n",
        "\n",
        "# ... or, actually, anything at all! List lists themselves\n",
        "list3 = ['hello', [3, 1, 2], 'world', 5.3, -999]"
      ],
      "outputs": [],
      "execution_count": null,
      "metadata": {
        "id": "_1OjthyIsBpb"
      }
    },
    {
      "cell_type": "markdown",
      "source": [
        "Whatever the contents of a list, they are indexed the same way: using square brackets with an integer, e.g. `[0]`:"
      ],
      "metadata": {
        "id": "o52i-2aUsBpc"
      }
    },
    {
      "cell_type": "code",
      "source": [
        "print('The first element of list1 is: %i' % list1[0])\n",
        "print('The second element of list2 is: %s' % list2[1])\n",
        "print('The last element of list3 is: %i' % list3[-1])\n",
        "print('The second-to-last element of list3 is: %f' % list3[-2])"
      ],
      "outputs": [],
      "execution_count": null,
      "metadata": {
        "id": "7jjRopSUsBpc"
      }
    },
    {
      "cell_type": "markdown",
      "source": [
        "Note that you can also use negative indices! Negative indices start indexing from the end of the list, so `[-1]` indexes the last element, `[-2]` indexes the second-to-last element, etc.\n",
        "\n",
        "We cannot only 'extract' element from lists using indexing, but we can also replace them! This works as follows:"
      ],
      "metadata": {
        "id": "FJgtWzcosBpc"
      }
    },
    {
      "cell_type": "code",
      "source": [
        "some_list = [1, 2, 3, ['A', 'B', 'C']]\n",
        "\n",
        "# Let's set the first element of some_list to 100:\n",
        "some_list[0] = 100\n",
        "print(some_list)\n",
        "\n",
        "# Note that indexing a list within a list is done with sequential square brackets,\n",
        "# so if we want to index the element 'A' in some_list, we do:\n",
        "some_list[-1][0] = 'ANOTHER STRING'\n",
        "print(some_list)"
      ],
      "outputs": [],
      "execution_count": null,
      "metadata": {
        "id": "t3cirVo-sBpd"
      }
    },
    {
      "cell_type": "markdown",
      "source": [
        "<div class='alert alert-warning'>\n",
        "<b>ToDo</b> (1 point)\n",
        "</div>\n",
        "In the cell below, replace the element 'TO_REPLACE_1' with 'REPLACED' and the element 'TO_REPLACE_2' also with 'REPLACED' in the list `todo_list`."
      ],
      "metadata": {
        "id": "jgXbRUdZsBpd"
      }
    },
    {
      "cell_type": "code",
      "source": [
        "todo_list = [1, 'B', 'TO_REPLACE_1', [5, 3, 1038, 'C'], [1, 3, 5, [9, 3, 1, 'TO_REPLACE_2']]]"
      ],
      "outputs": [],
      "execution_count": null,
      "metadata": {
        "nbgrader": {
          "grade": false,
          "grade_id": "cell-fcaca4cbf6963307",
          "locked": false,
          "schema_version": 1,
          "solution": true
        },
        "id": "-zfL3_CisBpd"
      }
    },
    {
      "cell_type": "markdown",
      "source": [
        "In addition to accessing list elements one at a time, Python provides concise syntax to access specific parts of a list (sublists); this is known as **slicing**. \n",
        "\n",
        "Let's look at some slice operations:"
      ],
      "metadata": {
        "id": "IGzWAsXzsBpe"
      }
    },
    {
      "cell_type": "code",
      "source": [
        "nums = [0, 1, 2, 3, 4, 5, 6, 7, 8, 9]\n",
        "print(nums)         # Our original list\n",
        "\n",
        "# Get a slice form index 2 to 4 (exclusive); prints \"[2, 3]\"\n",
        "print(nums[2:4])    \n",
        "\n",
        "# Get a slice from index 2 to the end; prints \"[2, 3, 4, 5, 6, 7, 8, 9]\"\n",
        "print(nums[2:])  \n",
        "\n",
        "# Get a slice from the start to index 2 (exclusive); prints \"[0, 1]\"\n",
        "print(nums[:2])     \n",
        "\n",
        "# Get a slice of the whole list; prints [\"0, 1, 2, 3, 4, 5, 6, 7, 8, 9]\"\n",
        "print(nums[:])\n",
        "\n",
        "# Slice indices can be negative; prints [\"0, 1, 2, 3, 4, 5, 6, 7, 8]\",\n",
        "# so everything up to (but not including) the last element\n",
        "print(nums[:-1])    "
      ],
      "outputs": [],
      "execution_count": null,
      "metadata": {
        "id": "Sdh85kCnsBpe"
      }
    },
    {
      "cell_type": "markdown",
      "source": [
        "Apart from the syntax `[from:to]`, you can also specify a \"stride\" (sort of step-size) of your slice using the syntax `[from:to:stride]`:"
      ],
      "metadata": {
        "id": "4UdKUxupsBpe"
      }
    },
    {
      "cell_type": "code",
      "source": [
        "# Return values in steps of 2\n",
        "print(nums[::2])    \n",
        "\n",
        "# Returns values in steps of 3, but starting from the second element\n",
        "print(nums[1::3])   "
      ],
      "outputs": [],
      "execution_count": null,
      "metadata": {
        "id": "_jv5NYTFsBpf"
      }
    },
    {
      "cell_type": "markdown",
      "source": [
        "With 'normal' indexing of lists, you can only index a subsequently set/replace one element at the time. With slices, however, you can set multiple elements at the same time:"
      ],
      "metadata": {
        "id": "Ajp-Tu59sBpf"
      }
    },
    {
      "cell_type": "code",
      "source": [
        "nums[2:4] = [100, 200] # Assign a new sublist to a slice\n",
        "print(nums)         # Prints \"[0, 1, 100, 200, 4, 5, 6, 7, 8, 9]\""
      ],
      "outputs": [],
      "execution_count": null,
      "metadata": {
        "id": "kARpnkY8sBpg"
      }
    },
    {
      "cell_type": "markdown",
      "source": [
        "Importantly, slicing in Python is \"end exclusive\", which means that the last index in your slice is not returned. Thus ...\n",
        "\n",
        "`nums = [0, 1, 2, 3, 4, 5, 6, 7, 8, 9]\n",
        "nums[0:5]` \n",
        "\n",
        "... returns 0 up till and including 4 (not 5!).\n",
        "\n",
        "Check it out below:"
      ],
      "metadata": {
        "id": "pz_Ujr32sBpg"
      }
    },
    {
      "cell_type": "code",
      "source": [
        "nums = [0, 1, 2, 3, 4, 5, 6, 7, 8, 9]\n",
        "print(nums[0:5])"
      ],
      "outputs": [],
      "execution_count": null,
      "metadata": {
        "id": "qX6BVHMFsBph"
      }
    },
    {
      "cell_type": "markdown",
      "source": [
        "<font color='blue'><b>Tip</b></font>: instead of creating sequential lists like:\n",
        "\n",
        "`num = [0, 1, 2, 3, 4, 5, 6, 7, 8, 9]`\n",
        "\n",
        "... we can also create a list using the syntax: \n",
        "\n",
        "`num = list(range(starting_point, exclusive_end_point))`\n",
        "\n",
        "For example, to create a list from 5 to 15, use the following:\n",
        "\n",
        "`num = list(range(5, 16))` \n",
        "\n",
        "We'll use this construction (`list(range(x, y))`, or without the `list`) quite often in this course!"
      ],
      "metadata": {
        "id": "Xjk4ePuisBph"
      }
    },
    {
      "cell_type": "markdown",
      "source": [
        "<div class='alert alert-warning'>\n",
        "<b>ToDo</b> (1 point)\n",
        "</div>\n",
        "From the list (`my_list`) below, extract the numbers 2, 3, 4, 5, and 6 using a slice and store it in a new variable named `my_new_list`!"
      ],
      "metadata": {
        "id": "X3lUryf3sBph"
      }
    },
    {
      "cell_type": "code",
      "source": [
        "my_list = [1, 2, 3, 4, 5, 6, 7, 8, 9, 10]"
      ],
      "outputs": [],
      "execution_count": null,
      "metadata": {
        "nbgrader": {
          "grade": false,
          "grade_id": "cell-daeb7ca767d21986",
          "locked": false,
          "schema_version": 1,
          "solution": true
        },
        "id": "nhzmIFsPsBph"
      }
    },
    {
      "cell_type": "code",
      "source": [
        "available_vars = dir()\n",
        "if 'my_new_list' not in available_vars:\n",
        "    raise ValueError(\"You did not store the results in a new variable caleld 'my_new_list'!\")\n",
        "    \n",
        "test_slicing_1(my_new_list)"
      ],
      "outputs": [],
      "execution_count": null,
      "metadata": {
        "nbgrader": {
          "grade": true,
          "grade_id": "cell-326bc8ff7960e645",
          "locked": true,
          "points": 1,
          "schema_version": 1,
          "solution": false
        },
        "id": "wV6-65TnsBpi"
      }
    },
    {
      "cell_type": "markdown",
      "source": [
        "<div class='alert alert-warning'>\n",
        "<b>ToDo</b> (1 point) \n",
        "</div>\n",
        "From the list below (`my_list_2`), extract the values `[5, 7, 9, 11]` using a slice (i.e., in a single operation!) and store it in a new variable named `my_new_list_2`."
      ],
      "metadata": {
        "id": "MaAQ2R5_sBpi"
      }
    },
    {
      "cell_type": "code",
      "source": [
        "my_list_2 = [1, 3, 5, 7, 9, 11, 13, 15, 17, 19, 21]"
      ],
      "outputs": [],
      "execution_count": null,
      "metadata": {
        "nbgrader": {
          "grade": false,
          "grade_id": "cell-cfe59b0d7902a00a",
          "locked": false,
          "schema_version": 1,
          "solution": true
        },
        "id": "1ATJsOqysBpi"
      }
    },
    {
      "cell_type": "code",
      "source": [
        "available_vars = dir()\n",
        "\n",
        "if 'my_new_list_2' not in available_vars:\n",
        "    raise ValueError(\"You didn't define the variable 'my_new_list_2'!\")\n",
        "\n",
        "test_slicing_2(my_new_list_2)"
      ],
      "outputs": [],
      "execution_count": null,
      "metadata": {
        "nbgrader": {
          "grade": true,
          "grade_id": "cell-fac7511a9ff08758",
          "locked": true,
          "points": 1,
          "schema_version": 1,
          "solution": false
        },
        "id": "vGp7pBHgsBpj"
      }
    },
    {
      "cell_type": "markdown",
      "source": [
        "**NOTE**: you can index *strings* the same way as you index lists! Try to see it this way: a string is, quite literally, a *string* (\"list\") of characters. So, to get the first letter of some string s (e.g, 'this is a string'), you simply write: `s[0]`. To get first 5 characters, you write `s[:5]`, etc etc. Remember this!"
      ],
      "metadata": {
        "id": "LFmWpoyGsBpj"
      }
    },
    {
      "cell_type": "markdown",
      "source": [
        "#### Dictionaries\n",
        "Dictionaries might be new for those who are used to MATLAB or R. Basically, a dictionary is an **unordered** list in which list entries have a name (which is also referred to as a \"key\"). To get a value from a dictionary, you have to use the \"key\" as index instead of using an integer.\n",
        "\n",
        "Let's check out such a dictionary and how to index it. We build a dictionary using the following syntax: \n",
        "\n",
        "`{some_key: value, another_key: another_value, etc: etc}`\n",
        "\n",
        "The keys can be anything! Strings, integers, lists ... doesn't matter! Mostly, though, strings are used as keys. \n",
        "So, let's look at an example:"
      ],
      "metadata": {
        "id": "Of-pMYElsBpj"
      }
    },
    {
      "cell_type": "code",
      "source": [
        "my_dict = {'cat': 'cute', 'dog': 'furry'}  # Create a new dictionary with some data"
      ],
      "outputs": [],
      "execution_count": null,
      "metadata": {
        "id": "TMVF6LlesBpk"
      }
    },
    {
      "cell_type": "markdown",
      "source": [
        "To index a dictionary, we'll use square brackets `[]` again, just like with lists. But now, we can index using the key!"
      ],
      "metadata": {
        "id": "X9taUVlCsBpk"
      }
    },
    {
      "cell_type": "code",
      "source": [
        "indexed_value = my_dict['cat']\n",
        "print(indexed_value)"
      ],
      "outputs": [],
      "execution_count": null,
      "metadata": {
        "id": "7uaefDbMsBpk"
      }
    },
    {
      "cell_type": "markdown",
      "source": [
        "Adding new key-value pairs to dictionaries is easy! Just index it with a new key, and assign the value to it:"
      ],
      "metadata": {
        "id": "UcK8MUAmsBpk"
      }
    },
    {
      "cell_type": "code",
      "source": [
        "my_dict['fish'] = 'wet'     # Set an entry in a dictionary\n",
        "print(my_dict['fish'])      # Prints \"wet\""
      ],
      "outputs": [],
      "execution_count": null,
      "metadata": {
        "id": "RPxss2N5sBpk"
      }
    },
    {
      "cell_type": "markdown",
      "source": [
        "Like a list, an entry in a dictionary can be of any data type:"
      ],
      "metadata": {
        "id": "goJPnOMBsBpl"
      }
    },
    {
      "cell_type": "code",
      "source": [
        "my_dict['rabbit'] = ['omg', 'so', 'cute']\n",
        "print(my_dict['rabbit'])"
      ],
      "outputs": [],
      "execution_count": null,
      "metadata": {
        "id": "WBQHqxvLsBpl"
      }
    },
    {
      "cell_type": "markdown",
      "source": [
        "If you try to 'index' a dictionary with a key that doesn't exist, it raises a \"KeyError\", which means you're trying to index something that doesn't exist:"
      ],
      "metadata": {
        "id": "1OUMu2ovsBpl"
      }
    },
    {
      "cell_type": "code",
      "source": [
        "print(my_dict['monkey'])"
      ],
      "outputs": [],
      "execution_count": null,
      "metadata": {
        "id": "XqTzYvYpsBpl"
      }
    },
    {
      "cell_type": "markdown",
      "source": [
        "<div class='alert alert-warning'>\n",
        "<b>ToDo</b> (0 points)\n",
        "</div>\n",
        "In the code cell below, add a new key to the dictionary `my_dict` named `\"rat\"` and with the value `\"nasty\"`."
      ],
      "metadata": {
        "id": "Ug801FxJsBpl"
      }
    },
    {
      "cell_type": "code",
      "source": [
        "# Add the key-value pair here!\n",
        "\n"
      ],
      "outputs": [],
      "execution_count": null,
      "metadata": {
        "nbgrader": {
          "grade": false,
          "grade_id": "cell-121f9f1b0a5263be",
          "locked": false,
          "schema_version": 1,
          "solution": true
        },
        "id": "skZh9tyOsBpm"
      }
    },
    {
      "cell_type": "code",
      "source": [
        "''' Tests the above ToDo. '''\n",
        "\n",
        "try:\n",
        "    assert('rat' in my_dict)\n",
        "except AssertionError as e:\n",
        "    print(\"There exists no key 'rat' in my_dict!\")\n",
        "    raise(e)\n",
        "\n",
        "try:\n",
        "    assert(my_dict['rat'] == 'nasty')\n",
        "except AssertionError as e:\n",
        "    print(\"The value of key 'rat' is '%s' and NOT 'nasty'\" % my_dict['rat'])\n",
        "\n",
        "print('Well done!')"
      ],
      "outputs": [],
      "execution_count": null,
      "metadata": {
        "nbgrader": {
          "grade": true,
          "grade_id": "cell-0db58b3f530e7219",
          "locked": true,
          "points": 1,
          "schema_version": 1,
          "solution": false
        },
        "id": "d-hAYHxGsBpm"
      }
    },
    {
      "cell_type": "markdown",
      "source": [
        "<div class='alert alert-warning'>\n",
        "<b>ToDo</b> (0 points)\n",
        "</div>\n",
        "Values of dictionaries can be any type of object, even dictionaries themselves! So, add a new key to the dictionary `my_dict` named `\"another_dict\"` with the value of *another* dictionary with the keys `\"a\"` and `\"b\"` and the corresponding values `1` and `2`. Also, try to figure out how to index the value `1` from the 'nested' dictionary (this is not graded, but try it nonetheless!)."
      ],
      "metadata": {
        "id": "c2qJthELsBpm"
      }
    },
    {
      "cell_type": "code",
      "source": [
        "# Do the ToDo here\n",
        "\n"
      ],
      "outputs": [],
      "execution_count": null,
      "metadata": {
        "nbgrader": {
          "grade": false,
          "grade_id": "cell-8c0d0b8e890bfb78",
          "locked": false,
          "schema_version": 1,
          "solution": true
        },
        "id": "wT5LyoUxsBpm"
      }
    },
    {
      "cell_type": "code",
      "source": [
        "''' Tests the above ToDo. '''\n",
        "\n",
        "try:\n",
        "    assert('another_dict' in my_dict)\n",
        "except AssertionError as e:\n",
        "    print(\"There exists no key 'another_dict' in my_dict!\")\n",
        "    raise(e)\n",
        "\n",
        "try:\n",
        "    assert(my_dict['another_dict']['a'] == 1)\n",
        "    assert(my_dict['another_dict']['b'] == 2)\n",
        "except AssertionError as e:\n",
        "    print(\"The key 'another_dictionary' should contain a dictionary with keys 'a' and 'b', corresponding\"\n",
        "          \"to values 1 and 2, respectively.\")\n",
        "    raise(e)\n",
        "\n",
        "print('Well done!')"
      ],
      "outputs": [],
      "execution_count": null,
      "metadata": {
        "nbgrader": {
          "grade": true,
          "grade_id": "cell-83ed96f5b23bddbe",
          "locked": true,
          "points": 1,
          "schema_version": 1,
          "solution": false
        },
        "id": "RHwvTpR1sBpm"
      }
    },
    {
      "cell_type": "markdown",
      "source": [
        "#### tuples\n",
        "Tuples are very much like lists, but the main difference is that they are immutable. In other words, after creating them, they cannot be modified (their values cannot be replaced/altered):"
      ],
      "metadata": {
        "id": "Dlt44PCOsBpn"
      }
    },
    {
      "cell_type": "code",
      "source": [
        "# A list can be modified ...\n",
        "my_list = [1, 2, 3]\n",
        "my_list[0] = 0\n",
        "print(my_list)"
      ],
      "outputs": [],
      "execution_count": null,
      "metadata": {
        "id": "NSTFqwGJsBpn"
      }
    },
    {
      "cell_type": "code",
      "source": [
        "# ... but a tuple cannot.\n",
        "my_tuple = (1, 2, 3)\n",
        "print(my_tuple[0]) # you can print parts of tuple ...\n",
        "my_tuple[0] = 0   # but you cannot modify it!"
      ],
      "outputs": [],
      "execution_count": null,
      "metadata": {
        "id": "3Md312vosBpn"
      }
    },
    {
      "cell_type": "markdown",
      "source": [
        "You probably won't use tuples a lot, but you might come across them when using and writing functions (but more about that in the next section!)."
      ],
      "metadata": {
        "id": "5IxOS1sGsBpn"
      }
    },
    {
      "cell_type": "code",
      "source": [
        "def my_epic_function(integer):\n",
        "    \n",
        "    return integer, integer * 2\n",
        "\n",
        "outputs = my_epic_function(10)\n",
        "print(outputs)\n",
        "print(type(outputs))\n",
        "\n",
        "# also, you can unpack tuples (and also lists) as follows:\n",
        "output1, output2 = outputs\n",
        "print(output2)"
      ],
      "outputs": [],
      "execution_count": null,
      "metadata": {
        "id": "KIsFmpUQsBpn"
      }
    },
    {
      "cell_type": "markdown",
      "source": [
        "### 2.3 Functions and methods"
      ],
      "metadata": {
        "id": "gNFiKPkmsBpo"
      }
    },
    {
      "cell_type": "markdown",
      "source": [
        "If you followed the Codecademy tutorial, you are familiar with the basic syntax of functions in Python; if you're familiar with other programming languages, you'll see that the syntax of Python functions is quite similar to what you're used to.\n",
        "\n",
        "A function definition in Python starts with the keyword `def`, followed by the function name and round brackets with the arguments to the function, and finally the contents of the function, like so (note the indentation with four spaces/tab!!!):\n",
        "\n",
        "```\n",
        "def my_awesome_function(arg_1, arg_2):\n",
        "    print(\"Argument 1: %s\" % arg_1)\n",
        "    print(\"Argument 2: %s\" % arg_2)\n",
        "```\n",
        "\n",
        "This dummy-function above prints some stuff, but does not **return** something. Similar to R (but unlike MATLAB), you have to explicitly state what you want to **return** from the function by the \"return\" statement. \n",
        "\n",
        "So, suppose you have a function that adds 2 to any number. Let's define it as follows (you have to run the cell to let Python know you've defined this function):"
      ],
      "metadata": {
        "id": "p_v7at2asBpo"
      }
    },
    {
      "cell_type": "code",
      "source": [
        "def add_2_to_a_number(some_number):\n",
        "    new_number = some_number + 2"
      ],
      "outputs": [],
      "execution_count": null,
      "metadata": {
        "id": "VQ28awQIsBpo"
      }
    },
    {
      "cell_type": "markdown",
      "source": [
        "Here, we omitted a **return** statement to return the value of `new_number`. This is a problem, because in Python (like most languages) you cannot 'peek' inside the function after using it! You can only access whatever is returned. \n",
        "\n",
        "So, in the function defined above, we cannot access the value of `new_number`, because we didn't return it:"
      ],
      "metadata": {
        "id": "BAVBq4ZtsBpo"
      }
    },
    {
      "cell_type": "code",
      "source": [
        "# This will give an error!\n",
        "add_2_to_a_number(5)\n",
        "print(new_number)"
      ],
      "outputs": [],
      "execution_count": null,
      "metadata": {
        "id": "_2Sw7WaysBpo"
      }
    },
    {
      "cell_type": "markdown",
      "source": [
        "So, to access the *value* of `new_number` (that is, *not* `new_number` itself, but its associated value), we need to return it:"
      ],
      "metadata": {
        "id": "aspI5HyYsBpp"
      }
    },
    {
      "cell_type": "code",
      "source": [
        "def add_2_to_a_number_fixed(some_number):\n",
        "    new_number = some_number + 2\n",
        "    return new_number"
      ],
      "outputs": [],
      "execution_count": null,
      "metadata": {
        "id": "TZoH-SEGsBpp"
      }
    },
    {
      "cell_type": "code",
      "source": [
        "value_contained_in_new_number = add_2_to_a_number_fixed(5)\n",
        "print(\"Results of function 'add_2_to_a_number' with argument '5': %i\" % value_contained_in_new_number)"
      ],
      "outputs": [],
      "execution_count": null,
      "metadata": {
        "id": "a-5wRhZ5sBpp"
      }
    },
    {
      "cell_type": "markdown",
      "source": [
        "Importantly, you can name the variable to which you assign the return value *anyway you like*. This doesn't have to be `new_number`! Like above, we named it `value_contained_in_new_number`, but it really doesn't matter."
      ],
      "metadata": {
        "id": "rC6neZXWsBpp"
      }
    },
    {
      "cell_type": "markdown",
      "source": [
        "<div class='alert alert-warning'>\n",
        "<b>ToDo</b> (1 points) \n",
        "</div>\n",
        "In the code cell below, we've started writing a function named `extract_last_element` that takes one input-argument - a list - and returns the last element of the list. Some parts of the function are missing, though, which you need to write! When you're done, run the test-cell below it to check if it's right!"
      ],
      "metadata": {
        "id": "A94W_tJBsBpp"
      }
    },
    {
      "cell_type": "code",
      "source": [
        "def extract_last_element(input_list):\n",
        "    \n",
        "    ..."
      ],
      "outputs": [],
      "execution_count": null,
      "metadata": {
        "nbgrader": {
          "grade": false,
          "grade_id": "cell-844cc0bf2fe08f21",
          "locked": false,
          "schema_version": 1,
          "solution": true
        },
        "id": "ztpXGns_sBpq"
      }
    },
    {
      "cell_type": "code",
      "source": [
        "try:\n",
        "    assert(extract_last_element(input_list=[0, 1, 2]) == 2)\n",
        "except AssertionError as e:\n",
        "    print(\"Your function fails for input [0, 1, 2]\")\n",
        "    raise(e)\n",
        "\n",
        "try:\n",
        "    assert(extract_last_element(input_list=[0]) == 0)\n",
        "except AssertionError as e:\n",
        "    print(\"Your function fails for input [0]\")\n",
        "    raise(e)\n",
        "\n",
        "try:\n",
        "    assert(extract_last_element(input_list=['string1', 'string2', 'string3']) == 'string3')\n",
        "except AssertionError as e:\n",
        "    print(\"Your function fails for input ['string1', 'string2', 'string3']\")\n",
        "    raise(e)\n",
        "\n",
        "print(\"Well done!\")"
      ],
      "outputs": [],
      "execution_count": null,
      "metadata": {
        "nbgrader": {
          "grade": true,
          "grade_id": "cell-cce2e863aae1f1d8",
          "locked": true,
          "points": 1,
          "schema_version": 1,
          "solution": false
        },
        "id": "jdhJgFxnsBpq"
      }
    },
    {
      "cell_type": "markdown",
      "source": [
        "Alright, that was probably relatively easy. Let's do a slightly harder one."
      ],
      "metadata": {
        "id": "jyfZvOhnsBpq"
      }
    },
    {
      "cell_type": "markdown",
      "source": [
        "<div class='alert alert-warning'>\n",
        "<b>ToDo</b> (1 point) \n",
        "</div>\n",
        "Write a completely new function named `get_values_from_odd_indices` (so you have to write the `def ...` part!) that takes one input-argument - a list - and returns all values from the odd indices of that list. So, suppose you have a list:\n",
        "\n",
        "`[2, 100, 25, 48, 92, -5, 12]`\n",
        "\n",
        "... your function should return: \n",
        "\n",
        "`[100, 48, -5]`\n",
        "\n",
        "... i.e, the values from odd indices (here: 1, 3, 5; we exclude index zero!)\n",
        "\n",
        "Hint: slices might be useful here!\n",
        "\n",
        "When you're done, run the test-cell below it to check if it's right!"
      ],
      "metadata": {
        "id": "rfiWggWxsBpq"
      }
    },
    {
      "cell_type": "code",
      "source": [
        "# Implement your function (called get_values_from_odd_indices) here:\n",
        "\n",
        "def get_values_from_odd_indices(in_list):\n",
        "    return ?\n"
      ],
      "outputs": [],
      "execution_count": null,
      "metadata": {
        "nbgrader": {
          "grade": false,
          "grade_id": "cell-b53fdc7b50d5fcf3",
          "locked": false,
          "schema_version": 1,
          "solution": true
        },
        "id": "UMnKXpcNsBpq"
      }
    },
    {
      "cell_type": "code",
      "source": [
        "''' Tests the ToDo above. '''\n",
        "try:\n",
        "    assert('get_values_from_odd_indices' in dir())\n",
        "    assert(callable(get_values_from_odd_indices))\n",
        "except AssertionError as e:\n",
        "    print(\"Your function 'get_values_from_odd_indices' does not seem to exist!\")\n",
        "\n",
        "try:\n",
        "    out = get_values_from_odd_indices([0, 1, 2])\n",
        "    if out is None:\n",
        "        msg = \"ERROR: did you forget the Return statement?\"\n",
        "        raise ValueError(msg)\n",
        "except ValueError as e:\n",
        "    raise(e)\n",
        "    \n",
        "print(\"Well done (also run the next cell with tests)!\")"
      ],
      "outputs": [],
      "execution_count": null,
      "metadata": {
        "nbgrader": {
          "grade": true,
          "grade_id": "cell-f0aba01f8698280a",
          "locked": true,
          "points": 1,
          "schema_version": 1,
          "solution": false
        },
        "id": "nnvCSJ2asBpr"
      }
    },
    {
      "cell_type": "code",
      "source": [
        "''' Some other tests for the ToDo above. '''\n",
        "inp = [0, 1, 2]\n",
        "outp = get_values_from_odd_indices(inp)\n",
        "ans = [1]\n",
        "try:\n",
        "    assert(outp == ans)\n",
        "except AssertionError as e:\n",
        "    print(\"Your function returned '%r' but I expected '%r'\" % (outp, ans))\n",
        "    raise(e)\n",
        "\n",
        "inp = [5, 7, 9, 11, 13, 15, 18, 20, 21]\n",
        "outp = get_values_from_odd_indices(inp)\n",
        "ans = [7, 11, 15, 20]\n",
        "try:\n",
        "    assert(outp == ans)\n",
        "except AssertionError as e:\n",
        "    print(\"Your function returned '%r' but I expected '%r'\" % (outp, ans))\n",
        "    raise(e)\n",
        "\n",
        "print(\"Well done!\")"
      ],
      "outputs": [],
      "execution_count": null,
      "metadata": {
        "nbgrader": {
          "grade": true,
          "grade_id": "cell-3dbc2e60c3240847",
          "locked": true,
          "points": 0,
          "schema_version": 1,
          "solution": false
        },
        "id": "7Atr9en4sBpr"
      }
    },
    {
      "cell_type": "markdown",
      "source": [
        "**IMPORTANT**: it is possible to return *multiple things* from a function. The function, then, returns these things as a tuple, which can subsequently be \"unpacked\". Let's check out an example using a custom function called `minmax_of_list` which returns both the minimum and maximum of a list:"
      ],
      "metadata": {
        "id": "zZ8p5Df2sBpr"
      }
    },
    {
      "cell_type": "code",
      "source": [
        "def minmax_of_list(some_list):\n",
        "    ''' Returns both the minimum and maximum of a list.\n",
        "    \n",
        "    Parameters\n",
        "    ----------\n",
        "    some_list : a Python list\n",
        "    \n",
        "    Returns\n",
        "    -------\n",
        "    min_value : a float or int\n",
        "        The minimum of a list\n",
        "    max_value : a float or int\n",
        "        The maximum of a list\n",
        "    '''\n",
        "    min_value = min(some_list)\n",
        "    max_value = max(some_list)\n",
        "    \n",
        "    return min_value, max_value"
      ],
      "outputs": [],
      "execution_count": null,
      "metadata": {
        "id": "evf0aORKsBpr"
      }
    },
    {
      "cell_type": "markdown",
      "source": [
        "As you can see, returning multiple things is a simple as adding more variables after the `return` statement, separated by commas. If we now call the function with a particular list, it gives us back a tuple of size 2 (one value for the minimum, one value for the maximum):"
      ],
      "metadata": {
        "id": "QD4IM_4EsBpr"
      }
    },
    {
      "cell_type": "code",
      "source": [
        "output_from_function = minmax_of_list([0, 1, 2, 3])\n",
        "print(output_from_function)\n",
        "print(type(output_from_function))"
      ],
      "outputs": [],
      "execution_count": null,
      "metadata": {
        "id": "4D-siqGxsBps"
      }
    },
    {
      "cell_type": "markdown",
      "source": [
        "We can now \"unpack\" the tuple (i.e., extract the separate values) in several ways. One way is to simply index the values:"
      ],
      "metadata": {
        "id": "qk_DkFUHsBps"
      }
    },
    {
      "cell_type": "code",
      "source": [
        "output_from_function = minmax_of_list([0, 1, 2, 3])\n",
        "minimum = output_from_function[0]\n",
        "print(\"Minimum: %i\" % minimum)\n",
        "\n",
        "maximum = output_from_function[1]\n",
        "print(\"Maximum: %i\" % maximum)"
      ],
      "outputs": [],
      "execution_count": null,
      "metadata": {
        "id": "o1mGloewsBps"
      }
    },
    {
      "cell_type": "markdown",
      "source": [
        "Alternatively, we can already \"extract\" one value, let's say the maximum (index 1 of the tuple) right after calling the function, so we can skip dealing with the tuple altogether:"
      ],
      "metadata": {
        "id": "7mzFpYqcsBpt"
      }
    },
    {
      "cell_type": "code",
      "source": [
        "maximum = minmax_of_list([0, 1, 2, 3])[1]  # The [1] extracts the maximum from the output of the function immediately!\n",
        "print(\"Maximum: %i\" % maximum)"
      ],
      "outputs": [],
      "execution_count": null,
      "metadata": {
        "id": "OQ8CZOmYsBpt"
      }
    },
    {
      "cell_type": "markdown",
      "source": [
        "Keep this feature of returning multiple things and tuple unpacking in mind for the rest of the course (you'll definitely encounter it more often!)."
      ],
      "metadata": {
        "id": "MXOLRedFsBpt"
      }
    },
    {
      "cell_type": "markdown",
      "source": [
        "#### Methods\n",
        "However, in Python, functions are not the only things that allow you to 'do' things with data. In others' code, you'll often see function-like expressions written with periods, like this: `some_variable.function()`. These `.function()` parts are called 'methods', which are like functions 'inherent' to a specific type of object. In other words, it is a function that is applied to the object it belongs to. \n",
        "\n",
        "Different type of objects in Python, such as stings and lists, have their own set of methods. For example, the function you defined above (`extract_last_element()`) also exists as a method each list has, called `pop()`! (This is a builtin, standard, method that each list in Python has.) See for yourself in the block below."
      ],
      "metadata": {
        "id": "qjkChasWsBpu"
      }
    },
    {
      "cell_type": "code",
      "source": [
        "my_list = [0, 5, 10, 15] \n",
        "print(my_list.pop())\n",
        "\n",
        "# You can also just do the following (i.e. no need to define a variable first!):\n",
        "print([0, 5, 10, 15].pop())\n",
        "\n",
        "# ... which is the same as:\n",
        "print(extract_last_element([0, 5, 10, 15]))"
      ],
      "outputs": [],
      "execution_count": null,
      "metadata": {
        "id": "oXeJrruVsBpu"
      }
    },
    {
      "cell_type": "markdown",
      "source": [
        "Not only lists, but also other data-types (such as strings, dictionaries, and, as we'll see later, numpy arrays) have their own methods. How methods work exactly is not really important (this belongs to the topic of 'object-oriented programming'), but it is necessary to know **what** it does, as you'll see them a lot throughout this course. \n",
        "\n",
        "We'll show you a couple of (often-used) examples:"
      ],
      "metadata": {
        "id": "ld6B0GqIsBpu"
      }
    },
    {
      "cell_type": "code",
      "source": [
        "# For lists, we have .append()\n",
        "x = [0, 10, 15]\n",
        "x.append(20) # Add a new element to the end of the list using the append() method!\n",
        "print(x)"
      ],
      "outputs": [],
      "execution_count": null,
      "metadata": {
        "id": "D_3GWGOpsBpv"
      }
    },
    {
      "cell_type": "markdown",
      "source": [
        "**Note**: sometimes, methods modify the object (above: `x`) *in-place*, which means that the method does not return anything, so you don't have to assign it to a new variable. If you accidentally do this, the new object's value is `None`, as you see below: "
      ],
      "metadata": {
        "id": "RUzCmtXQsBpv"
      }
    },
    {
      "cell_type": "code",
      "source": [
        "x = [0, 10, 15]\n",
        "x_new = x.append(20)\n",
        "print(x_new)"
      ],
      "outputs": [],
      "execution_count": null,
      "metadata": {
        "id": "anTGURnHsBpw"
      }
    },
    {
      "cell_type": "markdown",
      "source": [
        "Some often-used methods for dictionaries:"
      ],
      "metadata": {
        "id": "GkyGRXJksBpx"
      }
    },
    {
      "cell_type": "code",
      "source": [
        "my_dict = {'a': 0, 'b': 1, 'c': 2}\n",
        "\n",
        "# The .values() method returns all the values of the dictionary \n",
        "print(list(my_dict.values()))\n",
        "\n",
        "# And the .keys() method returns all the keys of the dictionary\n",
        "print(list(my_dict.keys()))"
      ],
      "outputs": [],
      "execution_count": null,
      "metadata": {
        "id": "8YvLbICLsBpx"
      }
    },
    {
      "cell_type": "markdown",
      "source": [
        "**Note**: these dictionary-methods actually *do* return values! "
      ],
      "metadata": {
        "id": "TR1h3bhvsBpx"
      }
    },
    {
      "cell_type": "markdown",
      "source": [
        "Some often-used methods for strings:"
      ],
      "metadata": {
        "id": "8hAJgfZksBpy"
      }
    },
    {
      "cell_type": "code",
      "source": [
        "my_string = 'neuroimaging is fun!'\n",
        "\n",
        "# The .upper() method returns the string in uppercase!\n",
        "print(my_string.upper())\n",
        "\n",
        "# The .count(substring) method returns the number of times a substring occurs in a string\n",
        "print(my_string.count('n'))\n",
        "\n",
        "# The .replace(old, new) method replaces substrings\n",
        "print(my_string.replace('fun', 'awesome'))\n",
        "\n",
        "# The .split(separator) splits a string into subparts (returned as a list)\n",
        "print(my_string.split(' '))  # split by whitespace"
      ],
      "outputs": [],
      "execution_count": null,
      "metadata": {
        "id": "A1AKSDpIsBpy"
      }
    },
    {
      "cell_type": "markdown",
      "source": [
        "#### Default arguments in functions/methods\n",
        "Importantly, and unlike most (scientific) programming languages, Python supports the use of 'default' arguments in functions. Basically, if you don't specify an optional argument, it uses the default:"
      ],
      "metadata": {
        "id": "EHcaV_oDsBpz"
      }
    },
    {
      "cell_type": "code",
      "source": [
        "def exponentiate_number(number, power=2):\n",
        "    return number ** power\n",
        "\n",
        "print(exponentiate_number(2)) # now it uses the default!\n",
        "print(exponentiate_number(2, 10)) # now it \"overwrites\" the default and uses power=10\n",
        "print(exponentiate_number(number=2, power=10)) # also note that you can 'name' arguments "
      ],
      "outputs": [],
      "execution_count": null,
      "metadata": {
        "id": "3q70TrQbsBpz"
      }
    },
    {
      "cell_type": "markdown",
      "source": [
        "### 2.4 If-statements\n",
        "If-elif-else statements in Python are quite straightforward. An example:"
      ],
      "metadata": {
        "id": "NWRfUiChsBpz"
      }
    },
    {
      "cell_type": "code",
      "source": [
        "x = 5\n",
        "\n",
        "if x > 0:\n",
        "    print('x is larger than 0')\n",
        "elif x < 0:\n",
        "    print('x is smaller than 0')\n",
        "else:\n",
        "    print('x must be exactly 0!')"
      ],
      "outputs": [],
      "execution_count": null,
      "metadata": {
        "id": "Q8B3egoysBp0"
      }
    },
    {
      "cell_type": "markdown",
      "source": [
        "If-statements contain at least an `if` keyword, but optionally also one or more `elif` (\"else if\") statements and an optional `else` statement. We'll practice this (in a `ToDo`) after the section on Loops."
      ],
      "metadata": {
        "id": "fFcFibL1sBp0"
      }
    },
    {
      "cell_type": "markdown",
      "source": [
        "### 2.4 Loops\n",
        "Loops in Python (for- and while-loops) are largely similar to MATLAB and R loops, with some minor differences in  their syntax:"
      ],
      "metadata": {
        "id": "BxeWBjg-sBp0"
      }
    },
    {
      "cell_type": "code",
      "source": [
        "animals = ['cat', 'dog', 'monkey']\n",
        "for animal in animals:\n",
        "    print(animal)"
      ],
      "outputs": [],
      "execution_count": null,
      "metadata": {
        "id": "EOK34gMFsBp1"
      }
    },
    {
      "cell_type": "markdown",
      "source": [
        "Basically, each data type that is also an \"iterable\" (something that you can iterate over) can be used in loops, including lists, dictionaries, and tuples."
      ],
      "metadata": {
        "id": "A7vdCe01sBp1"
      }
    },
    {
      "cell_type": "code",
      "source": [
        "# An example of looping over a list\n",
        "my_list = [1, 2, 3]\n",
        "for x in my_list:\n",
        "    print(x)"
      ],
      "outputs": [],
      "execution_count": null,
      "metadata": {
        "id": "EmNNOGrpsBp2"
      }
    },
    {
      "cell_type": "markdown",
      "source": [
        "MATLAB users might be used to looping over indices instead of the actual list values, like the following:\n",
        "\n",
        "```\n",
        "for i=1:100\n",
        "    disp(some_list(i));\n",
        "end```\n",
        "\n",
        "In Python, however, you loop (by default) over the contents of a list:\n",
        "\n",
        "```\n",
        "for entry in some_list:\n",
        "    print(entry)\n",
        "```\n",
        "    \n",
        "If you want to access for the value **AND** the index, you can use the built-in `enumerate` function:"
      ],
      "metadata": {
        "id": "6CYhxNd1sBp2"
      }
    },
    {
      "cell_type": "code",
      "source": [
        "my_list = ['a', 'b', 'c']\n",
        "for index, value in enumerate(my_list):\n",
        "    \n",
        "    print('Loop iteration number (index) = %i, value = %s' % (index, value))\n",
        "\n",
        "# Don't forget that Python indexing starts at zero!"
      ],
      "outputs": [],
      "execution_count": null,
      "metadata": {
        "id": "3qExuGEnsBp3"
      }
    },
    {
      "cell_type": "code",
      "source": [
        "# Looping over a tuple (exactly the same as looping over a list)\n",
        "my_tuple = (1, 2, 3)\n",
        "for x in my_tuple:\n",
        "    print(x)"
      ],
      "outputs": [],
      "execution_count": null,
      "metadata": {
        "id": "gF1ycIFOsBp3"
      }
    },
    {
      "cell_type": "code",
      "source": [
        "# Iterating over a dictionary can be done in a couple of ways!\n",
        "my_dict = {'a': 1, 'b': 2, 'c': 3}\n",
        "\n",
        "# Looping over the keys ONLY\n",
        "for key in my_dict:\n",
        "    print(key)"
      ],
      "outputs": [],
      "execution_count": null,
      "metadata": {
        "id": "sCl3kl8bsBp4"
      }
    },
    {
      "cell_type": "code",
      "source": [
        "# Looping over both the keys and the entries\n",
        "for key, entry in my_dict.items():\n",
        "    print(key, entry)"
      ],
      "outputs": [],
      "execution_count": null,
      "metadata": {
        "id": "GrydepBGsBp4"
      }
    },
    {
      "cell_type": "markdown",
      "source": [
        "<div class='alert alert-warning'>\n",
        "<b>ToDo</b> (0 points) \n",
        "</div>\n",
        "Complete the function below - named `extract_values_smaller_than_0` - that takes a single list with numbers as input and returns a new list with *only the values smaller than 0* from the input-list. For example, suppose our input-list is:\n",
        "\n",
        "```\n",
        "[2, -5.3, 1.8, 0.0, -205.1, 6029]\n",
        "```\n",
        "\n",
        "... the function should return:\n",
        "\n",
        "```\n",
        "[-5.3, -205.1]\n",
        "```\n",
        "\n",
        "Hint: use an if-statement in combination with the `.append()` method of the empty list we initialized below (`list_to_return`) to fill the `list_to_return` variable in a for-loop. In other words, the function should contain an if-statement in a for-loop (in which you need to use the `.append()` method)."
      ],
      "metadata": {
        "id": "kZ_wn7aYsBp5"
      }
    },
    {
      "cell_type": "code",
      "source": [
        "# Complete the function below (make sure to remove raise NotImplementedError!)\n",
        "def extract_values_smaller_than_0(input_list):\n",
        "    \n",
        "    # We initialize an empty list here (which you need to fill using a for-loop)\n",
        "    list_to_return = []\n",
        "    \n",
        "    # DO STUFF HERE\n",
        "    \n",
        "    return list_to_return"
      ],
      "outputs": [],
      "execution_count": null,
      "metadata": {
        "nbgrader": {
          "grade": false,
          "grade_id": "cell-12b8cc33efcf2857",
          "locked": false,
          "schema_version": 1,
          "solution": true
        },
        "id": "58M6SUJ9sBp6"
      }
    },
    {
      "cell_type": "code",
      "source": [
        "''' Tests the ToDo above. '''\n",
        "inp = [-5, 2, 3, -8]\n",
        "outp = extract_values_smaller_than_0(inp)\n",
        "ans = [-5, -8]\n",
        "try:\n",
        "    assert(outp == ans)\n",
        "except AssertionError as e:\n",
        "    print(\"Your function  with input '%r' returned '%r', but I expected '%r'\" % (inp, outp, ans))\n",
        "    raise(e)\n",
        "    \n",
        "inp = [0, 2, -3]\n",
        "outp = extract_values_smaller_than_0(inp)\n",
        "ans = [-3]\n",
        "try:\n",
        "    assert(outp == ans)\n",
        "except AssertionError as e:\n",
        "    print(\"Your function  with input '%r' returned '%r', but I expected '%r'\" % (inp, outp, ans))\n",
        "    raise(e)\n",
        "\n",
        "inp = [0, 0, 0]\n",
        "outp = extract_values_smaller_than_0(inp)\n",
        "ans = []\n",
        "try:\n",
        "    assert(outp == ans)\n",
        "except AssertionError as e:\n",
        "    print(\"Your function  with input '%r' returned '%r', but I expected '%r'\" % (inp, outp, ans))\n",
        "    raise(e)\n",
        "\n",
        "print(\"Well done!\")"
      ],
      "outputs": [],
      "execution_count": null,
      "metadata": {
        "nbgrader": {
          "grade": true,
          "grade_id": "cell-edbdf3424641ffb9",
          "locked": true,
          "points": 2,
          "schema_version": 1,
          "solution": false
        },
        "id": "FMExmoGgsBp7"
      }
    },
    {
      "cell_type": "markdown",
      "source": [
        "#### Advanced loops: list comprehensions\n",
        "Sometimes, writing (and reading!) for-loops can be confusing and lead to \"ugly\" code. Wouldn't it be nice to represent (small) for-loops on a single line? Python has a way to do this: using what is called `list comprehensions`. It does exactly the same thing as a for-loop: it takes a list, iterates over its entries (and does something with each entry), and (optionally) returns a (modified) list. \n",
        "\n",
        "Let's look at an arbitrary example of a for-loop over a list:"
      ],
      "metadata": {
        "id": "LhHVYwBbsBp7"
      }
    },
    {
      "cell_type": "code",
      "source": [
        "nums = [0, 1, 2, 3, 4]\n",
        "\n",
        "# Also, check out the way 'enumerate' is used here!\n",
        "for index, x in enumerate(nums):\n",
        "    nums[index] = x ** 2\n",
        "\n",
        "print(nums)"
      ],
      "outputs": [],
      "execution_count": null,
      "metadata": {
        "id": "aPivWH6BsBp7"
      }
    },
    {
      "cell_type": "markdown",
      "source": [
        "You can make this code simpler using a list comprehension:"
      ],
      "metadata": {
        "id": "KH1upOoNsBp8"
      }
    },
    {
      "cell_type": "code",
      "source": [
        "nums = [0, 1, 2, 3, 4]\n",
        "squares = [x ** 2 for x in nums] # importantly, a list comprehension always returns a (modified) list!\n",
        "print(squares)"
      ],
      "outputs": [],
      "execution_count": null,
      "metadata": {
        "id": "k2rNU_x2sBp8"
      }
    },
    {
      "cell_type": "markdown",
      "source": [
        "Also, list comprehensions may contain if-statements!"
      ],
      "metadata": {
        "id": "IfylbN9ZsBp8"
      }
    },
    {
      "cell_type": "code",
      "source": [
        "string_nums = ['one', 'two', 'three']\n",
        "starts_with_t = ['yes' if s[0] == 't' else 'no' for s in string_nums]\n",
        "print(starts_with_t)"
      ],
      "outputs": [],
      "execution_count": null,
      "metadata": {
        "id": "llcD7dOrsBp8"
      }
    },
    {
      "cell_type": "markdown",
      "source": [
        "<div class='alert alert-warning'>\n",
        "<b>ToDo</b> (0 points; optional)\n",
        "</div>\n",
        "Write a list comprehension that adds the string '\\_check' to each value in the list `my_list` below, except if the value is 'B'. (This is an optional ToDo to practice list comprehensions.)"
      ],
      "metadata": {
        "id": "7X6pgmlJsBp9"
      }
    },
    {
      "cell_type": "code",
      "source": [
        "my_list = ['A', 'B', 'C', 'D']\n",
        "# Implement your list comprehension here!\n",
        "\n",
        "[s + \"\\_check\" if s!='B' else s for s in my_list]"
      ],
      "outputs": [
        {
          "output_type": "execute_result",
          "data": {
            "text/plain": [
              "['A\\\\_check', 'B', 'C\\\\_check', 'D\\\\_check']"
            ]
          },
          "metadata": {},
          "execution_count": 2
        }
      ],
      "execution_count": null,
      "metadata": {
        "id": "R8zmeIfhsBp9",
        "outputId": "cec2d3ad-465a-46be-c7d2-c68c14264446",
        "colab": {
          "base_uri": "https://localhost:8080/"
        }
      }
    },
    {
      "cell_type": "markdown",
      "source": [
        "List comprehensions are somewhat of a more advanced Python concept, so if you don't feel comfortable using them (correctly) in your future assignments, use regular for-loops by all means! In the upcoming tutorials, though, we'll definitely use them, so make sure you understand what they do!"
      ],
      "metadata": {
        "id": "LHMuqjVysBp9"
      }
    },
    {
      "cell_type": "markdown",
      "source": [
        "## 2. Numpy\n",
        "This section is about Numpy, Python's core library for numeric computing. While the syntax of basic Python (as we've gone over in the previous section) is important to do neuroimaging analysis in Python, knowing numpy is **essential**. Basicially, Numpy is the go-to package whenever you want to do (anything related to) data analysis in Python. Make sure you understand what is going on in this section, as the rest of the course will feature a lot of Numpy-code!\n",
        "\n",
        "The most important feature of Numpy is it's core data structure: the numpy *ndarray* (which stands for *n*-dimensional array, referring to the fact that the array may be of any dimension: 1D, 2D, 3D, 180D ... *n*D). This is, just like basic lists/dictionaries/integers/tuples, a data structure with its own syntax, operations, and methods, as we will explain below."
      ],
      "metadata": {
        "id": "OW6i5B3HsBp9"
      }
    },
    {
      "cell_type": "markdown",
      "source": [
        "### Python lists vs. numpy arrays\n",
        "Basically, numpy arrays are a lot like Python lists. The major difference, however, is that **numpy arrays may contain only a single data-type**, while Python lists may contain different data-types within the same list.\n",
        "\n",
        "Let check this out:"
      ],
      "metadata": {
        "id": "DhGASAYysBp9"
      }
    },
    {
      "cell_type": "code",
      "source": [
        "# Python lists may contain mixed data-types: an integer, a float, a string, a list\n",
        "python_list = [1, 2.5, \"whatever\", [3, 4, 5]] \n",
        "\n",
        "for value in python_list:\n",
        "    \n",
        "    print(\"%s is a: %s\" % (str(value), type(value)))"
      ],
      "outputs": [
        {
          "output_type": "stream",
          "name": "stdout",
          "text": [
            "1 is a: <class 'int'>\n",
            "2.5 is a: <class 'float'>\n",
            "whatever is a: <class 'str'>\n",
            "[3, 4, 5] is a: <class 'list'>\n"
          ]
        }
      ],
      "execution_count": null,
      "metadata": {
        "id": "52oxIbtKsBp-",
        "outputId": "01dfb75d-f3cd-481c-aea7-e47bddf8c51d",
        "colab": {
          "base_uri": "https://localhost:8080/"
        }
      }
    },
    {
      "cell_type": "markdown",
      "source": [
        "Unlike Python lists, numpy only allows entries of the same data-type. This difference between Python lists and numpy arrays is basically the same as R lists (allow multiple data-types) versus R matrices/arrays (only allow one data type), and is also the same as MATLAB cells (allow multiple data-types) versus MATLAB matrices (only allow one data type).\n",
        "\n",
        "In fact, if you try to make a numpy array with different data-types, numpy will force the entries into the same data-type (in a smart way), as is shown in the example below:"
      ],
      "metadata": {
        "id": "P5h-X3risBp-"
      }
    },
    {
      "cell_type": "code",
      "source": [
        "import numpy as np\n",
        "# Importantly, you often specify your arrays as Python lists first, and then convert them to numpy\n",
        "to_convert_to_numpy = [1, 2, 3.5]               # specify python list ...\n",
        "numpy_array = np.array(to_convert_to_numpy).astype(int)    # ... and convert ('cast') it to numpy\n",
        "\n",
        "for entry in numpy_array:\n",
        "    \n",
        "    print(entry)\n",
        "    print('this is a: %s \\n' % type(entry))"
      ],
      "outputs": [
        {
          "output_type": "stream",
          "name": "stdout",
          "text": [
            "1\n",
            "this is a: <class 'numpy.int64'> \n",
            "\n",
            "2\n",
            "this is a: <class 'numpy.int64'> \n",
            "\n",
            "3\n",
            "this is a: <class 'numpy.int64'> \n",
            "\n"
          ]
        }
      ],
      "execution_count": null,
      "metadata": {
        "id": "21lEmaTwsBp-",
        "outputId": "539cbd0b-7a3c-46e9-9ed4-aae5537e2005",
        "colab": {
          "base_uri": "https://localhost:8080/"
        }
      }
    },
    {
      "cell_type": "markdown",
      "source": [
        "As you can see, Numpy converted our original list (to_convert_to_numpy), which contained both integers and floats, to an array with only floats! You might think that such a data structure that only allows one single data type is not ideal. However, the very fact that it only contains a single data-type makes operations on numpy arrays extremely fast. For example, loops over numpy arrays are often way faster than loops over python lists. This is because, internally, Python has to check the data-type of each loop entry before doing something with that entry. Because numpy arrays one allow a single data-type, it only has to check for the entries' data type **once**. If you imagine looping over an array or list of length 100,000, you probably understand that the numpy loop is way faster.\n",
        "\n",
        "Let's check out the speed difference between Python list operations and numpy array operations:"
      ],
      "metadata": {
        "id": "8fyQXCrxsBp-"
      }
    },
    {
      "cell_type": "code",
      "source": [
        "# timeit is a cool 'feature' that you can use in Notebooks (no need to understand how it works)\n",
        "# it basically performs a computation that you specify a couple of times and prints how long it took on average\n",
        "results_python = %timeit -o [x * 2 for x in range(0, 100000)] "
      ],
      "outputs": [
        {
          "output_type": "stream",
          "name": "stdout",
          "text": [
            "8.12 ms ± 352 µs per loop (mean ± std. dev. of 7 runs, 100 loops each)\n"
          ]
        }
      ],
      "execution_count": null,
      "metadata": {
        "id": "l_ZGJak5sBp_",
        "outputId": "34b78ae5-a45f-47c2-d18c-84e6585ac7b7",
        "colab": {
          "base_uri": "https://localhost:8080/"
        }
      }
    },
    {
      "cell_type": "markdown",
      "source": [
        "And now let's do the same with numpy:"
      ],
      "metadata": {
        "id": "nSb5LGbOsBp_"
      }
    },
    {
      "cell_type": "code",
      "source": [
        "results_numpy = %timeit -o np.arange(0, 10000) * 2 \n",
        "\n",
        "ratio = results_python.average / results_numpy.average\n",
        "print(\"Numpy is %i times faster than Python!\" % ratio)"
      ],
      "outputs": [
        {
          "output_type": "stream",
          "name": "stdout",
          "text": [
            "16.4 µs ± 3.63 µs per loop (mean ± std. dev. of 7 runs, 100000 loops each)\n",
            "Numpy is 496 times faster than Python!\n"
          ]
        }
      ],
      "execution_count": null,
      "metadata": {
        "id": "On9TL6o5sBp_",
        "outputId": "0daad6d9-1001-44db-a23e-b3da91b962d9",
        "colab": {
          "base_uri": "https://localhost:8080/"
        }
      }
    },
    {
      "cell_type": "markdown",
      "source": [
        "You see that Numpy 10 times as fast! This really matters when you start doing more complex operations, on, let's say, multidimensional brain images!"
      ],
      "metadata": {
        "id": "XrXaDby6sBp_"
      }
    },
    {
      "cell_type": "markdown",
      "source": [
        "### Numpy arrays: creation\n",
        "As shown an earlier example, numpy arrays can be created as follows:\n",
        "\n",
        "1. Define a Python list (e.g. `my_list = [0, 1, 2]`) \n",
        "2. Convert the list to a numpy array (`numpy_array = np.array(my_list)`)\n",
        "\n",
        "Importantly, a simple Python list will be converted to a 1D numpy array, but a nested Python list will be converted to a 2D (or even higher-dimensional array). Nesting is simply combining different lists, separated by commans, as is shown here:"
      ],
      "metadata": {
        "id": "0pyjjifOsBqA"
      }
    },
    {
      "cell_type": "code",
      "source": [
        "my_list = [1, 2, 3]\n",
        "my_array = np.array(my_list)\n",
        "\n",
        "print(\"A 1D (or 'flat') array:\")\n",
        "print(my_array, '\\n')\n",
        "\n",
        "my_nested_list = [[1, 2, 3],\n",
        "                  [4, 5, 6],\n",
        "                  [7, 8, 9]]\n",
        "\n",
        "my_2D_array = np.array(my_nested_list)\n",
        "print(\"A 2D array:\")\n",
        "print(my_2D_array)"
      ],
      "outputs": [
        {
          "output_type": "stream",
          "name": "stdout",
          "text": [
            "A 1D (or 'flat') array:\n",
            "[1 2 3] \n",
            "\n",
            "A 2D array:\n",
            "[[1 2 3]\n",
            " [4 5 6]\n",
            " [7 8 9]]\n"
          ]
        }
      ],
      "execution_count": null,
      "metadata": {
        "id": "EpdwR9v0sBqA",
        "outputId": "42971fff-0113-4947-8036-eb1d2b7bc9c7",
        "colab": {
          "base_uri": "https://localhost:8080/"
        }
      }
    },
    {
      "cell_type": "markdown",
      "source": [
        "As you can imagine, creating numpy arrays from nested lists becomes cumbersome if you want to create (large) arrays with more than 2 dimensions. There are, fortunately, a lot of other ways to create ('initialize') large, high-dimensional numpy arrays. One often-used method is to create an array with zeros using the numpy function `np.zeros`. This function takes one (mandatory) argument, which is a tuple with the dimensions of your desired array:"
      ],
      "metadata": {
        "id": "J6kTpmCEsBqA"
      }
    },
    {
      "cell_type": "code",
      "source": [
        "my_desired_dimensions = (2, 5) # suppose I want to create a matrix with zeros of size 2 by 5\n",
        "my_array = np.zeros(my_desired_dimensions)\n",
        "\n",
        "print(my_array)"
      ],
      "outputs": [
        {
          "output_type": "stream",
          "name": "stdout",
          "text": [
            "[[0. 0. 0. 0. 0.]\n",
            " [0. 0. 0. 0. 0.]]\n"
          ]
        }
      ],
      "execution_count": null,
      "metadata": {
        "id": "7VrMEINpsBqB",
        "outputId": "d7735bb1-9bc4-4e47-ead1-4faee99028d6",
        "colab": {
          "base_uri": "https://localhost:8080/"
        }
      }
    },
    {
      "cell_type": "markdown",
      "source": [
        "<div class='alert alert-warning'>\n",
        "<b>ToDo</b> (0 points)\n",
        "</div>\n",
        "using the `np.zeros` function, create a five dimensional array of shape $2 \\times 3 \\times 5 \\times 3 \\times 7$ and store it in a variable named `array_5d`."
      ],
      "metadata": {
        "id": "VKYhJyBMsBqB"
      }
    },
    {
      "cell_type": "code",
      "source": [
        "# Implement your ToDo here\n",
        "my_desired_dimensions = (2,3,5,3,7)\n",
        "array_5d = np.zeros(my_desired_dimensions)\n",
        "\n",
        "array_5d"
      ],
      "outputs": [],
      "execution_count": null,
      "metadata": {
        "nbgrader": {
          "grade": false,
          "grade_id": "cell-ef19f7db953eecc1",
          "locked": false,
          "schema_version": 1,
          "solution": true
        },
        "id": "TL9eIHV8sBqB"
      }
    },
    {
      "cell_type": "code",
      "source": [
        "''' Tests the above ToDo. '''\n",
        "available_vars = dir()\n",
        "if 'array_5d' not in available_vars:\n",
        "    raise ValueError(\"You didn't define the variable 'array_5d'!\")\n",
        "\n",
        "#test_create_array_with_zeros(array_5d)"
      ],
      "outputs": [],
      "execution_count": null,
      "metadata": {
        "nbgrader": {
          "grade": true,
          "grade_id": "cell-1be0380d2ed4df4f",
          "locked": true,
          "points": 1,
          "schema_version": 1,
          "solution": false
        },
        "id": "fF3T2obgsBqB"
      }
    },
    {
      "cell_type": "markdown",
      "source": [
        "Using arrays with zeros is often used in what is called 'pre-allocation', in which you create an 'empty' array with only zeros and for example, 'fill' that array in a loop.\n",
        "\n",
        "Below, we show you an example in which we pre-allocate an array with 5 zeros, and fill that in a for-loop with the squares of 1 - 5. Try to understand how it works! (You have to do something similar in the next ToDo!)"
      ],
      "metadata": {
        "id": "-jeJYcvssBqC"
      }
    },
    {
      "cell_type": "code",
      "source": [
        "my_array = np.zeros(5)\n",
        "\n",
        "print('Original zeros-array')\n",
        "print(my_array)\n",
        "\n",
        "for i in range(5):  # notice the range function here! This loop now iterates over [0, 1, 2, 3, 4]\n",
        "    number_to_calculate_the_square_of = i + 1\n",
        "    my_array[i] = number_to_calculate_the_square_of ** 2\n",
        "\n",
        "print('\\nFilled array')\n",
        "print(my_array)"
      ],
      "outputs": [
        {
          "output_type": "stream",
          "name": "stdout",
          "text": [
            "Original zeros-array\n",
            "[0. 0. 0. 0. 0.]\n",
            "\n",
            "Filled array\n",
            "[ 1.  4.  9. 16. 25.]\n"
          ]
        }
      ],
      "execution_count": null,
      "metadata": {
        "id": "Zpp3B5TbsBqC",
        "outputId": "d98027f7-752a-48a6-ca51-8afae620b516",
        "colab": {
          "base_uri": "https://localhost:8080/"
        }
      }
    },
    {
      "cell_type": "markdown",
      "source": [
        "**Important**: realize that loops (not shown above), if-statements and other boolean logic is the same for numpy and python!"
      ],
      "metadata": {
        "id": "DoZ_J1vNsBqC"
      }
    },
    {
      "cell_type": "markdown",
      "source": [
        "<div class='alert alert-warning'>\n",
        "<b>ToDo</b> (0 points)\n",
        "</div>\n",
        "Write a loop in which you fill each value in the variable `my_array2` with the value 1 divided by the current index plus one. So, suppose the index (usually `i`, like the last example) is 3, then you should fill `my_array2` at index `i` with `1 / (3 + 1)`."
      ],
      "metadata": {
        "id": "CZ62aTFlsBqC"
      }
    },
    {
      "cell_type": "code",
      "source": [
        "import numpy as np\n",
        "my_array2 = np.zeros(8)\n",
        "my_array2"
      ],
      "outputs": [
        {
          "output_type": "execute_result",
          "data": {
            "text/plain": [
              "array([0., 0., 0., 0., 0., 0., 0., 0.])"
            ]
          },
          "metadata": {},
          "execution_count": 24
        }
      ],
      "execution_count": null,
      "metadata": {
        "nbgrader": {
          "grade": false,
          "grade_id": "cell-83008cc6c353713c",
          "locked": false,
          "schema_version": 1,
          "solution": true
        },
        "id": "doC2266bsBqD",
        "outputId": "8f8cacbc-76e0-4d03-e1a8-2808933be660",
        "colab": {
          "base_uri": "https://localhost:8080/"
        }
      }
    },
    {
      "cell_type": "code",
      "source": [
        "for i in range(8):\n",
        "  my_array2[i] = 1/(i+1)\n",
        "\n",
        "my_array2"
      ],
      "metadata": {
        "id": "Y7i1j3EV5CHw",
        "outputId": "37596a70-ece9-44f3-ad91-7d50a1e07f7d",
        "colab": {
          "base_uri": "https://localhost:8080/"
        }
      },
      "execution_count": null,
      "outputs": [
        {
          "output_type": "execute_result",
          "data": {
            "text/plain": [
              "array([1.        , 0.5       , 0.33333333, 0.25      , 0.2       ,\n",
              "       0.16666667, 0.14285714, 0.125     ])"
            ]
          },
          "metadata": {},
          "execution_count": 25
        }
      ]
    },
    {
      "cell_type": "code",
      "source": [
        "''' Tests the above ToDo. '''\n",
        "available_vars = dir()\n",
        "if 'my_array2' not in available_vars:\n",
        "    raise ValueError(\"The variable my_array2 does not exist!\")\n",
        "    \n",
        "#test_fill_array_with_complement(my_array2)"
      ],
      "outputs": [],
      "execution_count": null,
      "metadata": {
        "nbgrader": {
          "grade": true,
          "grade_id": "cell-f4f2daf173abb269",
          "locked": true,
          "points": 2,
          "schema_version": 1,
          "solution": false
        },
        "id": "hlZYGN4OsBqD"
      }
    },
    {
      "cell_type": "markdown",
      "source": [
        "In addition to `np.zeros`, you can create numpy arrays using other functions, like `np.ones` and `random` from the `np.random` module:"
      ],
      "metadata": {
        "id": "G8U7VVnPsBqD"
      }
    },
    {
      "cell_type": "code",
      "source": [
        "ones = np.ones((5, 10)) # create an array with ones\n",
        "print(ones, '\\n')\n",
        "\n",
        "rndom = np.random.random((5, 10)) # Create an array filled with random values (0 - 1 uniform)\n",
        "print(rndom)"
      ],
      "outputs": [
        {
          "output_type": "stream",
          "name": "stdout",
          "text": [
            "[[1. 1. 1. 1. 1. 1. 1. 1. 1. 1.]\n",
            " [1. 1. 1. 1. 1. 1. 1. 1. 1. 1.]\n",
            " [1. 1. 1. 1. 1. 1. 1. 1. 1. 1.]\n",
            " [1. 1. 1. 1. 1. 1. 1. 1. 1. 1.]\n",
            " [1. 1. 1. 1. 1. 1. 1. 1. 1. 1.]] \n",
            "\n",
            "[[0.18037201 0.18980977 0.85790504 0.35850995 0.07860156 0.84257799\n",
            "  0.4836076  0.67508666 0.58767717 0.9220162 ]\n",
            " [0.88021229 0.97714333 0.60306978 0.51533929 0.69113031 0.22584095\n",
            "  0.75701911 0.00648217 0.62639846 0.62566126]\n",
            " [0.67749444 0.75266956 0.1705704  0.77471277 0.18625131 0.43787609\n",
            "  0.97342874 0.45996029 0.44032108 0.61387036]\n",
            " [0.27865492 0.95095188 0.22174745 0.29444502 0.85884977 0.84265866\n",
            "  0.81586955 0.23235112 0.95074301 0.60489163]\n",
            " [0.50181337 0.08496664 0.36278724 0.66775038 0.85111109 0.5973878\n",
            "  0.94190931 0.18410758 0.52321754 0.96464076]]\n"
          ]
        }
      ],
      "execution_count": null,
      "metadata": {
        "id": "9-gjANsmsBqD",
        "outputId": "d6a56d24-94b8-41d7-b448-18b0a7a75403",
        "colab": {
          "base_uri": "https://localhost:8080/"
        }
      }
    },
    {
      "cell_type": "markdown",
      "source": [
        "### Numpy: indexing\n",
        "Indexing (extracting a single value of an array) and slicing (extracting multiple values - a subset - from an array) of numpy arrays is largely the same as with regular Python lists and data structures from other scientific computing languages such as R and MATLAB. Let's check out a couple of examples of a 1D array:"
      ],
      "metadata": {
        "id": "KOAjub_5sBqD"
      }
    },
    {
      "cell_type": "code",
      "source": [
        "my_array = np.arange(10, 21)  # numpy equivalent of list(range(10, 21))\n",
        "print('Full array:')\n",
        "print(my_array, '\\n') \n",
        "\n",
        "print(\"Index the first element:\")\n",
        "print(my_array[0], '\\n')\n",
        "\n",
        "print(\"Index the second-to-last element:\")\n",
        "print(my_array[-2], '\\n')\n",
        "\n",
        "print(\"Slice from 5 until (not including!) 8\")\n",
        "print(my_array[5:8], '\\n') \n",
        "\n",
        "print(\"Slice from beginning until 4\")\n",
        "print(my_array[:4])"
      ],
      "outputs": [
        {
          "output_type": "stream",
          "name": "stdout",
          "text": [
            "Full array:\n",
            "[10 11 12 13 14 15 16 17 18 19 20] \n",
            "\n",
            "Index the first element:\n",
            "10 \n",
            "\n",
            "Index the second-to-last element:\n",
            "19 \n",
            "\n",
            "Slice from 5 until (not including!) 8\n",
            "[15 16 17] \n",
            "\n",
            "Slice from beginning until 4\n",
            "[10 11 12 13]\n"
          ]
        }
      ],
      "execution_count": null,
      "metadata": {
        "id": "PnOHCgZosBqE",
        "outputId": "6e0ee550-8bc0-4306-8f9f-9a51e10b728d",
        "colab": {
          "base_uri": "https://localhost:8080/"
        }
      }
    },
    {
      "cell_type": "markdown",
      "source": [
        "Setting values in numpy arrays works the same way as lists:"
      ],
      "metadata": {
        "id": "9GYy1Zy1sBqE"
      }
    },
    {
      "cell_type": "code",
      "source": [
        "my_array = np.arange(10, 21)\n",
        "my_array[0] = 10000\n",
        "print(my_array)\n",
        "\n",
        "my_array[5:7] = 0\n",
        "print(my_array)"
      ],
      "outputs": [
        {
          "output_type": "stream",
          "name": "stdout",
          "text": [
            "[10000    11    12    13    14    15    16    17    18    19    20]\n",
            "[10000    11    12    13    14     0     0    17    18    19    20]\n"
          ]
        }
      ],
      "execution_count": null,
      "metadata": {
        "id": "Z3BxUEbisBqE",
        "outputId": "162a51c4-2d9a-4060-87b7-d8d1459b3e18",
        "colab": {
          "base_uri": "https://localhost:8080/"
        }
      }
    },
    {
      "cell_type": "markdown",
      "source": [
        "<div class='alert alert-warning'>\n",
        "<b>ToDo</b> (0 points)\n",
        "</div>\n",
        "In the array `my_array` below, set all odd indices (i.e., the first element, the third element, the fifth element, etc.) to the value `0.0` *in a single statement using a slice* (i.e., not a for-loop)."
      ],
      "metadata": {
        "id": "LYZognQYsBqE"
      }
    },
    {
      "cell_type": "code",
      "source": [
        "# Implement the ToDo here\n",
        "my_array = np.arange(3, 25)\n",
        "print(my_array)\n",
        "### BEGIN SOLUTION\n",
        "\n",
        "my_array[1::2] = 0.0\n",
        "print(my_array)\n",
        "### END SOLUTION"
      ],
      "outputs": [
        {
          "output_type": "stream",
          "name": "stdout",
          "text": [
            "[ 3  4  5  6  7  8  9 10 11 12 13 14 15 16 17 18 19 20 21 22 23 24]\n",
            "[ 3  0  5  0  7  0  9  0 11  0 13  0 15  0 17  0 19  0 21  0 23  0]\n"
          ]
        }
      ],
      "execution_count": null,
      "metadata": {
        "nbgrader": {
          "grade": false,
          "grade_id": "cell-586a858efcdccc4a",
          "locked": false,
          "schema_version": 1,
          "solution": true
        },
        "id": "8LSjrlMFsBqE",
        "outputId": "9340eef8-e416-41f4-f1b5-aa0d6f4ca70d",
        "colab": {
          "base_uri": "https://localhost:8080/"
        }
      }
    },
    {
      "cell_type": "code",
      "source": [
        "''' Tests the above ToDo. '''\n",
        "test_set_odd_indices_to_zero(my_array)"
      ],
      "outputs": [],
      "execution_count": null,
      "metadata": {
        "nbgrader": {
          "grade": true,
          "grade_id": "cell-c21cc459312c74b3",
          "locked": true,
          "points": 1,
          "schema_version": 1,
          "solution": false
        },
        "id": "mSJU9K0HsBqF"
      }
    },
    {
      "cell_type": "markdown",
      "source": [
        "#### Multidimensional indexing\n",
        "Often, instead of working on and indexing 1D array, we'll work with multi-dimensional (>1D) arrays. Indexing multi-dimensional arrays is, again, quite similar to other scientific computing languages. \n",
        "\n",
        "Like indexing Python lists, indexing multidimensional numpy arrays is done with square brackets `[]`, in which you can put as many comma-delimited numbers as there are dimensions in your array. \n",
        "\n",
        "For example, suppose you have a 2D array of shape $3 \\times 3$ and you want to index the value in the first row and first column. You would do this as follows:"
      ],
      "metadata": {
        "id": "r2m27B-4sBqF"
      }
    },
    {
      "cell_type": "code",
      "source": [
        "my_array = np.zeros((3, 3)) # 3 by 3 array with zeros\n",
        "indexed_value = my_array[0, 0]\n",
        "print(\"Value of first row and first column: %.1f\" % indexed_value)"
      ],
      "outputs": [
        {
          "output_type": "stream",
          "name": "stdout",
          "text": [
            "Value of first row and first column: 0.0\n"
          ]
        }
      ],
      "execution_count": null,
      "metadata": {
        "id": "HDMleW7ZsBqF",
        "outputId": "174e8448-0960-422d-ba0f-ed0bf1eda409",
        "colab": {
          "base_uri": "https://localhost:8080/"
        }
      }
    },
    {
      "cell_type": "markdown",
      "source": [
        "<div class='alert alert-warning'>\n",
        "<b>ToDo</b> \n",
        "</div>\n",
        "Using multidimensional indexing, set the value in the last row and last column of the 2D array `my_array` to `1.0`. In other words, set the value in the lower-right \"corner\" of the 2D array to 1.0."
      ],
      "metadata": {
        "id": "_5c-Ak49sBqF"
      }
    },
    {
      "cell_type": "code",
      "source": [
        "import numpy as np\n",
        "my_array = np.zeros((3, 3))\n",
        "\n",
        "print(my_array)\n",
        "\n",
        "# ToDo: set the value in the lower right corner to 1\n",
        "\n",
        "### BEGIN SOLUTION\n",
        "my_array[-1, -1] = 1.0\n",
        "print(my_array)\n",
        "### END SOLUTION"
      ],
      "outputs": [
        {
          "output_type": "stream",
          "name": "stdout",
          "text": [
            "[[0. 0. 0.]\n",
            " [0. 0. 0.]\n",
            " [0. 0. 0.]]\n",
            "[[0. 0. 0.]\n",
            " [0. 0. 0.]\n",
            " [0. 0. 1.]]\n"
          ]
        }
      ],
      "execution_count": null,
      "metadata": {
        "nbgrader": {
          "grade": false,
          "grade_id": "cell-6ab84bc4c9f46867",
          "locked": false,
          "schema_version": 1,
          "solution": true
        },
        "id": "OW7tuqCgsBqF",
        "outputId": "6cce65e7-cb8c-4090-9f0b-6ca95181fedc",
        "colab": {
          "base_uri": "https://localhost:8080/"
        }
      }
    },
    {
      "cell_type": "code",
      "source": [
        "''' Tests the ToDo above. '''\n",
        "test_set_lower_right_value_to_one(my_array)"
      ],
      "outputs": [],
      "execution_count": null,
      "metadata": {
        "nbgrader": {
          "grade": true,
          "grade_id": "cell-8053ddb5715da50d",
          "locked": true,
          "points": 1,
          "schema_version": 1,
          "solution": false
        },
        "id": "Mygiuz3gsBqG"
      }
    },
    {
      "cell_type": "markdown",
      "source": [
        "In addition to setting specific slices to specific values, you can also extract sub-arrays using slicing/indexing. An important construct here is that you can use a single colon `:` to select all values from a particular dimension. For example, if you want to select all column-values (second dimension) from only the first row (first dimension), do this:\n",
        "\n",
        "```\n",
        "some_2d_arr[0, :]\n",
        "```\n",
        "\n",
        "We'll show you some examples below:"
      ],
      "metadata": {
        "id": "Kk5jwWhssBqG"
      }
    },
    {
      "cell_type": "code",
      "source": [
        "my_array = np.array([[1, 2, 3],\n",
        "                     [4, 5, 6],\n",
        "                     [7, 8, 9]])\n",
        "\n",
        "print(my_array, '\\n')\n",
        "\n",
        "all_column_values_from_first_row = my_array[0, :]\n",
        "print('First row')\n",
        "print(all_column_values_from_first_row, '\\n')\n",
        "\n",
        "all_row_values_from_first_col = my_array[:, 0]\n",
        "print('First column')\n",
        "print(all_row_values_from_first_col)"
      ],
      "outputs": [
        {
          "output_type": "stream",
          "name": "stdout",
          "text": [
            "[[1 2 3]\n",
            " [4 5 6]\n",
            " [7 8 9]] \n",
            "\n",
            "First row\n",
            "[1 2 3] \n",
            "\n",
            "First column\n",
            "[1 4 7]\n"
          ]
        }
      ],
      "execution_count": null,
      "metadata": {
        "id": "gyzkK51ssBqG",
        "outputId": "cfbacec7-e18a-4b64-8a51-6dac63a5b4d3",
        "colab": {
          "base_uri": "https://localhost:8080/"
        }
      }
    },
    {
      "cell_type": "markdown",
      "source": [
        "So far, we only talked about 2D arrays, which are relatively easy to 'understand'. In neuroimaging, however, we usually work with 3D, 4D, or even higher-dimensional arrays. These arrays are great for organizing data (like 3D brain scans!), but they are somewhat unintuitive. This takes some time to get used to!\n",
        "\n",
        "To get you used to thinking in more than 2 (or 3) dimensions, consider the following scenario. A researcher wants to test the efficacy of a particular medicine against high blood pressure. To do so, he/she measures the (average systolic) blood pressure of a group of twenty subjects every hour for 30 days when they're not on the medication. The same subjects are then again measured for another 30 days, but then when they're on medication.\n",
        "\n",
        "After this period of data collection, the researcher has $20\\ (subjects)\\ \\times\\ 24\\ (hours)\\ \\times\\ 30\\ (days)\\ \\times\\ 2\\ (conditions: off/on) = 28800$ measurements! We can then organize the data in a 4D array, in which each factor (subjects/hours/days/conditions) represents a separate dimension (also called \"axis\") of our array!\n",
        "\n",
        "So, let's generate some random data (from a normal distribution to generate 'realistic' blood pressure data) that could represent this blood pressure dataset:"
      ],
      "metadata": {
        "id": "-EKyuNWksBqG"
      }
    },
    {
      "cell_type": "code",
      "source": [
        "np.random.seed(42)  # this is not important for now\n",
        "bp_data = np.random.normal(loc=100, scale=5, size=(20, 24, 30, 2))\n",
        "bp_data.shape"
      ],
      "outputs": [
        {
          "output_type": "execute_result",
          "data": {
            "text/plain": [
              "(20, 24, 30, 2)"
            ]
          },
          "metadata": {},
          "execution_count": 40
        }
      ],
      "execution_count": null,
      "metadata": {
        "id": "A6KiBJBfsBqG",
        "outputId": "a774f699-5167-44da-c911-0aab88ecbbcf",
        "colab": {
          "base_uri": "https://localhost:8080/"
        }
      }
    },
    {
      "cell_type": "markdown",
      "source": [
        "(Note that we're not printing the `bp_data` variable here, because it's way too much to visualize/interpret at once anyway!)\n",
        "\n",
        "Now, suppose I would want to extract the blood pressure of subject 5 at 09.00 (AM) in the morning at day 21 when he/she was *not* on medication. In that case, I would do:"
      ],
      "metadata": {
        "id": "0AqoECJDsBqG"
      }
    },
    {
      "cell_type": "code",
      "source": [
        "# Note that I count midnight as the first measurement\n",
        "this_particular_datapoint = bp_data[4, 8, 20, 0]\n",
        "print(\"Blood pressure of participant 5 at 09.00 (AM) on day 21 in \"\n",
        "      \"the no-medication (off) condition is %.3f\" % this_particular_datapoint)\n",
        "\n",
        "# Also, remember that Python is zero-based, so e.g. participant 5 is indexed by index 4!"
      ],
      "outputs": [
        {
          "output_type": "stream",
          "name": "stdout",
          "text": [
            "Blood pressure of participant 5 at 09.00 (AM) on day 21 in the no-medication (off) condition is 100.567\n"
          ]
        }
      ],
      "execution_count": null,
      "metadata": {
        "id": "eecd8eaqsBqH",
        "outputId": "6d256442-f3f9-409d-827e-432afe507b59",
        "colab": {
          "base_uri": "https://localhost:8080/"
        }
      }
    },
    {
      "cell_type": "markdown",
      "source": [
        "Try to remember this: **in multidimensional arrays, each dimension (axis) represents a different attribute of your data (e.g. subjects, time, condition, etc.)**. This concept will become very important to understand later when we're going to analyze 4D MRI-datasets (with 3 spatial dimensions and 1 time dimension)!"
      ],
      "metadata": {
        "id": "Eoz1IjjYsBqH"
      }
    },
    {
      "cell_type": "markdown",
      "source": [
        "<div class='alert alert-warning'>\n",
        "<b>ToDo</b> (0 points)\n",
        "</div>\n",
        "Consider the blood-pressure dataset again. In the code-cell below, extract from all participants all data from day 18 in the medication (\"on\") condition. You'll have to use slices with the single `:`! Store the results of your index-operation in the variable `day_18_condition_on`."
      ],
      "metadata": {
        "id": "6L0qnDkhsBqH"
      }
    },
    {
      "cell_type": "code",
      "source": [
        "# Implement your ToDo here (index the bp_data variable)\n",
        "\n",
        "### BEGIN SOLUTION\n",
        "day_18_condition_on = bp_data[:, :, 17, 1]\n",
        "print(day_18_condition_on)\n",
        "### END SOLUTION"
      ],
      "outputs": [],
      "execution_count": null,
      "metadata": {
        "nbgrader": {
          "grade": false,
          "grade_id": "cell-3a374e09098c2611",
          "locked": false,
          "schema_version": 1,
          "solution": true
        },
        "id": "bLGnIQPysBqH"
      }
    },
    {
      "cell_type": "code",
      "source": [
        "''' Tests the above ToDo. '''\n",
        "if 'day_18_condition_on' not in dir():\n",
        "    raise ValueError(\"The variable 'day_18_condition_on' is not defined!\")\n",
        "    \n",
        "#test_bloodpressure_index(day_18_condition_on)"
      ],
      "outputs": [],
      "execution_count": null,
      "metadata": {
        "nbgrader": {
          "grade": true,
          "grade_id": "cell-e61a83c4f632675d",
          "locked": true,
          "points": 1,
          "schema_version": 1,
          "solution": false
        },
        "id": "N3skaFZksBqI"
      }
    },
    {
      "cell_type": "markdown",
      "source": [
        "Multidimensional indexing using slices (especially the single colon `:` slice, i.e., selecting everything) is very common in scientific programming such as neuroimaging analyses. There is, however, yet another way of (multidimensional) indexing called \"boolean indexing\". \n",
        "\n",
        "In this type of indexing, you index an array with a boolean array (i.e. array with True and False values) of the same shape. Basically, when you're indexing the array `my_array` with boolean array `bool_array`, you're saying: \"give me all values in `my_array` that are `True` at the same location in `bool_array`!\"\n",
        "\n",
        "Let's look at an example:"
      ],
      "metadata": {
        "id": "_GB64-RmsBqI"
      }
    },
    {
      "cell_type": "code",
      "source": [
        "my_array = np.array([[1, 2, 3],\n",
        "                     [4, 5, 6],\n",
        "                     [7, 8, 9]])\n",
        "\n",
        "print(\"The original array:\\n\")\n",
        "print(my_array, '\\n')\n",
        "\n",
        "bool_array = np.array([[True, False, True],\n",
        "                       [False, True, False],\n",
        "                       [True, False, True]])\n",
        "\n",
        "print(\"The boolean array:\\n\")\n",
        "print(bool_array, '\\n')\n",
        "\n",
        "print('Result of indexing my_array with bool_array:\\n')\n",
        "print(my_array[bool_array])"
      ],
      "outputs": [
        {
          "output_type": "stream",
          "name": "stdout",
          "text": [
            "The original array:\n",
            "\n",
            "[[1 2 3]\n",
            " [4 5 6]\n",
            " [7 8 9]] \n",
            "\n",
            "The boolean array:\n",
            "\n",
            "[[ True False  True]\n",
            " [False  True False]\n",
            " [ True False  True]] \n",
            "\n",
            "Result of indexing my_array with bool_array:\n",
            "\n",
            "[1 3 5 7 9]\n"
          ]
        }
      ],
      "execution_count": null,
      "metadata": {
        "id": "nm91DqwjsBqI",
        "outputId": "5591bcee-cb0d-44d8-ed44-6627fa332318",
        "colab": {
          "base_uri": "https://localhost:8080/"
        }
      }
    },
    {
      "cell_type": "markdown",
      "source": [
        "Usually, you do not write out the boolean array in full (as we did above), but you base it on the data itself to \"filter\" it according to some criterion formalized as a logical statement (i.e., using the boolean operators >, <, ==, or !=). For example, suppose I want to extract only the values above 6 from the `my_array` variable in the above example. \n",
        "\n",
        "To do so, I could do the following:"
      ],
      "metadata": {
        "id": "inlaH6tpsBqI"
      }
    },
    {
      "cell_type": "code",
      "source": [
        "my_array = np.array([[1, 2, 3],\n",
        "                     [4, 5, 6],\n",
        "                     [7, 8, 9]])\n",
        "\n",
        "print(\"The original array:\\n\")\n",
        "print(my_array, '\\n')\n",
        "\n",
        "bool_array = my_array > 6\n",
        "\n",
        "print(\"The boolean array:\\n\")\n",
        "print(bool_array, '\\n')\n",
        "\n",
        "print('Result of indexing my_array with bool_array:\\n')\n",
        "print(my_array[bool_array])"
      ],
      "outputs": [
        {
          "output_type": "stream",
          "name": "stdout",
          "text": [
            "The original array:\n",
            "\n",
            "[[1 2 3]\n",
            " [4 5 6]\n",
            " [7 8 9]] \n",
            "\n",
            "The boolean array:\n",
            "\n",
            "[[False False False]\n",
            " [False False False]\n",
            " [ True  True  True]] \n",
            "\n",
            "Result of indexing my_array with bool_array:\n",
            "\n",
            "[7 8 9]\n"
          ]
        }
      ],
      "execution_count": null,
      "metadata": {
        "id": "LgmgOU_9sBqI",
        "outputId": "906bc12e-d7e0-4a87-ccea-457dbb1f7d90",
        "colab": {
          "base_uri": "https://localhost:8080/"
        }
      }
    },
    {
      "cell_type": "markdown",
      "source": [
        "Easy, right? Now try it yourself in the next ToDo!"
      ],
      "metadata": {
        "id": "8SE4E42-sBqJ"
      }
    },
    {
      "cell_type": "markdown",
      "source": [
        "<div class='alert alert-warning'>\n",
        "<b>ToDo</b> (0 points)\n",
        "</div>\n",
        "Use a boolean index to extract all values whose square (i.e. $value^2$) is larger than 4 from the array (`my_array`) below. Store the results in a variable with the name `square_is_larger_than_4`."
      ],
      "metadata": {
        "id": "MtTtH42tsBqJ"
      }
    },
    {
      "cell_type": "code",
      "source": [
        "my_array = np.array([[0, 1, -1, -2],\n",
        "                     [2, -5, 1, 4],\n",
        "                     [10, -2, -4, 20]])\n",
        "\n",
        "# Make a new boolean array below (name it whatever you want) ...\n",
        "bool_arr = (my_array)**2 > 4\n",
        "#bool_arr = [[False False False False] [False True False True] [True False True True]]\n",
        "print(\"The boolean array:\\n\")\n",
        "print(bool_arr, '\\n')\n",
        "# And use it to index my_array and store it in a variable `square_is_larger_than_4`.\n",
        "print('Result of indexing my_array with bool_array:\\n')\n",
        "square_is_larger_than_4 = my_array[bool_arr]\n",
        "print(square_is_larger_than_4)"
      ],
      "outputs": [
        {
          "output_type": "stream",
          "name": "stdout",
          "text": [
            "The boolean array:\n",
            "\n",
            "[[False False False False]\n",
            " [False  True False  True]\n",
            " [ True False  True  True]] \n",
            "\n",
            "Result of indexing my_array with bool_array:\n",
            "\n",
            "[-5  4 10 -4 20]\n"
          ]
        }
      ],
      "execution_count": null,
      "metadata": {
        "nbgrader": {
          "grade": false,
          "grade_id": "cell-e7444e2dc55212f2",
          "locked": false,
          "schema_version": 1,
          "solution": true
        },
        "id": "qqHbUkiCsBqJ",
        "outputId": "5a46b4ee-af4e-4bc1-d402-c6824b300822",
        "colab": {
          "base_uri": "https://localhost:8080/"
        }
      }
    },
    {
      "cell_type": "code",
      "source": [
        "if 'square_is_larger_than_4' not in dir():\n",
        "    raise ValueError(\"Could not find the variable 'square_is_larger_than_4'; did you name it correctly?\")\n",
        "\n",
        "#test_boolean_indexing(square_is_larger_than_4)"
      ],
      "outputs": [],
      "execution_count": null,
      "metadata": {
        "nbgrader": {
          "grade": true,
          "grade_id": "cell-9078457efdeb3498",
          "locked": true,
          "points": 1,
          "schema_version": 1,
          "solution": false
        },
        "id": "rx15oUZjsBqJ"
      }
    },
    {
      "cell_type": "markdown",
      "source": [
        "Again, it's very important to understand how to (effectively) index multidimensional numpy arrays using slices and boolean indexing, as we'll use it a lot in this course!"
      ],
      "metadata": {
        "id": "Qo2kW3k_sBqK"
      }
    },
    {
      "cell_type": "markdown",
      "source": [
        "### Numpy: data-types\n",
        "Every numpy array is a grid of values of the same type. Numpy provides a large set of numeric datatypes that you can use to construct arrays. Numpy guesses the datatype when you create an array, but functions that construct arrays usually also include an optional argument to explicitly specify the datatype.\n",
        "\n",
        "Here are a couple of examples:"
      ],
      "metadata": {
        "id": "ekwI3wfFsBqK"
      }
    },
    {
      "cell_type": "code",
      "source": [
        "x1 = np.array([1, 2])  # Let numpy choose the datatype (here: int)\n",
        "x2 = np.array([1.0, 2.0])  # Let numpy choose the datatype (here: float)\n",
        "x3 = np.array([1, 2], dtype=np.float64)  # Force a particular datatype (input: int, but converted to 64bit float)\n",
        "x4 = np.array([-1, 0, 1, 2], dtype=bool)  # Convert ints to booleans! 0 -> False, everthing else -> True \n",
        "\n",
        "print('%r (%s)' % (x1, type(x1[0])))\n",
        "print('%r (%s)' % (x2, type(x2[0])))\n",
        "print('%r (%s)' % (x3, type(x3[0])))\n",
        "print('%r (%s)' % (x4, type(x4[0])))"
      ],
      "outputs": [
        {
          "output_type": "stream",
          "name": "stdout",
          "text": [
            "array([1, 2]) (<class 'numpy.int64'>)\n",
            "array([1., 2.]) (<class 'numpy.float64'>)\n",
            "array([1., 2.]) (<class 'numpy.float64'>)\n",
            "array([ True, False,  True,  True]) (<class 'numpy.bool_'>)\n"
          ]
        }
      ],
      "execution_count": null,
      "metadata": {
        "id": "ox2byCzCsBqK",
        "outputId": "67e79f77-bbf5-4da3-f8b2-aa310c8c606b",
        "colab": {
          "base_uri": "https://localhost:8080/"
        }
      }
    },
    {
      "cell_type": "markdown",
      "source": [
        "### Numpy: methods vs. functions\n",
        "In the previous section (Basic Python), you've learned that, in addition to functions, 'methods' exist that are like functions of an object. In other words, methods are functions that are applied to the object itself. You've seen examples of list methods, e.g. `my_list.append(1)`, and string methods, e.g. `my_string.replace('a', 'b')`.\n",
        "\n",
        "Like lists and strings, numpy arrays have a lot of convenient methods that you can call. Again, this is just like a function, but then applied to itself. Often, numpy provides both a function and method for simple operations. \n",
        "\n",
        "Let's look at an example: "
      ],
      "metadata": {
        "id": "70nZDRRMsBqK"
      }
    },
    {
      "cell_type": "code",
      "source": [
        "my_array = np.arange(10)  # creates a numpy array from 0 until (excluding!) 10\n",
        "print(my_array, '\\n')\n",
        "\n",
        "mean_array = np.mean(my_array)\n",
        "print('The mean of the array is: %f' % mean_array, '\\n')\n",
        "\n",
        "mean_array2 = my_array.mean() \n",
        "print('The mean of the array (computed by its corresponding method) is: %f' % mean_array2, '\\n')\n",
        "\n",
        "print('Is the results from the numpy function the same as '\n",
        "      'the corresponding method? Answer: %s' % str(mean_array == mean_array2))"
      ],
      "outputs": [
        {
          "output_type": "stream",
          "name": "stdout",
          "text": [
            "[0 1 2 3 4 5 6 7 8 9] \n",
            "\n",
            "The mean of the array is: 4.500000 \n",
            "\n",
            "The mean of the array (computed by its corresponding method) is: 4.500000 \n",
            "\n",
            "Is the results from the numpy function the same as the corresponding method? Answer: True\n"
          ]
        }
      ],
      "execution_count": null,
      "metadata": {
        "id": "fAbL595LsBqK",
        "outputId": "071e8f6d-dd77-4b8a-cd4e-830aa5188847",
        "colab": {
          "base_uri": "https://localhost:8080/"
        }
      }
    },
    {
      "cell_type": "markdown",
      "source": [
        "If there is both a function and a method for the operation you want to apply to the array, it really doesn't matter what you choose! Let's look at some more (often used) methods of numpy ndarrays:"
      ],
      "metadata": {
        "id": "U-9WsfxDsBqK"
      }
    },
    {
      "cell_type": "code",
      "source": [
        "my_array = np.array([[1, 2, 3],\n",
        "                     [4, 5, 6],\n",
        "                     [7, 8, 9]])\n",
        "\n",
        "std_my_array = my_array.std()  # same as np.std(array)\n",
        "print(\"Standard deviation of my_array: %.3f\" % std_my_array, '\\n')\n",
        "\n",
        "transpose_my_array = my_array.T  # same as np.transpose(array)\n",
        "print(\"Transpose of my_array:\\n%r\" % transpose_my_array, '\\n')\n",
        "\n",
        "min_my_array = my_array.min()  # same as np.min(array)\n",
        "print(\"Minimum of my_array: %i\" % my_array.min(), '\\n')\n",
        "\n",
        "max_my_array = my_array.max()  # same as np.max(array)\n",
        "print(\"Maximum of my_array: %i\" % max_my_array, '\\n')\n",
        "\n",
        "sum_my_array = my_array.sum()  # same as np.sum(array)\n",
        "print(\"Sum of my_array: %i\" % sum_my_array, '\\n')"
      ],
      "outputs": [
        {
          "output_type": "stream",
          "name": "stdout",
          "text": [
            "Standard deviation of my_array: 2.582 \n",
            "\n",
            "Transpose of my_array:\n",
            "array([[1, 4, 7],\n",
            "       [2, 5, 8],\n",
            "       [3, 6, 9]]) \n",
            "\n",
            "Minimum of my_array: 1 \n",
            "\n",
            "Maximum of my_array: 9 \n",
            "\n",
            "Sum of my_array: 45 \n",
            "\n"
          ]
        }
      ],
      "execution_count": null,
      "metadata": {
        "id": "46-17O81sBqL",
        "outputId": "39d13ee7-fce5-4feb-9dc5-b09574f67895",
        "colab": {
          "base_uri": "https://localhost:8080/"
        }
      }
    },
    {
      "cell_type": "markdown",
      "source": [
        "Importantly, a method may or may not take arguments (input).\n",
        "If no arguments are given, it just looks like \"object.method()\", i.e. two enclosing brackets with nothing in between.\n",
        "However, a method may take one or more arguments (like the my_list.append(1) method)! \n",
        "This argument may be named or unnamed - doesn't matter. An example:"
      ],
      "metadata": {
        "id": "kWwpgxqasBqL"
      }
    },
    {
      "cell_type": "code",
      "source": [
        "my_array2 = np.random.random((3, 3))\n",
        "print('Original array:')\n",
        "print(my_array2, '\\n')\n",
        "\n",
        "print('Use the round() method with the argument 3:')\n",
        "print(my_array2.round(3), '\\n')\n",
        "\n",
        "print('Use the round() method with the named argument 5:')\n",
        "print(my_array2.round(decimals=5), '\\n')"
      ],
      "outputs": [
        {
          "output_type": "stream",
          "name": "stdout",
          "text": [
            "Original array:\n",
            "[[0.32710922 0.30512889 0.84403235]\n",
            " [0.6239239  0.29343832 0.71361229]\n",
            " [0.34459281 0.58655561 0.99263403]] \n",
            "\n",
            "Use the round() method with the argument 3:\n",
            "[[0.327 0.305 0.844]\n",
            " [0.624 0.293 0.714]\n",
            " [0.345 0.587 0.993]] \n",
            "\n",
            "Use the round() method with the named argument 5:\n",
            "[[0.32711 0.30513 0.84403]\n",
            " [0.62392 0.29344 0.71361]\n",
            " [0.34459 0.58656 0.99263]] \n",
            "\n"
          ]
        }
      ],
      "execution_count": null,
      "metadata": {
        "id": "qsWpCP0gsBqL",
        "outputId": "f20495b2-c433-475a-c27f-b3f634be56ce",
        "colab": {
          "base_uri": "https://localhost:8080/"
        }
      }
    },
    {
      "cell_type": "markdown",
      "source": [
        "**Some methods that you'll see a lot in the upcoming tutorials**. In addition to the methods listed above, you'll probably see the following methods a lot in the rest of this course (make sure you understand them!):\n",
        "\n",
        "Reshaping arrays:"
      ],
      "metadata": {
        "id": "Ixe65AUCsBqL"
      }
    },
    {
      "cell_type": "code",
      "source": [
        "my_array = np.arange(10)\n",
        "print(my_array)\n",
        "print(my_array.reshape((5, 2))) # reshape to desired shape"
      ],
      "outputs": [
        {
          "output_type": "stream",
          "name": "stdout",
          "text": [
            "[0 1 2 3 4 5 6 7 8 9]\n",
            "[[0 1]\n",
            " [2 3]\n",
            " [4 5]\n",
            " [6 7]\n",
            " [8 9]]\n"
          ]
        }
      ],
      "execution_count": null,
      "metadata": {
        "id": "gx0kWKqasBqL",
        "outputId": "d85847ac-acd4-4463-bac8-a147a1d2e525",
        "colab": {
          "base_uri": "https://localhost:8080/"
        }
      }
    },
    {
      "cell_type": "markdown",
      "source": [
        "Ravel (\"flatten\") an array:"
      ],
      "metadata": {
        "id": "zzvr-q0TsBqM"
      }
    },
    {
      "cell_type": "code",
      "source": [
        "temporary = my_array.reshape((5, 2))\n",
        "print(\"Initial shape: %s\" % (temporary.shape,))\n",
        "print(temporary.ravel()) # unroll multi-dimensional array to single 1D array\n",
        "print(\"Shape after ravel(): %s\" % (temporary.ravel().shape,))"
      ],
      "outputs": [
        {
          "output_type": "stream",
          "name": "stdout",
          "text": [
            "Initial shape: (5, 2)\n",
            "[0 1 2 3 4 5 6 7 8 9]\n",
            "Shape after ravel(): (10,)\n"
          ]
        }
      ],
      "execution_count": null,
      "metadata": {
        "id": "rDM1FuqssBqM",
        "outputId": "2658cddc-2367-4efb-f707-371ebed70011",
        "colab": {
          "base_uri": "https://localhost:8080/"
        }
      }
    },
    {
      "cell_type": "code",
      "source": [
        "# .dot() does matrix multiplication (dot product: https://en.wikipedia.org/wiki/Dot_product)\n",
        "# This linear algebra operation is used very often in neuroimaging research \n",
        "# (which depends heavily on the General Linear Model!)\n",
        "array1 = np.array([0, 1, 2, 3])\n",
        "array2 = np.array([4, 5, 6, 7])\n",
        "\n",
        "dot_product = array1.dot(array2)\n",
        "print(dot_product)"
      ],
      "outputs": [
        {
          "output_type": "stream",
          "name": "stdout",
          "text": [
            "38\n"
          ]
        }
      ],
      "execution_count": null,
      "metadata": {
        "id": "zKATvwE5sBqM",
        "outputId": "c8db6b31-b38c-44c5-e089-752189c8995f",
        "colab": {
          "base_uri": "https://localhost:8080/"
        }
      }
    },
    {
      "cell_type": "markdown",
      "source": [
        "<div class='alert alert-warning'>\n",
        "<b>ToDo</b> (0 points)\n",
        "</div>\n",
        "Let's practice writing functions some more. Complete the function below, named `calculate_range`. This function takes  a single input-argument - a 1D numpy array - and subsequently calculates the [range](https://en.wikipedia.org/wiki/Range_(statistics) of the array. The range is the difference between the maximum and minimum of any given array (vector) $x$:\n",
        "\n",
        "\\begin{align}\n",
        "range(x) = max(x) - min(x)\n",
        "\\end{align}\n",
        "\n",
        "You may use the corresponding numpy min/max methods or functions in your custom function, doesn't matter. Don't forget to explicitly return the value of the range! \n",
        "\n",
        "Note: this custom function that implements the *mathematical* formula for a vector's range is completely unrelated to the *Python function* `range` that is often used in for-loops! "
      ],
      "metadata": {
        "id": "ZJ1mPN9nsBqM"
      }
    },
    {
      "cell_type": "code",
      "source": [
        "# Complete the function below\n",
        "def calculate_range(arr):\n",
        "    ''' Calculate the range of an array.\n",
        "    \n",
        "    Parameters\n",
        "    ----------\n",
        "    arr : a 1D numpy array\n",
        "    \n",
        "    Returns\n",
        "    -------\n",
        "    The range of the input arr\n",
        "    '''\n",
        "    range_arr = arr.max() - arr.min()\n",
        "    return range_arr\n"
      ],
      "outputs": [],
      "execution_count": null,
      "metadata": {
        "nbgrader": {
          "grade": false,
          "grade_id": "cell-2efc174e66bba2aa",
          "locked": false,
          "schema_version": 1,
          "solution": true
        },
        "id": "lVw1CcsFsBqM"
      }
    },
    {
      "cell_type": "code",
      "source": [
        "''' Tests the above ToDo. '''\n",
        "\n",
        "outp = calculate_range(np.array([0, 1, 2, 3]))\n",
        "if outp is None:\n",
        "    raise ValueError(\"Didn't get any output! Did you explicitly return the range?\")\n",
        "\n",
        "assert(outp == 3)\n",
        "assert(calculate_range(np.array([-1, 0, 1, 2])) == 3)\n",
        "assert(calculate_range(np.array([0, 0, 0, 0])) == 0)\n",
        "\n",
        "print(\"Well done!\")"
      ],
      "outputs": [
        {
          "output_type": "stream",
          "name": "stdout",
          "text": [
            "Well done!\n"
          ]
        }
      ],
      "execution_count": null,
      "metadata": {
        "nbgrader": {
          "grade": true,
          "grade_id": "cell-e9339bd405181849",
          "locked": true,
          "points": 1,
          "schema_version": 1,
          "solution": false
        },
        "id": "asA65iRZsBqN",
        "outputId": "d04c09da-2021-46f9-efa8-04f3797bb5ad",
        "colab": {
          "base_uri": "https://localhost:8080/"
        }
      }
    },
    {
      "cell_type": "markdown",
      "source": [
        "### Numpy: methods vs. attributes?\n",
        "Alright, by now, if you see a variable followed by a word ending with enclosed brackets, e.g. `my_array.mean()`, you'll know that it's a method! But sometimes you might see something similar, but **without** the brackets, such as `my_array.size`. This `.size` is called an **attribute** of the variable `my_array`. Like a method, it's an integral part of an object (such as a numpy ndarray). The attribute may be of any data-type, like a string, integer, tuple, an array itself. Let's look at an example:"
      ],
      "metadata": {
        "id": "ABADxbqksBqN"
      }
    },
    {
      "cell_type": "code",
      "source": [
        "my_array = np.array([[1, 2, 3],\n",
        "                     [4, 5, 6],\n",
        "                     [7, 8, 9]])\n",
        "\n",
        "print(my_array, '\\n')\n",
        "print('The size (number of element) in the array is:')\n",
        "print(my_array.size, '\\n')\n",
        "print('The .size attribute is of data-type: %s' % type(my_array.size))"
      ],
      "outputs": [
        {
          "output_type": "stream",
          "name": "stdout",
          "text": [
            "[[1 2 3]\n",
            " [4 5 6]\n",
            " [7 8 9]] \n",
            "\n",
            "The size (number of element) in the array is:\n",
            "9 \n",
            "\n",
            "The .size attribute is of data-type: <class 'int'>\n"
          ]
        }
      ],
      "execution_count": null,
      "metadata": {
        "id": "-deLJhrDsBqN",
        "outputId": "eb90bb9e-1fc1-46f5-a3ba-c246139f9253",
        "colab": {
          "base_uri": "https://localhost:8080/"
        }
      }
    },
    {
      "cell_type": "markdown",
      "source": [
        "Alright, so by now you might be wondering what the difference between a method and an attribute is. Superficially, you can recognize a method by the form `object.method()` (note the brackets!), like `my_array.round()`; an attribute is virtually the same **but without brackets**, in the form of `object.attribute`, like `my_array.size`. \n",
        "\n",
        "Conceptually, you may think of methods as things that **do** something with the array, while attributes **say** something about the array.\n",
        "\n",
        "For example, `my_array.size` **does nothing** with the array - it only **says** something about the array (it gives information about its size), while `my_array.mean()` really **does** something (i.e. calculates the mean of the array). \n",
        "\n",
        "Again, you might not use attributes a lot during this course, but you'll definitely see them around in the code of the tutorials. Below, some of the common ndarray attributes are listed:"
      ],
      "metadata": {
        "id": "NwDx9tkJsBqN"
      }
    },
    {
      "cell_type": "code",
      "source": [
        "my_array = np.array([[1, 2, 3],\n",
        "                     [4, 5, 6],\n",
        "                     [7, 8, 9]])\n",
        "\n",
        "print('Size (number of elements) of array:')\n",
        "print(my_array.size, '\\n') # returns an integer\n",
        "\n",
        "print('Shape of array:')\n",
        "print(my_array.shape, '\\n') # this is a tuple!\n",
        "\n",
        "print('Number of dimensions:')\n",
        "print(my_array.ndim) # this is an integer"
      ],
      "outputs": [
        {
          "output_type": "stream",
          "name": "stdout",
          "text": [
            "Size (number of elements) of array:\n",
            "9 \n",
            "\n",
            "Shape of array:\n",
            "(3, 3) \n",
            "\n",
            "Number of dimensions:\n",
            "2\n"
          ]
        }
      ],
      "execution_count": null,
      "metadata": {
        "id": "TV8Fb9CQsBqN",
        "outputId": "be431251-6504-46c1-ed08-6c8379cb9c67",
        "colab": {
          "base_uri": "https://localhost:8080/"
        }
      }
    },
    {
      "cell_type": "markdown",
      "source": [
        "<div class='alert alert-warning'>\n",
        "<b>ToDo</b> (0 points)\n",
        "</div>\n",
        "Let's try another one. Complete the function below, named `compute_one_sample_ttest`. This function takes two input arguments:\n",
        "\n",
        "- arr : a 1D numpy array\n",
        "- h0 : a scalar value (single number) that represents the value representing the null-hypothesis\n",
        "\n",
        "The function should compute the one-sample t-test, which tests whether the mean of an array is significantly different from a given value representing the null-hypothesis. Formally, for any given array $x$ and null-hypothesis $h_{0}$:\n",
        "\n",
        "\\begin{align}\n",
        "t = \\frac{\\bar{x} - h_{0}}{s\\ / \\sqrt{N}}\n",
        "\\end{align}\n",
        "\n",
        "Here: $\\bar{x}$ represents the mean of $x$, $s$ represents the standard deviation of $x$, and $N$ represents the length ('size') of x. So, in slightly less mathematical notation:\n",
        "\n",
        "\\begin{align}\n",
        "t = \\frac{mean(x) - h_{0}}{std(x)\\ / \\sqrt{length(x)}}\n",
        "\\end{align}\n",
        "\n",
        "Make sure to return the t-value! \n",
        "\n",
        "**Hint 1**: to compute $N$, you can use the `.size` attribute of an array ... <br>\n",
        "**Hint 2**: use the function `np.sqrt(some_number)` to calculate the square root ..."
      ],
      "metadata": {
        "id": "WdBWoRKesBqO"
      }
    },
    {
      "cell_type": "code",
      "source": [
        "# Complete the function below!\n",
        "def compute_one_sample_ttest(arr, h0):\n",
        "    ''' Computes the one-sample t-test for any array and h0. \n",
        "    \n",
        "    Parameters\n",
        "    ----------\n",
        "    arr : a 1D numpy array\n",
        "    h0 : an int or float\n",
        "    \n",
        "    Returns\n",
        "    -------\n",
        "    A single value representing the t-value\n",
        "    '''\n",
        "    x_bar= arr.mean()\n",
        "    s = arr.std()\n",
        "    n = arr.size\n",
        "    t =np.sqrt(n)*(x_bar - h0)/s\n",
        "    return t\n"
      ],
      "outputs": [],
      "execution_count": null,
      "metadata": {
        "nbgrader": {
          "grade": false,
          "grade_id": "cell-88f546129f9923eb",
          "locked": false,
          "schema_version": 1,
          "solution": true
        },
        "id": "MxLPMnyNsBqO"
      }
    },
    {
      "cell_type": "code",
      "source": [
        "''' Tests the ToDo above. '''\n",
        "arr = np.random.randn(100)\n",
        "outp = compute_one_sample_ttest(arr , 0)\n",
        "\n",
        "if outp is None:\n",
        "    raise ValueError(\"Your function didn't return anything! Did you forget the return statement?\")\n",
        "\n",
        "#test_tvalue_computation(arr, 0, outp)\n",
        "\n",
        "outp = compute_one_sample_ttest(arr, 5) \n",
        "#test_tvalue_computation(arr, 5, outp)\n",
        "\n",
        "outp = compute_one_sample_ttest(arr, -3) \n",
        "#test_tvalue_computation(arr, -3, outp)\n",
        "print(outp)"
      ],
      "outputs": [
        {
          "output_type": "stream",
          "name": "stdout",
          "text": [
            "33.14129980360978\n"
          ]
        }
      ],
      "execution_count": null,
      "metadata": {
        "nbgrader": {
          "grade": true,
          "grade_id": "cell-1c08ea53c4cbb8e4",
          "locked": true,
          "points": 2,
          "schema_version": 1,
          "solution": false
        },
        "id": "JxPOxMo7sBqO",
        "outputId": "46673970-76df-4f6e-d540-6e83e7f428c4",
        "colab": {
          "base_uri": "https://localhost:8080/"
        }
      }
    },
    {
      "cell_type": "markdown",
      "source": [
        "### Numpy: array math\n",
        "Now you know all the numpy basics necessary to do neuroimaging analysis! As you'll see in the last section (Working with nifti-images), we'll work with 3D (structural MRI images) or 4D (functional MRI images) numpy arrays a lot. Given that you know how the basics about numpy in general and numpy ndarrays in particular, we can utilize some of numpy's best features: (very fast) array math."
      ],
      "metadata": {
        "id": "kpWdBcHLsBqO"
      }
    },
    {
      "cell_type": "markdown",
      "source": [
        "Basic mathematical functions operate elementwise on arrays, which means that the operation (e.g. addition) is applied onto each element in the array.\n",
        "\n",
        "So, let's initialize a 1D array with ten zeros and let's add 1 to it:"
      ],
      "metadata": {
        "id": "TfwkD16BsBqO"
      }
    },
    {
      "cell_type": "code",
      "source": [
        "x = np.zeros(10)\n",
        "print(x, '\\n')\n",
        "x += 1 # remember: this the same as x = x + 1\n",
        "print(x)"
      ],
      "outputs": [
        {
          "output_type": "stream",
          "name": "stdout",
          "text": [
            "[0. 0. 0. 0. 0. 0. 0. 0. 0. 0.] \n",
            "\n",
            "[1. 1. 1. 1. 1. 1. 1. 1. 1. 1.]\n"
          ]
        }
      ],
      "execution_count": null,
      "metadata": {
        "id": "5AX_THwlsBqO",
        "outputId": "c7da8b60-cf28-47ec-85e7-4c1884cb7046",
        "colab": {
          "base_uri": "https://localhost:8080/"
        }
      }
    },
    {
      "cell_type": "markdown",
      "source": [
        "Additionally, you can also sum two arrays together in an elementwise manner by simply writing: `array_1 + array_2`, given that these two (or more) arrays are of the same shape! Let's look at an example:"
      ],
      "metadata": {
        "id": "Znucmyw3sBqP"
      }
    },
    {
      "cell_type": "code",
      "source": [
        "x = np.array([[1,2],[3,4]], dtype=np.float64)\n",
        "y = np.array([[5,6],[7,8]], dtype=np.float64)\n",
        "\n",
        "print(\"x: \\n%r\" % x, '\\n')\n",
        "print(\"y: \\n%r\" % y, '\\n')\n",
        "print(\"x+y: \\n%r\" % (x + y), '\\n')"
      ],
      "outputs": [
        {
          "output_type": "stream",
          "name": "stdout",
          "text": [
            "x: \n",
            "array([[1., 2.],\n",
            "       [3., 4.]]) \n",
            "\n",
            "y: \n",
            "array([[5., 6.],\n",
            "       [7., 8.]]) \n",
            "\n",
            "x+y: \n",
            "array([[ 6.,  8.],\n",
            "       [10., 12.]]) \n",
            "\n"
          ]
        }
      ],
      "execution_count": null,
      "metadata": {
        "id": "OE1d9pspsBqP",
        "outputId": "2fb61bfb-2db3-4f0b-bc5b-997b3d4014da",
        "colab": {
          "base_uri": "https://localhost:8080/"
        }
      }
    },
    {
      "cell_type": "markdown",
      "source": [
        "Often, there exist function-equivalents of the mathematical operators. For example, `x + y` is the same as `np.add(x, y)`. However, it is recommended to use the operators wherever possible to improve readability of your code. See below for an example:"
      ],
      "metadata": {
        "id": "SUWAWe-ysBqP"
      }
    },
    {
      "cell_type": "code",
      "source": [
        "print(x + y, '\\n')\n",
        "print(np.add(x, y))"
      ],
      "outputs": [
        {
          "output_type": "stream",
          "name": "stdout",
          "text": [
            "[[ 6.  8.]\n",
            " [10. 12.]] \n",
            "\n",
            "[[ 6.  8.]\n",
            " [10. 12.]]\n"
          ]
        }
      ],
      "execution_count": null,
      "metadata": {
        "id": "UxjjyVXasBqP",
        "outputId": "727add65-9e91-4350-f81b-4b393a600876",
        "colab": {
          "base_uri": "https://localhost:8080/"
        }
      }
    },
    {
      "cell_type": "markdown",
      "source": [
        "Next to addition, we can also do elementwise subtraction, multiplication, divison, square root, and exponentiation:"
      ],
      "metadata": {
        "id": "78AYk1-usBqP"
      }
    },
    {
      "cell_type": "code",
      "source": [
        "# Elementwise difference; both produce the array\n",
        "print(x - y, '\\n')\n",
        "print(np.subtract(x, y))  # function-equivalent of above "
      ],
      "outputs": [
        {
          "output_type": "stream",
          "name": "stdout",
          "text": [
            "[[-4. -4.]\n",
            " [-4. -4.]] \n",
            "\n",
            "[[-4. -4.]\n",
            " [-4. -4.]]\n"
          ]
        }
      ],
      "execution_count": null,
      "metadata": {
        "id": "358-huOXsBqP",
        "outputId": "c2a2fd56-22d9-479e-f293-8b2d681cd236",
        "colab": {
          "base_uri": "https://localhost:8080/"
        }
      }
    },
    {
      "cell_type": "code",
      "source": [
        "# Elementwise product; both produce the array\n",
        "print(x * y, '\\n')\n",
        "print(np.multiply(x, y))"
      ],
      "outputs": [
        {
          "output_type": "stream",
          "name": "stdout",
          "text": [
            "[[ 5. 12.]\n",
            " [21. 32.]] \n",
            "\n",
            "[[ 5. 12.]\n",
            " [21. 32.]]\n"
          ]
        }
      ],
      "execution_count": null,
      "metadata": {
        "id": "N4JH4F1zsBqQ",
        "outputId": "cda08e91-91b1-4254-a0f9-c72989bb50ae",
        "colab": {
          "base_uri": "https://localhost:8080/"
        }
      }
    },
    {
      "cell_type": "code",
      "source": [
        "# Elementwise division; both produce the array\n",
        "# [[ 0.2         0.33333333]\n",
        "#  [ 0.42857143  0.5       ]]\n",
        "print(x / y, '\\n')\n",
        "print(np.divide(x, y))"
      ],
      "outputs": [
        {
          "output_type": "stream",
          "name": "stdout",
          "text": [
            "[[0.2        0.33333333]\n",
            " [0.42857143 0.5       ]] \n",
            "\n",
            "[[0.2        0.33333333]\n",
            " [0.42857143 0.5       ]]\n"
          ]
        }
      ],
      "execution_count": null,
      "metadata": {
        "id": "DTFiYEUFsBqQ",
        "outputId": "859fb433-eac9-4725-9edd-c60fd4aed55b",
        "colab": {
          "base_uri": "https://localhost:8080/"
        }
      }
    },
    {
      "cell_type": "code",
      "source": [
        "# Elementwise square root; there is no operator-equivalent!\n",
        "print(np.sqrt(x))"
      ],
      "outputs": [
        {
          "output_type": "stream",
          "name": "stdout",
          "text": [
            "[[1.         1.41421356]\n",
            " [1.73205081 2.        ]]\n"
          ]
        }
      ],
      "execution_count": null,
      "metadata": {
        "id": "vWZupUHUsBqQ",
        "outputId": "d95e0803-95cd-4dbf-868f-b574c15f509c",
        "colab": {
          "base_uri": "https://localhost:8080/"
        }
      }
    },
    {
      "cell_type": "code",
      "source": [
        "# Elementwise exponentiation\n",
        "print(x ** y, '\\n')\n",
        "print(np.power(x, y))"
      ],
      "outputs": [
        {
          "output_type": "stream",
          "name": "stdout",
          "text": [
            "[[1.0000e+00 6.4000e+01]\n",
            " [2.1870e+03 6.5536e+04]] \n",
            "\n",
            "[[1.0000e+00 6.4000e+01]\n",
            " [2.1870e+03 6.5536e+04]]\n"
          ]
        }
      ],
      "execution_count": null,
      "metadata": {
        "id": "RXkRFYeqsBqQ",
        "outputId": "513906c8-27a7-49f5-e69f-67a2e87e8e51",
        "colab": {
          "base_uri": "https://localhost:8080/"
        }
      }
    },
    {
      "cell_type": "markdown",
      "source": [
        "<div class='alert alert-warning'>\n",
        "<b>ToDo</b> (1 point)\n",
        "</div>\n",
        "Do an elementwise product between the two variables defined below (`arr_A` and `arr_B`) and subsequently add 5 to each element; store the result in a new variable called `result_product_and_sum`."
      ],
      "metadata": {
        "id": "grtUHKG1sBqQ"
      }
    },
    {
      "cell_type": "code",
      "source": [
        "# Implement the ToDo!\n",
        "arr_A = np.arange(10).reshape((5, 2))\n",
        "arr_B = np.arange(10, 20).reshape((5, 2))\n",
        "\n",
        "result_product_and_sum = (5 + arr_A) * (5 + arr_B)\n",
        "print(result_product_and_sum)"
      ],
      "outputs": [
        {
          "output_type": "stream",
          "name": "stdout",
          "text": [
            "[[ 75  96]\n",
            " [119 144]\n",
            " [171 200]\n",
            " [231 264]\n",
            " [299 336]]\n"
          ]
        }
      ],
      "execution_count": null,
      "metadata": {
        "nbgrader": {
          "grade": false,
          "grade_id": "cell-d5729a8b40e30062",
          "locked": false,
          "schema_version": 1,
          "solution": true
        },
        "id": "eghyzxKGsBqQ",
        "outputId": "cdcb0b25-4049-4a55-eb78-49dd724592be",
        "colab": {
          "base_uri": "https://localhost:8080/"
        }
      }
    },
    {
      "cell_type": "code",
      "source": [
        "''' Tests the above ToDo. '''\n",
        "if 'result_product_and_sum' not in dir():\n",
        "    raise ValueError(\"The variable 'result_product_and_sum' does not seem to exist!\")\n",
        "\n",
        "#test_array_product_and_sum(result_product_and_sum)    "
      ],
      "outputs": [],
      "execution_count": null,
      "metadata": {
        "nbgrader": {
          "grade": true,
          "grade_id": "cell-df866669b921aff9",
          "locked": true,
          "points": 1,
          "schema_version": 1,
          "solution": false
        },
        "id": "7MdEHY1vsBqR"
      }
    },
    {
      "cell_type": "markdown",
      "source": [
        "Note that unlike MATLAB, `*` is elementwise multiplication, not matrix multiplication. We instead use the dot function (or method!) to  compute matrix operations like inner products of vectors, multiplication of a vector by a matrix, and multiplication of two matrices.\n",
        "\n",
        "These matrix operations are quite important in this course, because they are used a lot in neuroimaging methods (such as the General Linear Model, the topic of next week!). You're not expected to fully understand these matrix operations, but you'll see them several times in this course, so make sure you're familiar with its implementation in Python/Numpy.\n",
        "\n",
        "An example of the inner product (\"dot product\") of two vectors in both the function-format and the method-format:"
      ],
      "metadata": {
        "id": "9PG14CNwsBqR"
      }
    },
    {
      "cell_type": "code",
      "source": [
        "v = np.array([9,10])\n",
        "w = np.array([11, 12])\n",
        "\n",
        "# Inner product of vectors; both produce 219\n",
        "print(v.dot(w))\n",
        "print(np.dot(v, w))"
      ],
      "outputs": [
        {
          "output_type": "stream",
          "name": "stdout",
          "text": [
            "219\n",
            "219\n"
          ]
        }
      ],
      "execution_count": null,
      "metadata": {
        "id": "9TyA6bp8sBqR",
        "outputId": "e2bb7e54-f80b-4723-b5fd-2263cc6d3783",
        "colab": {
          "base_uri": "https://localhost:8080/"
        }
      }
    },
    {
      "cell_type": "markdown",
      "source": [
        "Probably the most used functions in numpy are the sum() and mean() fuctions (or equivalent methods!). A nice feature is that they can operate on the entire array (this is the default) or they can be applied per dimension (or, in numpy lingo, per \"axis\").\n",
        "\n",
        "Applying functions along axes is very common in scientific computing! Let's look at an example in which we apply the `sum` function/method across rows and columns:"
      ],
      "metadata": {
        "id": "Htf4mOPLsBqR"
      }
    },
    {
      "cell_type": "code",
      "source": [
        "x = np.array([[1, 2],[3, 4], [5, 6]])\n",
        "\n",
        "print('Original array:')\n",
        "print(x, '\\n')\n",
        "\n",
        "print('Sum over ALL elements of x:')\n",
        "print(np.sum(x), '\\n')\n",
        "\n",
        "print('Sum across rows of x:')\n",
        "print(np.sum(x, axis=0), '\\n')\n",
        "\n",
        "print('Sum across columns of x:')\n",
        "print(x.sum(axis=1)) # this is the method form! Is exactly the same as np.sum(x, axis=1) "
      ],
      "outputs": [
        {
          "output_type": "stream",
          "name": "stdout",
          "text": [
            "Original array:\n",
            "[[1 2]\n",
            " [3 4]\n",
            " [5 6]] \n",
            "\n",
            "Sum over ALL elements of x:\n",
            "21 \n",
            "\n",
            "Sum across rows of x:\n",
            "[ 9 12] \n",
            "\n",
            "Sum across columns of x:\n",
            "[ 3  7 11]\n"
          ]
        }
      ],
      "execution_count": null,
      "metadata": {
        "id": "hCnrCpm7sBqR",
        "outputId": "447cbdf0-563b-496b-d1ed-bb0337b45c07",
        "colab": {
          "base_uri": "https://localhost:8080/"
        }
      }
    },
    {
      "cell_type": "markdown",
      "source": [
        "Importantly, application of functions across axes is much quicker (and more concise) than writing for-loops! Let's look at the speed difference between a for-loop (implemented as a list comprehension) and the numpy-style application of the `sum` function across axes:"
      ],
      "metadata": {
        "id": "H_4sGZ2EsBqS"
      }
    },
    {
      "cell_type": "code",
      "source": [
        "arr = np.random.random((1000, 100))\n",
        "loop_style = %timeit -o [arr[i, :].sum() for i in range(arr.shape[0])]\n",
        "axis_style = %timeit -o arr.sum(axis=1)\n",
        "print(\"Using the axis-argument is %.3f times faster than a for-loop!\" % (loop_style.average / axis_style.average))"
      ],
      "outputs": [
        {
          "output_type": "stream",
          "name": "stdout",
          "text": [
            "2.09 ms ± 487 µs per loop (mean ± std. dev. of 7 runs, 1000 loops each)\n",
            "73.1 µs ± 11.7 µs per loop (mean ± std. dev. of 7 runs, 10000 loops each)\n",
            "Using the axis-argument is 28.572 times faster than a for-loop!\n"
          ]
        }
      ],
      "execution_count": null,
      "metadata": {
        "id": "HkfXxHP4sBqS",
        "outputId": "d9ce6d2b-b6ed-43e9-e871-90ea403e9c66",
        "colab": {
          "base_uri": "https://localhost:8080/"
        }
      }
    },
    {
      "cell_type": "markdown",
      "source": [
        "This application of functions on entire arrays (in an elementwise manner, like `arr_1 + arr_2`) and application of functions across a certain axis (like `np.sum(arr_1, axis=1)`) is often called **vectorization**. This is an incredibly useful concept and something we'll use a lot in this course! Make sure you understand this. \n",
        "\n",
        "Let's practice this a bit."
      ],
      "metadata": {
        "id": "x_KgiGGMsBqS"
      }
    },
    {
      "cell_type": "markdown",
      "source": [
        "<div class='alert alert-warning'>\n",
        "<b>ToDo</b> (1 point)\n",
        "</div>\n",
        "Remember the \"range\" function from before? Below, we started writing a function, called `calculate_range_vectorized`, that calculates, for any 2D array, the range of each column (i.e. calculates range **across rows** for each column) in a *vectorized manner* (so without any for loops!).\n",
        "\n",
        "Complete the function, and make sure to return the result, which should be a 1D vector which values represents the ranges for all columns. So, if the input array would be of shape `(100, 10)`, then the shape of your returned array should be `(10,)`."
      ],
      "metadata": {
        "id": "oohRb9eEsBqS"
      }
    },
    {
      "cell_type": "code",
      "source": [
        "def compute_range_vectorized(arr):\n",
        "    ''' Compute the range across rows for each column in a 2D array. \n",
        "    \n",
        "    Parameters\n",
        "    ----------\n",
        "    arr : a 2D numpy array\n",
        "    \n",
        "    Returns\n",
        "    -------\n",
        "    A 1D vector with the ranges for each column\n",
        "    '''\n",
        "    size_arr_2d = arr.size\n",
        "    arr_1d = arr.ravel()\n",
        "    size_arr_1d = arr_1d.size\n",
        "    return size_arr_1d\n"
      ],
      "outputs": [],
      "execution_count": null,
      "metadata": {
        "nbgrader": {
          "grade": false,
          "grade_id": "cell-e5cf94c93d9f9f5a",
          "locked": false,
          "schema_version": 1,
          "solution": true
        },
        "id": "q7MZE2WwsBqS"
      }
    },
    {
      "cell_type": "code",
      "source": [
        "np.random.seed(42)\n",
        "test_arr = np.random.random((100, 10))\n",
        "outp = compute_range_vectorized(test_arr)\n",
        "print(outp)\n",
        "if outp is None:\n",
        "    raise ValueError(\"Output is None! Did you forget the Return statement in your function?\")\n",
        "\n",
        "#test_compute_range_vectorized(test_arr, outp)"
      ],
      "outputs": [
        {
          "output_type": "stream",
          "name": "stdout",
          "text": [
            "1000\n"
          ]
        }
      ],
      "execution_count": null,
      "metadata": {
        "nbgrader": {
          "grade": true,
          "grade_id": "cell-c8726c1e2391c059",
          "locked": true,
          "points": 1,
          "schema_version": 1,
          "solution": false
        },
        "id": "BX6cYobGsBqS",
        "outputId": "0596a803-5719-441b-8e64-f07f9bc6f6d4",
        "colab": {
          "base_uri": "https://localhost:8080/"
        }
      }
    },
    {
      "cell_type": "markdown",
      "source": [
        "### Broadcasting\n",
        "Broadcasting is a powerful mechanism that allows numpy to work with arrays of different shapes when performing arithmetic operations. Frequently we have a smaller array and a larger array, and we want to use the smaller array multiple times to perform some operation on the larger array.\n",
        "\n",
        "For example, suppose that we want to add a vector to each row of a matrix. We could do it like this:"
      ],
      "metadata": {
        "id": "Rly56uatsBqS"
      }
    },
    {
      "cell_type": "code",
      "source": [
        "# We will add the vector v to each row of the matrix x,\n",
        "# storing the result in the matrix y\n",
        "x = np.array([[1,2,3], [4,5,6], [7,8,9], [10, 11, 12]])\n",
        "\n",
        "print('x array is of shape: %r' % (x.shape,))\n",
        "print(x, '\\n')\n",
        "\n",
        "v = np.array([1, 0, 1])\n",
        "print('v vector is of shape: %r (different shape than x!)' % (v.shape,))\n",
        "print(v, '\\n')\n",
        "\n",
        "y = np.zeros(x.shape)   # Create an empty (zeros) matrix with the same shape as x\n",
        "print('Shape of (pre-allocated) y-matrix: %r' % (y.shape,))\n",
        "\n",
        "# Add the vector v to each row of the matrix x with an explicit loop\n",
        "for i in range(x.shape[0]): # see how the shape attributes comes in handy in creating loops?\n",
        "    y[i, :] = x[i, :] + v\n",
        "\n",
        "print('The result of adding v to each row of x, as stored in y:')\n",
        "print(y)\n",
        "print(x.shape[1])"
      ],
      "outputs": [
        {
          "output_type": "stream",
          "name": "stdout",
          "text": [
            "x array is of shape: (4, 3)\n",
            "[[ 1  2  3]\n",
            " [ 4  5  6]\n",
            " [ 7  8  9]\n",
            " [10 11 12]] \n",
            "\n",
            "v vector is of shape: (3,) (different shape than x!)\n",
            "[1 0 1] \n",
            "\n",
            "Shape of (pre-allocated) y-matrix: (4, 3)\n",
            "The result of adding v to each row of x, as stored in y:\n",
            "[[ 2.  2.  4.]\n",
            " [ 5.  5.  7.]\n",
            " [ 8.  8. 10.]\n",
            " [11. 11. 13.]]\n",
            "3\n"
          ]
        }
      ],
      "execution_count": null,
      "metadata": {
        "id": "Oz8PO9qIsBqT",
        "outputId": "326c121f-85b5-458e-b2f4-96e2fc1fee1a",
        "colab": {
          "base_uri": "https://localhost:8080/"
        }
      }
    },
    {
      "cell_type": "markdown",
      "source": [
        "This works; however when the matrix `x` is very large, computing an explicit for-loop in Python could be slow. Note that adding the vector v to each row of the matrix `x` is equivalent to forming a matrix `vv` by stacking multiple copies of `v` vertically, like this `[[1 0 1], [1 0 1], [1 0 1], [1 0 1]]`, and subsequently elementwise addition of `x + vv`:"
      ],
      "metadata": {
        "id": "KndgXcUosBqT"
      }
    },
    {
      "cell_type": "code",
      "source": [
        "vv = np.tile(v, (4, 1)) # i.e. expand vector 'v' 4 times along the row dimension (similar to MATLAB's repmat function)\n",
        "print(vv)\n",
        "print(x)\n",
        "y = x + vv  # Add x and vv elementwise\n",
        "print(y)"
      ],
      "outputs": [
        {
          "output_type": "stream",
          "name": "stdout",
          "text": [
            "[[1 0 1]\n",
            " [1 0 1]\n",
            " [1 0 1]\n",
            " [1 0 1]]\n",
            "[[ 1  2  3]\n",
            " [ 4  5  6]\n",
            " [ 7  8  9]\n",
            " [10 11 12]]\n",
            "[[ 2  2  4]\n",
            " [ 5  5  7]\n",
            " [ 8  8 10]\n",
            " [11 11 13]]\n"
          ]
        }
      ],
      "execution_count": null,
      "metadata": {
        "id": "8sjZPjZ_sBqT",
        "outputId": "3a600958-f0c5-4538-c4d2-ae3e049500e2",
        "colab": {
          "base_uri": "https://localhost:8080/"
        }
      }
    },
    {
      "cell_type": "markdown",
      "source": [
        "Numpy **broadcasting** allows us to perform this computation without actually creating multiple copies of v. Consider this version, using broadcasting:"
      ],
      "metadata": {
        "id": "bIiyOliOsBqT"
      }
    },
    {
      "cell_type": "code",
      "source": [
        "# We will add the vector v to each row of the matrix x,\n",
        "# storing the result in the matrix y\n",
        "x = np.array([[1,2,3], [4,5,6], [7,8,9], [10, 11, 12]])\n",
        "v = np.array([1, 0, 1])\n",
        "y = x + v  # Add v to each row of x using broadcasting\n",
        "print(y)"
      ],
      "outputs": [
        {
          "output_type": "stream",
          "name": "stdout",
          "text": [
            "[[ 2  2  4]\n",
            " [ 5  5  7]\n",
            " [ 8  8 10]\n",
            " [11 11 13]]\n"
          ]
        }
      ],
      "execution_count": null,
      "metadata": {
        "id": "fEoFSxkdsBqT",
        "outputId": "7e2babd4-1203-4dfd-95c2-af25c2705b1b",
        "colab": {
          "base_uri": "https://localhost:8080/"
        }
      }
    },
    {
      "cell_type": "markdown",
      "source": [
        "The line `y = x + v` works even though `x` has shape `(4, 3)` and `v` has shape `(3,)` due to broadcasting; this line works as if v actually had shape `(4, 3)`, where each row was a copy of `v`, and the sum was performed elementwise.\n",
        "\n",
        "This broadcasting function is really useful, as it prevents us from writing unnessary and by definition slower explicit for-loops. Additionally, it's way easier to read and write than explicit for-loops (which need pre-allocation). Functions that support broadcasting are known as universal functions. You can find the list of all universal functions in the [documentation](http://docs.scipy.org/doc/numpy/reference/ufuncs.html#available-ufuncs).\n",
        "\n",
        "Here are some applications of broadcasting using different functions:"
      ],
      "metadata": {
        "id": "XjBmfyTvsBqT"
      }
    },
    {
      "cell_type": "code",
      "source": [
        "x = np.array([[1, 2],[3, 4], [5, 6]], dtype=float)\n",
        "x_sum = x.sum(axis=0)\n",
        "\n",
        "print(x / x_sum, '\\n')\n",
        "\n",
        "x_mean = x.mean(axis=0)\n",
        "print(x / x_mean)"
      ],
      "outputs": [
        {
          "output_type": "stream",
          "name": "stdout",
          "text": [
            "[[0.11111111 0.16666667]\n",
            " [0.33333333 0.33333333]\n",
            " [0.55555556 0.5       ]] \n",
            "\n",
            "[[0.33333333 0.5       ]\n",
            " [1.         1.        ]\n",
            " [1.66666667 1.5       ]]\n"
          ]
        }
      ],
      "execution_count": null,
      "metadata": {
        "id": "6UJturbAsBqT",
        "outputId": "985a27c6-6053-4428-9432-0419191e985e",
        "colab": {
          "base_uri": "https://localhost:8080/"
        }
      }
    },
    {
      "cell_type": "markdown",
      "source": [
        "<div class='alert alert-warning'>\n",
        "<b>ToDo</b> (0 points)\n",
        "</div>\n",
        "Below, we started writing a function called `standardize_columns`, which takes a single input-argument - a 2D numpy array - and should subsequently *standardize* each column such that each column has a mean of zero and a standard deviation of 1. In other words, standardization subtracts the mean (across rows) of each column from the values in that column, and then divides those value with the standard deviation of that column. Formally, for each column $j$ in any 2D array, standardization entails:\n",
        "\n",
        "\\begin{align}\n",
        "x_{j}\\ standardized = \\frac{(x_{j} - \\bar{x_{j}})}{std(x_{j})}\n",
        "\\end{align}\n",
        "\n",
        "Standardization, which is also oftend called \"z-transformation\", is often done in statistics. We'll also see this next week.\n",
        "\n",
        "So, in the function below, make sure that it is able to standardize each column in any 2D array. Make sure to use vectorized array computations (i.e, the `np.mean` and `np.std` functions/methods across rows) and broadcasting, so no for-loops! "
      ],
      "metadata": {
        "id": "yQZrOrbRsBqU"
      }
    },
    {
      "cell_type": "code",
      "source": [
        "def standardize_columns(arr):\n",
        "    ''' Standardize each column of a 2D input-array. \n",
        "    \n",
        "    Parameters\n",
        "    ----------\n",
        "    arr : a 2D numpy array\n",
        "    \n",
        "    Returns\n",
        "    -------\n",
        "    The input-array with standardized columns (should have the same shape as the input-array!)\n",
        "    '''\n",
        "    \n",
        "    ### BEGIN SOLUTION\n",
        "    return (arr - arr.mean(axis=0)) / arr.std(axis=0)\n",
        "    ### END SOLUTION"
      ],
      "outputs": [],
      "execution_count": null,
      "metadata": {
        "nbgrader": {
          "grade": false,
          "grade_id": "cell-4935a66842e00087",
          "locked": false,
          "schema_version": 1,
          "solution": true
        },
        "id": "AP7ZmImSsBqU"
      }
    },
    {
      "cell_type": "code",
      "source": [
        "''' Tests the above ToDo. '''\n",
        "\n",
        "test_arr = np.random.normal(5, 2, size=(100, 10))\n",
        "outp = standardize_columns(test_arr)\n",
        "\n",
        "if outp is None:\n",
        "    raise ValueError(\"The output from your function is None; did you forget the Return statement?\")\n",
        "\n",
        "try:\n",
        "    np.testing.assert_array_almost_equal(outp.mean(axis=0), np.zeros(test_arr.shape[1]))\n",
        "except AssertionError as e:\n",
        "    print(\"The mean of the columns of your standardized array are not 0!\")\n",
        "    raise(e)\n",
        "\n",
        "try:\n",
        "    np.testing.assert_array_almost_equal(outp.std(axis=0), np.ones(test_arr.shape[1]))\n",
        "except AssertionError as e:\n",
        "    print(\"The std of the columns of your standardized array are not 1!\")\n",
        "    raise(e)\n",
        "    \n",
        "print(\"Well done!\")"
      ],
      "outputs": [
        {
          "output_type": "stream",
          "name": "stdout",
          "text": [
            "Well done!\n"
          ]
        }
      ],
      "execution_count": null,
      "metadata": {
        "nbgrader": {
          "grade": true,
          "grade_id": "cell-2d54b8794bc73398",
          "locked": true,
          "points": 2,
          "schema_version": 1,
          "solution": false
        },
        "id": "yxUF5f7HsBqU",
        "outputId": "96770a16-6307-4daa-a45c-0ee374a5b956",
        "colab": {
          "base_uri": "https://localhost:8080/"
        }
      }
    },
    {
      "cell_type": "markdown",
      "source": [
        "Now, you know the most important numpy concepts and functionality that is necessary to do neuroimaging analysis. Surely, there is a lot more to the numpy package that what we've covered here! But for now, let's continue with plotting using Matplotlib!"
      ],
      "metadata": {
        "id": "lsr5GKi7sBqU"
      }
    },
    {
      "cell_type": "markdown",
      "source": [
        "## 3. Matplotlib\n",
        "Matplotlib is Python's main plotting library. In this section give a brief introduction to the `matplotlib.pyplot` module, which provides a plotting system similar to that of MATLAB."
      ],
      "metadata": {
        "id": "5IL6bwCisBqU"
      }
    },
    {
      "cell_type": "code",
      "source": [
        "import matplotlib.pyplot as plt # this is how matplotlib.pyplot is usually imported\n",
        "import numpy as np"
      ],
      "outputs": [],
      "execution_count": null,
      "metadata": {
        "id": "4MEmnd19sBqU"
      }
    },
    {
      "cell_type": "markdown",
      "source": [
        "By running this special iPython command, we will be displaying plots inline (instead of in a new window; this is only relevant in Jupyter notebooks!):"
      ],
      "metadata": {
        "id": "ewLnq_VJsBqU"
      }
    },
    {
      "cell_type": "code",
      "source": [
        "%matplotlib inline"
      ],
      "outputs": [],
      "execution_count": null,
      "metadata": {
        "id": "wdAPGE9ysBqV"
      }
    },
    {
      "cell_type": "markdown",
      "source": [
        "### Plotting\n",
        "The most important function in `matplotlib` is **`plot`**, which allows you to plot 1 dimensional data. Here is a simple example:"
      ],
      "metadata": {
        "id": "fBoiCWYzsBqV"
      }
    },
    {
      "cell_type": "code",
      "source": [
        "# Draw a line with coordinates from vectors x and y\n",
        "x = np.arange(0, 11)  # 0 - 10\n",
        "y = np.arange(0, 11)  # 0 - 10, same as x\n",
        "\n",
        "# Plot the points using matplotlib\n",
        "plt.plot(x, y)\n",
        "plt.show()"
      ],
      "outputs": [],
      "execution_count": null,
      "metadata": {
        "id": "IWJRCs1JsBqV"
      }
    },
    {
      "cell_type": "markdown",
      "source": [
        "With just a little bit of extra work we can easily plot multiple lines at once, and add a title, legend, and axis labels:"
      ],
      "metadata": {
        "id": "_QlNFkWqsBqV"
      }
    },
    {
      "cell_type": "code",
      "source": [
        "y2 = np.ones(x.size)  # vector of ones, i.e., straight line\n",
        "\n",
        "# Plot the points using matplotlib\n",
        "plt.plot(x, y)\n",
        "plt.plot(x, y2)\n",
        "plt.xlabel('x axis label')\n",
        "plt.ylabel('y axis label')\n",
        "plt.title('Two lines')\n",
        "plt.legend(['Linear increasing line', 'Constant line'])\n",
        "plt.show()"
      ],
      "outputs": [],
      "execution_count": null,
      "metadata": {
        "id": "op__ZkBjsBqV"
      }
    },
    {
      "cell_type": "markdown",
      "source": [
        "### Subplots \n",
        "You can plot different subplots in a single figure using the subplot function. Here is an example:"
      ],
      "metadata": {
        "id": "X7SO7aPNsBqV"
      }
    },
    {
      "cell_type": "code",
      "source": [
        "# Compute the x and y coordinates for points on sine and cosine curves\n",
        "x = np.arange(0, 3 * np.pi, 0.1)\n",
        "y_sin = np.sin(x)\n",
        "y_cos = np.cos(x)\n",
        "\n",
        "# Set up a subplot grid that has 2 'rows' and 1 'column',\n",
        "# and set the first such subplot as active.\n",
        "plt.subplot(2, 1, 1)  # the third argument here sets the 'active' plot\n",
        "\n",
        "# Make the first plot\n",
        "plt.plot(x, y_sin)\n",
        "plt.title('Sine')\n",
        "\n",
        "# Set the second subplot as active, and make the second plot.\n",
        "plt.subplot(2, 1, 2)\n",
        "plt.plot(x, y_cos)\n",
        "plt.title('Cosine')\n",
        "\n",
        "# Show the figure.\n",
        "plt.tight_layout() # this prevents plots from overlapping\n",
        "plt.show()"
      ],
      "outputs": [],
      "execution_count": null,
      "metadata": {
        "id": "DuGFYPwIsBqV"
      }
    },
    {
      "cell_type": "markdown",
      "source": [
        "And we can add text to plots as such:"
      ],
      "metadata": {
        "id": "EffNY7X6sBqW"
      }
    },
    {
      "cell_type": "code",
      "source": [
        "x = np.arange(-1, 1, 0.01) # array from -1 to 1 in steps of 0.01\n",
        "\n",
        "# Set up a subplot grid that has 2 'rows' and 1 'column',\n",
        "# and set the first such subplot as active.\n",
        "plt.subplot(2, 1, 1)\n",
        "plt.plot(x, x ** 2)\n",
        "plt.title('x squared')\n",
        "plt.text(-0.5, 0.4, r\"$y=x^2$\", fontsize=20, color=\"blue\")\n",
        "\n",
        "# Set the second subplot as active, and make the second plot.\n",
        "plt.subplot(2, 1, 2)\n",
        "plt.plot(x, x ** 3)\n",
        "plt.title('x cubed')\n",
        "plt.text(-0.5, 0.4, r\"$y=x^3$\", fontsize=20, color=\"green\")\n",
        "\n",
        "plt.tight_layout()\n",
        "plt.show()"
      ],
      "outputs": [],
      "execution_count": null,
      "metadata": {
        "id": "0uNk-H7msBqW"
      }
    },
    {
      "cell_type": "markdown",
      "source": [
        "You can read much more about the `subplot` function in the [documentation](http://matplotlib.org/api/pyplot_api.html#matplotlib.pyplot.subplot)."
      ],
      "metadata": {
        "id": "FYjLuYRjsBqW"
      }
    },
    {
      "cell_type": "markdown",
      "source": [
        "<div class='alert alert-warning'>\n",
        "<b>ToDo</b> (0 points)\n",
        "</div>\n",
        "Below, we initialized a 2D array of shape `(10, 100)` named `arr_2D`. In a figure with two subplots (across two columns), plot in the left subplot the mean across columns (i.e., 10 values) and in the right subplot plot the standard deviation across columns (also 10 values). **Hint**: these values represent the values on the `y-axis`. You can use `x = np.arange(10)` for the `x-axis`.\n",
        "\n",
        "Also, give the subplots labels for the x- and y-axis, and give it a title.\n",
        "\n",
        "Note: this ToDo is manually graded, so there is no test-cell!"
      ],
      "metadata": {
        "id": "GvP1GVA3sBqW"
      }
    },
    {
      "cell_type": "code",
      "source": [
        "arr_2D = np.random.normal(0, 1, size=(10, 100))\n",
        "\n",
        "# Make your plot below!\n",
        "\n"
      ],
      "outputs": [],
      "execution_count": null,
      "metadata": {
        "nbgrader": {
          "grade": true,
          "grade_id": "cell-0624cc7a2015ea5b",
          "locked": false,
          "points": 1,
          "schema_version": 1,
          "solution": true
        },
        "id": "T2qBd3t-sBqW"
      }
    },
    {
      "cell_type": "markdown",
      "source": [
        "### Histograms\n",
        "Now let's generate some random data using the np.random functionality, and get some histograms of their distributions"
      ],
      "metadata": {
        "id": "1yIV7C_MsBqW"
      }
    },
    {
      "cell_type": "code",
      "source": [
        "rand_uniform = np.random.uniform(size = (1000)) # uniform distribution\n",
        "rand_normal = np.random.normal(size = (1000))   # normal distribution\n",
        "rand_exponential = np.random.exponential(size = (1000)) # exponential distribution"
      ],
      "outputs": [],
      "execution_count": null,
      "metadata": {
        "id": "lMJohfGJsBqW"
      }
    },
    {
      "cell_type": "code",
      "source": [
        "# Set up a subplot grid that has rows=2 and columns=3,\n",
        "# and set the first such subplot as active.\n",
        "plt.subplot(1, 3, 1)\n",
        "\n",
        "# Make the first plot\n",
        "plt.hist(rand_uniform, color='g')\n",
        "plt.title('uniform')\n",
        "\n",
        "# Set the second subplot as active, and make the second plot.\n",
        "plt.subplot(1, 3, 2)\n",
        "plt.hist(rand_normal, color='b')\n",
        "\n",
        "plt.title('normal')\n",
        "\n",
        "# Set the second subplot as active, and make the second plot.\n",
        "plt.subplot(1, 3, 3)\n",
        "plt.hist(rand_exponential, color='r')\n",
        "plt.title('exponential')\n",
        "\n",
        "plt.tight_layout()\n",
        "plt.show()"
      ],
      "outputs": [],
      "execution_count": null,
      "metadata": {
        "id": "INUcKtEcsBqW"
      }
    },
    {
      "cell_type": "markdown",
      "source": [
        "### Images\n",
        "So far, we've been plotting lines. Matplotlib also has easy functionality for plotting two-dimensional data-arrays, such as pictures. This is done using the command `plt.imshow()`. We'll use this feature a lot, because it allows us to visualize 2D slices of MRI-data as well! (Remember, MRI data is essentially just a 3D \"picture\" of the brain.) "
      ],
      "metadata": {
        "id": "qlLd2FkBsBqX"
      }
    },
    {
      "cell_type": "code",
      "source": [
        "# the scipy module includes some pictures, so we can use those:\n",
        "from scipy import misc\n",
        "bw_photo = misc.face(gray=True)\n",
        "\n",
        "# now we can use the imshow command to plot 2d data:\n",
        "plt.imshow(bw_photo,cmap='gray')\n",
        "plt.show()"
      ],
      "outputs": [],
      "execution_count": null,
      "metadata": {
        "id": "tihBBkYZsBqX"
      }
    },
    {
      "cell_type": "markdown",
      "source": [
        "Importanty, photos are just 2D arrays with numbers representing the luminance (in black-and-white pictures) of each pixel. You can see this by printing the loaded image:"
      ],
      "metadata": {
        "id": "4hwazFttsBqX"
      }
    },
    {
      "cell_type": "code",
      "source": [
        "print(\"Shape of photo object: %r\" % (bw_photo.shape,), '\\n')\n",
        "print(bw_photo)"
      ],
      "outputs": [],
      "execution_count": null,
      "metadata": {
        "id": "SCx7cSN-sBqX"
      }
    },
    {
      "cell_type": "markdown",
      "source": [
        "You can see that it's actually just a bunch of numbers (one number per pixel), and when we plot colorbar with the original picture, we see that high numbers convert to bright shades, and low numbers convert to dark shades. "
      ],
      "metadata": {
        "id": "_-F2CLF7sBqX"
      }
    },
    {
      "cell_type": "code",
      "source": [
        "plt.imshow(bw_photo,cmap='gray')\n",
        "plt.colorbar()\n",
        "plt.show()"
      ],
      "outputs": [],
      "execution_count": null,
      "metadata": {
        "id": "iO5unnoCsBqX"
      }
    },
    {
      "cell_type": "markdown",
      "source": [
        "Using the knowledge that black and white images are nothing more than just 2d-arrays of values, we can also generate our own images:"
      ],
      "metadata": {
        "id": "PXRqV22SsBqX"
      }
    },
    {
      "cell_type": "code",
      "source": [
        "rand_img = np.random.random((200,200)) # Create an array filled with random values\n",
        "print(rand_img, '\\n')\n",
        "plt.imshow(rand_img, cmap='gray')\n",
        "plt.colorbar()\n",
        "plt.show()"
      ],
      "outputs": [],
      "execution_count": null,
      "metadata": {
        "id": "Hj4VfRiGsBqX"
      }
    },
    {
      "cell_type": "markdown",
      "source": [
        "<div class='alert alert-warning'>\n",
        "<b>ToDo</b> (0 points, no test-cell)\n",
        "</div>\n",
        "Below, we loaded in a 2D array of shape (91, 108) named `mystery_data`. Visualize it using `plt.imshow()` (using the argument `cmap='gray'`) to check out what the data entails!"
      ],
      "metadata": {
        "id": "XfoyKXPUsBqY"
      }
    },
    {
      "cell_type": "code",
      "source": [
        "mystery_data = np.load('mystery_data.npy')\n",
        "\n",
        "# Visualize it using plt.imshow!"
      ],
      "outputs": [],
      "execution_count": null,
      "metadata": {
        "id": "Tob-itiWsBqY"
      }
    },
    {
      "cell_type": "markdown",
      "source": [
        "Now that you know some basics of data types, arrays and plotting, it's time to get to work with some fMRI data!"
      ],
      "metadata": {
        "id": "qdLCxhousBqY"
      }
    },
    {
      "cell_type": "markdown",
      "source": [
        "## 3. Neuroimaging analysis with Python\n",
        "Although (f)MRI data can come in many formats, by far the most used format is **nifti** (nifti has been developed by the **n**euroimaging **i**n**f**ormatics **t**echnology **i**nitiative). Throughout these tutorials you'll work with these nifti-files (also called nifti images), which you can recognize by their extension of **.nii** or its compressed version **.nii.gz**. This file-format is also used by some of the main neuroimaging software packages such as AFNI, nipype, and FSL. (You'll use FSL later in this course!). \n",
        "\n",
        "However, we'd like to inspect and analyze nifti images in Python as well! **Nibabel** is a Python package that allows us to read and load nifti images as numpy arrays in a straightforward manner. Let's look at an example:"
      ],
      "metadata": {
        "id": "XH8IubZhsBqY"
      }
    },
    {
      "cell_type": "code",
      "source": [
        "# If you haven't done so already, load some other packages we need\n",
        "import numpy as np\n",
        "import matplotlib.pyplot as plt\n",
        "import nibabel as nib # common way of importing nibabel"
      ],
      "outputs": [],
      "execution_count": null,
      "metadata": {
        "id": "Q9LeAXlbsBqY"
      }
    },
    {
      "cell_type": "markdown",
      "source": [
        "We'll load in an fMRI-scan using nibabel below:"
      ],
      "metadata": {
        "id": "SOlBTQ_IsBqY"
      }
    },
    {
      "cell_type": "code",
      "source": [
        "data_path = '/content/drive/MyDrive/func_data.nii.gz'\n",
        "data = nib.load(data_path)"
      ],
      "outputs": [],
      "execution_count": null,
      "metadata": {
        "id": "F36sycm4sBqY"
      }
    },
    {
      "cell_type": "code",
      "source": [
        "from google.colab import drive\n",
        "drive.mount('/content/drive')"
      ],
      "metadata": {
        "id": "5fqurXEuAkkq",
        "outputId": "d5c27e3d-8c8c-447a-abee-bae5276cb9fe",
        "colab": {
          "base_uri": "https://localhost:8080/"
        }
      },
      "execution_count": null,
      "outputs": [
        {
          "output_type": "stream",
          "name": "stdout",
          "text": [
            "Mounted at /content/drive\n"
          ]
        }
      ]
    },
    {
      "cell_type": "markdown",
      "source": [
        "Right now, we haven't loaded the *actual* data **in memory** yet, but only the meta-data (information **about** the data, such as its shape, dimensions, and some technical MRI acquisition parameters). So, what we've loaded now (in the variable `data`) is **not** a numpy array (yet), but a different object: a `Nifti-object`.\n",
        "\n",
        "Like a numpy array, this object has some attributes and methods that we can use. \n",
        "Let's check out some of this meta-data that is already available through its methods/attributes.\n",
        "\n",
        "For example, `Nifti-objects`, like numpy-arrays, also have a `shape` attribute:"
      ],
      "metadata": {
        "id": "5jdMJmsmsBqY"
      }
    },
    {
      "cell_type": "code",
      "source": [
        "print('Shape of the data:')\n",
        "print(data.shape) # this is one of the attributes of a Nifti-object in Python, just like a numpy array shape attribute!"
      ],
      "outputs": [
        {
          "output_type": "stream",
          "name": "stdout",
          "text": [
            "Shape of the data:\n",
            "(80, 80, 37, 200)\n"
          ]
        }
      ],
      "execution_count": null,
      "metadata": {
        "id": "xkzh_S34sBqZ",
        "outputId": "9a8c55d7-9efb-4baf-bf42-d1e25d47d9bd",
        "colab": {
          "base_uri": "https://localhost:8080/"
        }
      }
    },
    {
      "cell_type": "markdown",
      "source": [
        "From the shape of the data, we can already infer some things about the file we're working with. Clearly, it has 4 dimensions, which means that it is a functional file: 3 spatial dimensions, and 1 time dimension! Remember the blood-pressure data? This 4D representation of fMRI files is very similar. Here, each axis represents a different feature/factor of the data: \n",
        "\n",
        "1. the first axis represents the first spatial dimension (the \"saggital\" dimension, usually referred to as $X$)\n",
        "2. the second axis represents the second spatial dimension (the \"coronal\" dimension, usually referred to as $Y$)\n",
        "3. the third axis represents the third spatial dimension (the \"axial\" dimension, usually referred to as $Z$)\n",
        "4. the fourth axis represents the time dimension (usually referred to as $T$, or $N$, \"volumes\", or \"dynamics\")\n",
        "\n",
        "We'll practice with this data-organization later.\n",
        "\n",
        "Another attribute of this Nifti-object that you might check is the **header** attribute. Perhaps confusingly, the header attribute is another object itself, also with its own methods and attributes. Let's check out some of them: "
      ],
      "metadata": {
        "id": "edocKFGHsBqZ"
      }
    },
    {
      "cell_type": "code",
      "source": [
        "header = data.header\n",
        "print('Get the measurements of our dimensions:')\n",
        "print(header.get_zooms())"
      ],
      "outputs": [
        {
          "output_type": "stream",
          "name": "stdout",
          "text": [
            "Get the measurements of our dimensions:\n",
            "(3.0, 3.0, 3.3, 2.0)\n"
          ]
        }
      ],
      "execution_count": null,
      "metadata": {
        "id": "84Z1bmhSsBqZ",
        "outputId": "f21e7213-a048-44a6-8486-6ec4f819c403",
        "colab": {
          "base_uri": "https://localhost:8080/"
        }
      }
    },
    {
      "cell_type": "markdown",
      "source": [
        "Above, the four numbers represent the measurements of the data's four dimensions (3 space dims, 1 time dim). But what the hell do these numbers represent? Millimeters, liters, km/hr?\n",
        "\n",
        "Actually, the units of these dimensions can be accessed through the `header.get_xyzt_units()` (x, y, and z = spatial dims, t = time dims):"
      ],
      "metadata": {
        "id": "pTOt4FiQsBqZ"
      }
    },
    {
      "cell_type": "code",
      "source": [
        "print('Units of our measurements:')\n",
        "print(header.get_xyzt_units())\n",
        "# so space is in mm (voxels are 3 x 3 x 3.3 mm in size!) and time is in seconds (time resolution = 2 seconds)"
      ],
      "outputs": [
        {
          "output_type": "stream",
          "name": "stdout",
          "text": [
            "Units of our measurements:\n",
            "('mm', 'sec')\n"
          ]
        }
      ],
      "execution_count": null,
      "metadata": {
        "id": "DIh5ZI0CsBqZ",
        "outputId": "063048c1-5e1e-434e-c742-6f10dc9ae7e2",
        "colab": {
          "base_uri": "https://localhost:8080/"
        }
      }
    },
    {
      "cell_type": "markdown",
      "source": [
        "So now we know that our data reflects activity from 3 x 3 x 3.3 mm voxels across 200 timepoints sampled at a time resolution of 2 seconds. Now, let's dig a little deeper into the data! But remember, we still have to load the actual data in memory. We can do that by the `get_data()` method. This method actually returns a numpy 4D-array we can work with!"
      ],
      "metadata": {
        "id": "o1L6UT4GsBqZ"
      }
    },
    {
      "cell_type": "code",
      "source": [
        "func_data_in_memory = data.get_fdata()\n",
        "print(type(func_data_in_memory))  # this is in fact a numpy array!"
      ],
      "outputs": [
        {
          "output_type": "stream",
          "name": "stdout",
          "text": [
            "<class 'numpy.ndarray'>\n"
          ]
        }
      ],
      "execution_count": null,
      "metadata": {
        "id": "Wu8VFKZNsBqZ",
        "outputId": "5e21aea4-023a-4a0d-adac-8a94861b8c6b",
        "colab": {
          "base_uri": "https://localhost:8080/"
        }
      }
    },
    {
      "cell_type": "markdown",
      "source": [
        "<div class='alert alert-warning'>\n",
        "<b>ToDo</b> (0 points)\n",
        "</div>\n",
        "From the variable `func_data_in_memory`, extract (i.e., index) all values (across time) from the voxel located at saggital slice number 30, coronal slice number 50, and axial slice number 23. Store these values in the variable `voxel_timeseries`, which should be of shape `(100,)`."
      ],
      "metadata": {
        "id": "sngh6YVqsBqZ"
      }
    },
    {
      "cell_type": "code",
      "source": [
        "# Implement the ToDo here (remember: Python's indexing is zero-based!)\n",
        "\n",
        "### BEGIN SOLUTION\n",
        "voxel_timeseries = func_data_in_memory[29, 49, 22, :]\n",
        "### END SOLUTION"
      ],
      "outputs": [],
      "execution_count": null,
      "metadata": {
        "nbgrader": {
          "grade": false,
          "grade_id": "cell-52430e474b2ce1d2",
          "locked": false,
          "schema_version": 1,
          "solution": true
        },
        "id": "FPFB-1IksBqZ"
      }
    },
    {
      "cell_type": "code",
      "source": [
        "''' Tests the above ToDo. '''\n",
        "if 'voxel_timeseries' not in dir():\n",
        "    raise ValueError(\"Could not find any variable named 'voxel_timeseries'; did you spell it correctly?\")\n",
        "\n",
        "#test_extract_voxel_timeseries(func_data_in_memory, voxel_timeseries)"
      ],
      "outputs": [],
      "execution_count": null,
      "metadata": {
        "nbgrader": {
          "grade": true,
          "grade_id": "cell-93c449262f025ca4",
          "locked": true,
          "points": 1,
          "schema_version": 1,
          "solution": false
        },
        "id": "AdmNRf5usBqa"
      }
    },
    {
      "cell_type": "markdown",
      "source": [
        "Let's look at some of the data! Because we have $80\\ (X) \\times\\ 80\\ (Y)\\times\\ 37\\ (Z)\\times\\ 100\\ (T) = 23680000$ values in total, let's not look at all data at once. We'll select a [axial](https://en.wikipedia.org/wiki/Anatomical_plane) slice somewhere in the middle of the brain of the first recorded volume (i.e. t = 1)."
      ],
      "metadata": {
        "id": "xcAsRsXCsBqa"
      }
    },
    {
      "cell_type": "code",
      "source": [
        "axial_slice_no = 18\n",
        "slice_1 = func_data_in_memory[:, :, axial_slice_no, 0] # the 0 refers to the first timepoint (t = 1)\n",
        "print(slice_1, '\\n')\n",
        "print('Shape of slice_1: %r' % list(slice_1.shape))"
      ],
      "outputs": [
        {
          "output_type": "stream",
          "name": "stdout",
          "text": [
            "[[0. 0. 0. ... 0. 0. 0.]\n",
            " [0. 0. 0. ... 0. 0. 0.]\n",
            " [0. 0. 0. ... 0. 0. 0.]\n",
            " ...\n",
            " [0. 0. 0. ... 0. 0. 0.]\n",
            " [0. 0. 0. ... 0. 0. 0.]\n",
            " [0. 0. 0. ... 0. 0. 0.]] \n",
            "\n",
            "Shape of slice_1: [80, 80]\n"
          ]
        }
      ],
      "execution_count": null,
      "metadata": {
        "id": "N_84V_ttsBqa",
        "outputId": "98500f09-2810-40b2-aacb-089e94f2ebfb",
        "colab": {
          "base_uri": "https://localhost:8080/"
        }
      }
    },
    {
      "cell_type": "markdown",
      "source": [
        "Hmm, seems like nothing is going on! This is because Python doesn't print out the entire array, because that would clutter the notebook. Here, it is only plotting the first couple of rows and the last couple of rows from slice_1. The fact that we're only seeing zeros is because not all 23680000 values contain brain data! If a data point has value 0, it is very likely that this data point falls outside the recording of the brain.\n",
        "\n",
        "Let's check whether this is indeed the case. To visualize the entire slice, let's plot is using `imshow`:"
      ],
      "metadata": {
        "id": "o6eHts3lsBqa"
      }
    },
    {
      "cell_type": "code",
      "source": [
        "plt.imshow(slice_1, cmap='gray')\n",
        "plt.axis('off')  # Do not plot the tickmarks of x-axis and y-axis \n",
        "plt.show()"
      ],
      "outputs": [
        {
          "output_type": "display_data",
          "data": {
            "text/plain": [
              "<Figure size 640x480 with 1 Axes>"
            ],
            "image/png": "[encoded data removed]"
          },
          "metadata": {}
        }
      ],
      "execution_count": null,
      "metadata": {
        "id": "rwTg1rMmsBqa",
        "outputId": "2d128be5-3c9d-429c-fc82-e2f475c605aa",
        "colab": {
          "base_uri": "https://localhost:8080/",
          "height": 406
        }
      }
    },
    {
      "cell_type": "markdown",
      "source": [
        "As you can see, only a part of the image is brain data, which is centered in the middle of the image. All completely black locations in the image are represented as zeros in the slice-data. Knowing this, let's select (slice) only a small part of some actual brain data, as visualized below:"
      ],
      "metadata": {
        "id": "YrZDzVhfsBqa"
      }
    },
    {
      "cell_type": "code",
      "source": [
        "import matplotlib.patches as patches\n",
        "\n",
        "print('We will select (index) the region indicated by red square:')\n",
        "rect = patches.Rectangle((35, 35), 5, 5, linewidth=2, edgecolor='r', facecolor='none')\n",
        "plt.imshow(slice_1, cmap='gray')\n",
        "ax = plt.gca()\n",
        "ax.add_patch(rect)\n",
        "plt.axis('off')\n",
        "plt.show()"
      ],
      "outputs": [
        {
          "output_type": "stream",
          "name": "stdout",
          "text": [
            "We will select (index) the region indicated by red square:\n"
          ]
        },
        {
          "output_type": "display_data",
          "data": {
            "text/plain": [
              "<Figure size 640x480 with 1 Axes>"
            ],
            "image/png": "[encoded data removed]"
          },
          "metadata": {}
        }
      ],
      "execution_count": null,
      "metadata": {
        "id": "Xmho6IBMsBqa",
        "outputId": "bb58eb5f-fce1-44cc-e311-c8ba03377450",
        "colab": {
          "base_uri": "https://localhost:8080/",
          "height": 424
        }
      }
    },
    {
      "cell_type": "code",
      "source": [
        "# The data corresponding to the red square above\n",
        "print(slice_1[35:41, 35:41])"
      ],
      "outputs": [
        {
          "output_type": "stream",
          "name": "stdout",
          "text": [
            "[[18910.75390625 19797.0078125  19496.70898438 18136.8125\n",
            "  16348.34082031 14807.34765625]\n",
            " [18662.03125    19416.50585938 19315.93164062 18834.49414062\n",
            "  17968.05273438 16776.8046875 ]\n",
            " [16337.76074219 18613.24023438 19266.78710938 18997.82617188\n",
            "  18172.81640625 17015.34375   ]\n",
            " [13643.8515625  16853.82617188 18110.59375    17964.703125\n",
            "  17332.22460938 16250.85253906]\n",
            " [13439.48242188 16374.29492188 16968.22265625 16023.9296875\n",
            "  15165.01464844 14135.76171875]\n",
            " [14196.33691406 16780.56835938 16897.6171875  15501.97558594\n",
            "  14583.22460938 13987.99414062]]\n"
          ]
        }
      ],
      "execution_count": null,
      "metadata": {
        "id": "P_w_KCzUsBqa",
        "outputId": "fd804c61-07f0-46a7-cf2e-e42ee03b12ea",
        "colab": {
          "base_uri": "https://localhost:8080/"
        }
      }
    },
    {
      "cell_type": "markdown",
      "source": [
        "What does this tell you? Well, fMRI data is simply a lot of numbers, with (relatively) higher numbers indicating (relatively) higher activity in functional MRI images.\n",
        "\n",
        "So far, we have only looked at some (static) representation of voxel activity of some voxels at one particular timepoint (i.e, $t = 1$, the first volume of the data), ignoring the time-dimension of our data. We can also look at the activity of a single voxel (e.g., $X = 35$, $Y = 35$, $Z=18$) across time.\n",
        "\n",
        "This basically amounts to indexing at these X/Y/Z coordinates! We'll show you what this entails conceptually in the code-block below, in which we show you that particular voxel at location X/Y/Z for the first 20 timepoints (not all 100, because that clutters the notebook too much):"
      ],
      "metadata": {
        "id": "u3m2JO10sBqa"
      }
    },
    {
      "cell_type": "code",
      "source": [
        "volumes_to_plot = 20\n",
        "plt.figure(figsize=(30, 30))\n",
        "\n",
        "# Loop over the first 20 volumes/timepoints\n",
        "for t in range(volumes_to_plot):\n",
        "    \n",
        "    plt.subplot(5, 5, (t+1))\n",
        "    plt.imshow(func_data_in_memory[:, :, axial_slice_no, t], cmap='gray')  # index with t!\n",
        "    rect = patches.Rectangle((35, 35), 1, 1, linewidth=1, edgecolor='r', facecolor='none')\n",
        "    ax = plt.gca()\n",
        "    ax.add_patch(rect)\n",
        "    plt.axis('off')\n",
        "    plt.title('t = %i' % (t + 1), fontsize=20)\n",
        "plt.show()"
      ],
      "outputs": [
        {
          "output_type": "display_data",
          "data": {
            "text/plain": [
              "<Figure size 3000x3000 with 20 Axes>"
            ],
            "image/png": "[encoded data removed]"
          },
          "metadata": {}
        }
      ],
      "execution_count": null,
      "metadata": {
        "id": "raqtsLMTsBqb",
        "outputId": "21ca679d-8c5e-4f59-b346-79ae95fae72c",
        "colab": {
          "base_uri": "https://localhost:8080/",
          "height": 1000
        }
      }
    },
    {
      "cell_type": "markdown",
      "source": [
        "It is really hard to spot whether the image of the slice is actually different between different time points! To the naked eye, it just seems like the same picture. This is because activity fluctations (over time) in fMRI are **very** small - most of the time just 1-3% compared to baseline (average) activity. That's why it's hard to spot activity differences by looking at the pictures alone.\n",
        "\n",
        "The activity fluctuations become clearer when you plot the activity of voxels across time in a linegraph (which allows you to see *relative* activity fluctuations better). So, let's plot the activity over time (t = 1:100) for the voxel within the red square in the figure above:"
      ],
      "metadata": {
        "id": "OwEDQxg2sBqb"
      }
    },
    {
      "cell_type": "code",
      "source": [
        "plt.plot(func_data_in_memory[35, 35, axial_slice_no, :])\n",
        "plt.title('Activity over time for voxel (35, 35, %i)' % axial_slice_no, fontsize=15)\n",
        "plt.xlabel('Time (t)', fontsize=15)\n",
        "plt.ylabel('Activity (arbitrary units)', fontsize=15)\n",
        "\n",
        "plt.show()"
      ],
      "outputs": [
        {
          "output_type": "display_data",
          "data": {
            "text/plain": [
              "<Figure size 640x480 with 1 Axes>"
            ],
            "image/png": "[encoded data removed]"
          },
          "metadata": {}
        }
      ],
      "execution_count": null,
      "metadata": {
        "id": "jLptT0-MsBqb",
        "outputId": "936779d7-6874-4b2e-b947-035299452512",
        "colab": {
          "base_uri": "https://localhost:8080/",
          "height": 480
        }
      }
    },
    {
      "cell_type": "markdown",
      "source": [
        "<div class='alert alert-warning'>\n",
        "<b>ToDo</b> (0 points)\n",
        "</div>\n",
        "\n",
        "Let's practice some of the skills that you learned in this tutorial! For this ToDo, you goal is to **plot an histogram of the average activity value across time for all non-zero voxels in the brain**. So, what you have to do is the following:\n",
        "\n",
        "1. Average the `func_data_in_memory` variable across time (resulting array should by of shape (80, 80, 37)\n",
        "2. Remove all voxels which are zero (use boolean indexing!)\n",
        "3. Make a histogram of all the resulting non-zero voxels (use the argument `bins=100` in `plt.hist`)\n",
        "\n",
        "Do this in the code-cell below. Also, *give the plot sensible labels for the axes*. This is a manually graded ToDo, so there is no test-cell.\n",
        "\n",
        "The resulting histogram should show a \"bimodal distribution\" of average activity values - roughly with a peak around $x = 1000$ and a peak round $x = 10,000$. "
      ],
      "metadata": {
        "id": "FQg9P3LEsBqb"
      }
    },
    {
      "cell_type": "code",
      "source": [
        "# Implement to ToDo here\n",
        "\n"
      ],
      "outputs": [],
      "execution_count": null,
      "metadata": {
        "nbgrader": {
          "grade": true,
          "grade_id": "cell-00ab5da92a127d0c",
          "locked": false,
          "points": 3,
          "schema_version": 1,
          "solution": true
        },
        "id": "3yDQ-HtVsBqb"
      }
    },
    {
      "cell_type": "markdown",
      "source": [
        "Alright, that's it! You finished the tutorial notebook! "
      ],
      "metadata": {
        "id": "RqPcv_ZlsBqb"
      }
    },
    {
      "cell_type": "markdown",
      "source": [
        "\n"
      ],
      "metadata": {
        "id": "w56m2zU5sBqb"
      }
    }
  ],
  "metadata": {
    "celltoolbar": "Create Assignment",
    "kernelspec": {
      "name": "python3",
      "language": "python",
      "display_name": "Python 3"
    },
    "language_info": {
      "name": "python",
      "version": "3.6.3",
      "mimetype": "text/x-python",
      "codemirror_mode": {
        "name": "ipython",
        "version": 3
      },
      "pygments_lexer": "ipython3",
      "nbconvert_exporter": "python",
      "file_extension": ".py"
    },
    "kernel_info": {
      "name": "python3"
    },
    "nteract": {
      "version": "0.15.0"
    },
    "colab": {
      "provenance": [],
      "include_colab_link": true
    }
  },
  "nbformat": 4,
  "nbformat_minor": 0
}